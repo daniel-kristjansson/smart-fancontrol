{
 "cells": [
  {
   "cell_type": "code",
   "execution_count": 1,
   "id": "ae7ccc8d-62f9-41d9-bc40-89a5441c5e3d",
   "metadata": {
    "tags": []
   },
   "outputs": [],
   "source": [
    "import tensorflow as tf\n",
    "import pandas as pd\n",
    "import pyarrow as pa\n",
    "import pyarrow.parquet as pq\n",
    "from tensorflow.keras.layers import Dense, Flatten, Conv2D, Input\n",
    "from tensorflow.keras import Model\n",
    "from tensorflow.keras.experimental import LinearModel"
   ]
  },
  {
   "cell_type": "code",
   "execution_count": 2,
   "id": "3ce8b0fd-b5b1-401e-998f-e134ec56157d",
   "metadata": {},
   "outputs": [],
   "source": [
    "%config Completer.use_jedi = False"
   ]
  },
  {
   "cell_type": "code",
   "execution_count": 3,
   "id": "9b233fd2-f0f0-475e-8fd5-a8d740a553cc",
   "metadata": {},
   "outputs": [
    {
     "name": "stdout",
     "output_type": "stream",
     "text": [
      "[PhysicalDevice(name='/physical_device:CPU:0', device_type='CPU')]\n",
      "1 Physical GPUs, 0 Logical GPUs\n"
     ]
    }
   ],
   "source": [
    "# Uncomment the following to disable GPU\n",
    "tf.config.threading.set_inter_op_parallelism_threads(4)\n",
    "tf.config.threading.set_intra_op_parallelism_threads(4)\n",
    "tf.config.set_visible_devices([], 'GPU')\n",
    "print(tf.config.get_visible_devices())\n",
    "gpus = tf.config.list_physical_devices('GPU')\n",
    "if gpus:\n",
    "  try:\n",
    "    # Currently, memory growth needs to be the same across GPUs\n",
    "    for gpu in gpus:\n",
    "      tf.config.experimental.set_memory_growth(gpu, True)\n",
    "    logical_gpus = tf.config.list_logical_devices('GPU')\n",
    "    print(len(gpus), \"Physical GPUs,\", len(logical_gpus), \"Logical GPUs\")\n",
    "  except RuntimeError as e:\n",
    "    # Memory growth must be set before GPUs have been initialized\n",
    "    print(e)\n",
    "    \n"
   ]
  },
  {
   "cell_type": "markdown",
   "id": "e38dfd52-f0bc-4c60-ba9e-fbad33f7b3a5",
   "metadata": {
    "tags": []
   },
   "source": [
    "# Import parquet data"
   ]
  },
  {
   "cell_type": "code",
   "execution_count": 6,
   "id": "25a8cbf7-1c85-42a8-9ac1-e96ecb5cdf44",
   "metadata": {},
   "outputs": [],
   "source": [
    "ds = pq.ParquetDataset(\"/var/log/fancontrol/featurelog\")\n",
    "ptable = ds.read().to_pandas()"
   ]
  },
  {
   "cell_type": "code",
   "execution_count": 7,
   "id": "e807f4aa-3d3e-4e33-95e7-2e4ec8d2b368",
   "metadata": {},
   "outputs": [],
   "source": [
    "# Get rid of outliers in power feture\n",
    "def clamp(num, min_value, max_value):\n",
    "   return max(min(num, max_value), min_value)\n",
    "power = ptable['power'].apply(lambda a: clamp(a[0], 0.0, 99.0))"
   ]
  },
  {
   "cell_type": "code",
   "execution_count": 8,
   "id": "229d0b4f-a7fc-4331-972c-e85acead17f9",
   "metadata": {},
   "outputs": [],
   "source": [
    "import seaborn as sns\n",
    "import statistics"
   ]
  },
  {
   "cell_type": "code",
   "execution_count": 9,
   "id": "b8f934e6-f8fd-487b-8b34-e4c2ea508c75",
   "metadata": {},
   "outputs": [],
   "source": [
    "cpu_idle = ptable['mean_cpu_idle'] = ptable['cpu_idle'].apply(statistics.mean)"
   ]
  },
  {
   "cell_type": "code",
   "execution_count": 10,
   "id": "4f58d3fa-68e8-4144-944d-df1b93d3d8c7",
   "metadata": {},
   "outputs": [
    {
     "data": {
      "text/plain": [
       "<seaborn.axisgrid.FacetGrid at 0x7f909f38d8d0>"
      ]
     },
     "execution_count": 10,
     "metadata": {},
     "output_type": "execute_result"
    },
    {
     "data": {
      "image/png": "[encoded data removed]",
      "text/plain": [
       "<Figure size 360x360 with 1 Axes>"
      ]
     },
     "metadata": {
      "needs_background": "light"
     },
     "output_type": "display_data"
    }
   ],
   "source": [
    "sns.displot(ptable['mean_cpu_idle'], binwidth=0.05, log=True)"
   ]
  },
  {
   "cell_type": "code",
   "execution_count": 11,
   "id": "2a5173ac-d696-4030-ae9f-2349a3713bfd",
   "metadata": {},
   "outputs": [],
   "source": [
    "def group_idle(val):\n",
    "    gval = 20.0 * val\n",
    "    try:\n",
    "        return int(gval)\n",
    "    except:\n",
    "        return 0\n",
    "\n",
    "ptable['ig'] = ptable['mean_cpu_idle'].apply(group_idle)"
   ]
  },
  {
   "cell_type": "code",
   "execution_count": 12,
   "id": "d3171081-0984-4d56-b350-28e2c970bf00",
   "metadata": {},
   "outputs": [],
   "source": [
    "groups = [ptable[ptable['ig']==i] for i in range(0,20)]"
   ]
  },
  {
   "cell_type": "code",
   "execution_count": 13,
   "id": "4d48c0cf-9b7a-4421-8fa1-8d55ba9e92f4",
   "metadata": {},
   "outputs": [
    {
     "data": {
      "text/plain": [
       "[131,\n",
       " 23,\n",
       " 19,\n",
       " 33,\n",
       " 46,\n",
       " 59,\n",
       " 115,\n",
       " 124,\n",
       " 265,\n",
       " 506,\n",
       " 1306,\n",
       " 6038,\n",
       " 4632,\n",
       " 5150,\n",
       " 8051,\n",
       " 27652,\n",
       " 245388,\n",
       " 87307,\n",
       " 302377,\n",
       " 1963793]"
      ]
     },
     "execution_count": 13,
     "metadata": {},
     "output_type": "execute_result"
    }
   ],
   "source": [
    "[len(groups[i]) for i in range(0,20)]"
   ]
  },
  {
   "cell_type": "code",
   "execution_count": 14,
   "id": "512b0ad5-39ed-4f98-8244-6083bc43a914",
   "metadata": {},
   "outputs": [],
   "source": [
    "!pip install sklearn > /dev/null"
   ]
  },
  {
   "cell_type": "code",
   "execution_count": 15,
   "id": "c63d99d2-7e37-420d-9a21-c74d1e52d687",
   "metadata": {},
   "outputs": [],
   "source": [
    "from sklearn.utils import resample\n",
    "g = [resample(groups[i], replace=True, n_samples=20410) for i in range(0, 20)]"
   ]
  },
  {
   "cell_type": "code",
   "execution_count": 16,
   "id": "0b61f62e-cfa3-4239-9c5f-2cf2e0903c5a",
   "metadata": {},
   "outputs": [],
   "source": [
    "balanced = pd.concat(g)"
   ]
  },
  {
   "cell_type": "code",
   "execution_count": 17,
   "id": "475cea98-88c5-4412-8c0a-d9d190e56685",
   "metadata": {},
   "outputs": [
    {
     "data": {
      "text/plain": [
       "<seaborn.axisgrid.FacetGrid at 0x7f8d96e8c978>"
      ]
     },
     "execution_count": 17,
     "metadata": {},
     "output_type": "execute_result"
    },
    {
     "data": {
      "image/png": "[encoded data removed]",
      "text/plain": [
       "<Figure size 360x360 with 1 Axes>"
      ]
     },
     "metadata": {
      "needs_background": "light"
     },
     "output_type": "display_data"
    }
   ],
   "source": [
    "sns.displot(balanced['mean_cpu_idle'], binwidth=0.05, log=True)"
   ]
  },
  {
   "cell_type": "code",
   "execution_count": 18,
   "id": "cc2c150c-b812-44aa-a1e8-963c3c918fdd",
   "metadata": {},
   "outputs": [],
   "source": [
    "ptable = balanced"
   ]
  },
  {
   "cell_type": "code",
   "execution_count": 19,
   "id": "1d0215f5-5d23-4e0f-8655-54fd5a3aa2c4",
   "metadata": {
    "tags": []
   },
   "outputs": [
    {
     "name": "stdout",
     "output_type": "stream",
     "text": [
      "['timestamp', 'cpuinfo', 'profile', 'cpu_idle', 'cpu_user', 'cpu_system', 'cpu_nice', 'power_constraints', 'power', 'temp', 'fan_rpm', 'year', 'month', 'day', 'mean_cpu_idle', 'ig']\n",
      "({'timestamp': tf.float32, 'cpuinfo': tf.float32, 'profile': tf.float32, 'cpu_idle': tf.float32, 'cpu_user': tf.float32, 'cpu_system': tf.float32, 'cpu_nice': tf.float32, 'power_constraints': tf.float32, 'power': tf.float32, 'temp': tf.float32, 'fan_rpm': tf.float32, 'year': tf.float32, 'month': tf.float32, 'day': tf.float32, 'mean_cpu_idle': tf.float32, 'ig': tf.float32}, tf.float32)\n",
      "({'timestamp': (1, 1), 'cpuinfo': (1, 8), 'profile': (1, 1), 'cpu_idle': (1, 8), 'cpu_user': (1, 8), 'cpu_system': (1, 8), 'cpu_nice': (1, 8), 'power_constraints': (1, 2), 'power': (1, 1), 'temp': (1, 10), 'fan_rpm': (1, 1), 'year': (1, 1), 'month': (1, 1), 'day': (1, 1), 'mean_cpu_idle': (1, 1), 'ig': (1, 1)}, (1,))\n"
     ]
    }
   ],
   "source": [
    "def feature_names():\n",
    "    l = list(ptable.columns.values)\n",
    "    l.remove('label')\n",
    "    return l\n",
    "\n",
    "def generator_types():\n",
    "    return ({k: tf.float32 for k in feature_names()}, tf.float32)\n",
    "\n",
    "def dim(val):\n",
    "    return 1 if isinstance(val, float) or isinstance(val, int) else len(val)\n",
    "\n",
    "def generator_shapes():\n",
    "    _, row = next(ptable.iterrows())\n",
    "    shapes = {k: (1, dim(row[k])) for k in feature_names()}\n",
    "    return tuple([shapes, (1,)])\n",
    "\n",
    "print(feature_names())\n",
    "print(generator_types())\n",
    "print(generator_shapes())"
   ]
  },
  {
   "cell_type": "code",
   "execution_count": 20,
   "id": "f83d0d44-a7a4-4ca2-82ac-3b0356cbf486",
   "metadata": {},
   "outputs": [],
   "source": [
    "def convert(key, value):\n",
    "    if isinstance(value, float) or isinstance(value, int):\n",
    "        return tf.reshape(tf.convert_to_tensor(value, tf.float32, name=key), (1, 1))\n",
    "    return tf.reshape(tf.convert_to_tensor(value, tf.float32, name=key), (1, dim(value)))\n",
    "\n",
    "def generator():\n",
    "    for index, row in ptable.iterrows():\n",
    "        f = {k: convert(k, row[k]) for k in feature_names()}\n",
    "        l = tf.convert_to_tensor(list([float(row['label'])]), tf.float32, name='label')\n",
    "        yield f, l"
   ]
  },
  {
   "cell_type": "code",
   "execution_count": 62,
   "id": "3fe8e2da-bc88-4eb4-84ad-f5c4785d7b2b",
   "metadata": {},
   "outputs": [
    {
     "name": "stdout",
     "output_type": "stream",
     "text": [
      "({'timestamp': array([[[1.6377565e+09]],\n",
      "\n",
      "       [[1.6378006e+09]]], dtype=float32), 'cpuinfo': array([[[2626.457, 2618.725, 2626.186, 2626.184, 2626.186, 2626.184,\n",
      "         2626.186, 2626.078]],\n",
      "\n",
      "       [[3632.358, 3643.844, 3348.178, 3644.106, 3632.358, 3643.868,\n",
      "         3348.178, 3644.106]]], dtype=float32), 'profile': array([[[1.]],\n",
      "\n",
      "       [[1.]]], dtype=float32), 'cpu_idle': array([[[0.03846154, 0.12      , 0.        , 0.        , 0.        ,\n",
      "         0.        , 0.        , 0.        ]],\n",
      "\n",
      "       [[0.        , 0.        , 0.        , 0.        , 0.        ,\n",
      "         0.        , 0.        , 0.        ]]], dtype=float32), 'cpu_user': array([[[0.9230769 , 0.6       , 1.        , 0.96153843, 1.        ,\n",
      "         1.        , 0.9230769 , 0.84615386]],\n",
      "\n",
      "       [[0.8666667 , 0.8666667 , 0.93333334, 0.93333334, 0.8666667 ,\n",
      "         0.79310346, 0.9       , 0.93333334]]], dtype=float32), 'cpu_system': array([[[0.03846154, 0.28      , 0.        , 0.03846154, 0.        ,\n",
      "         0.        , 0.07692308, 0.15384616]],\n",
      "\n",
      "       [[0.13333334, 0.13333334, 0.06666667, 0.06666667, 0.13333334,\n",
      "         0.20689656, 0.1       , 0.06666667]]], dtype=float32), 'cpu_nice': array([[[0., 0., 0., 0., 0., 0., 0., 0.]],\n",
      "\n",
      "       [[0., 0., 0., 0., 0., 0., 0., 0.]]], dtype=float32), 'power_constraints': array([[[20., 35.]],\n",
      "\n",
      "       [[20., 35.]]], dtype=float32), 'power': array([[[21.516453]],\n",
      "\n",
      "       [[34.965927]]], dtype=float32), 'temp': array([[[65.  , 63.  , 66.  , 65.  , 64.  , 66.  , 48.  , 50.85, 50.85,\n",
      "         65.  ]],\n",
      "\n",
      "       [[66.  , 79.  , 80.  , 76.  , 80.  , 80.  , 54.  , 55.85, 55.85,\n",
      "         66.  ]]], dtype=float32), 'fan_rpm': array([[[2790.]],\n",
      "\n",
      "       [[2838.]]], dtype=float32), 'year': array([[[2021.]],\n",
      "\n",
      "       [[2021.]]], dtype=float32), 'month': array([[[11.]],\n",
      "\n",
      "       [[11.]]], dtype=float32), 'day': array([[[24.]],\n",
      "\n",
      "       [[25.]]], dtype=float32), 'mean_cpu_idle': array([[[0.01980769]],\n",
      "\n",
      "       [[0.        ]]], dtype=float32), 'ig': array([[[0.]],\n",
      "\n",
      "       [[0.]]], dtype=float32)}, array([[2.],\n",
      "       [2.]], dtype=float32))\n"
     ]
    }
   ],
   "source": [
    "all = tf.data.Dataset.from_generator(generator, output_types=generator_types(), output_shapes=generator_shapes()) \\\n",
    "    .shuffle(10, reshuffle_each_iteration=False)\n",
    "n = next(all.batch(2).as_numpy_iterator())\n",
    "print(n)"
   ]
  },
  {
   "cell_type": "code",
   "execution_count": 63,
   "id": "d199cb24-4adf-41db-87be-6ec1fed7e72d",
   "metadata": {},
   "outputs": [
    {
     "data": {
      "text/plain": [
       "array([ 2,  1, 10], dtype=int32)"
      ]
     },
     "execution_count": 63,
     "metadata": {},
     "output_type": "execute_result"
    }
   ],
   "source": [
    "tf.shape(n[0]['temp']).numpy()"
   ]
  },
  {
   "cell_type": "code",
   "execution_count": 64,
   "id": "9f76b715-6c1f-435d-802a-a6503be03ac5",
   "metadata": {},
   "outputs": [
    {
     "data": {
      "text/plain": [
       "array([2, 1], dtype=int32)"
      ]
     },
     "execution_count": 64,
     "metadata": {},
     "output_type": "execute_result"
    }
   ],
   "source": [
    "tf.shape(n[1]).numpy()"
   ]
  },
  {
   "cell_type": "code",
   "execution_count": 26,
   "id": "8845e8f7-7134-4102-8a50-bc75fc42e4fd",
   "metadata": {},
   "outputs": [],
   "source": [
    "import utils\n",
    "train_dataset, test_dataset = utils.split_dataset(all, 8)"
   ]
  },
  {
   "cell_type": "markdown",
   "id": "773d1ca7-2918-4b2b-b841-9bb0defa052f",
   "metadata": {},
   "source": [
    "# Lets build a simple model"
   ]
  },
  {
   "cell_type": "code",
   "execution_count": 27,
   "id": "0e6e7e8a-4ddf-4b18-a4fb-529e08cf2d0d",
   "metadata": {},
   "outputs": [],
   "source": [
    "from tensorflow.keras import layers\n",
    "from tensorflow import keras"
   ]
  },
  {
   "cell_type": "code",
   "execution_count": 95,
   "id": "1021837f-2111-4fcf-aef7-e6db3d3b6461",
   "metadata": {},
   "outputs": [],
   "source": [
    "temp_input = Input(shape=(10,), name=\"temp\")\n",
    "cpu_idle_input = Input(shape=(8,), name=\"cpu_idle\")\n",
    "power_input = Input(shape=(1,), name=\"power\")\n",
    "fan_input = Input(shape=(1,), name=\"fan_rpm\")\n",
    "all_input = [power_input , temp_input] #, cpu_idle_input, fan_input]\n",
    "\n",
    "x = layers.concatenate(all_input)\n",
    "\n",
    "fanlevel_output = Dense(1, name=\"level\")(x)\n",
    "\n",
    "linear_model=keras.Model(inputs=all_input, outputs=[fanlevel_output])\n",
    "optimizer = keras.optimizers.Adam(learning_rate=0.001)\n",
    "linear_model.compile(optimizer=optimizer, loss='msle')\n",
    "\n",
    "keras.utils.plot_model(linear_model, \"multi_input_and_output_model.png\", show_shapes=True)"
   ]
  },
  {
   "cell_type": "code",
   "execution_count": 96,
   "id": "c0fbcc55-d689-442f-a8d5-a05fd76a33a5",
   "metadata": {},
   "outputs": [
    {
     "name": "stderr",
     "output_type": "stream",
     "text": [
      "/home/danielk/.pyenv/versions/3.6.11/envs/smart-fancontrol/lib/python3.6/site-packages/keras/engine/functional.py:585: UserWarning: Input dict contained keys ['timestamp', 'cpuinfo', 'profile', 'cpu_idle', 'cpu_user', 'cpu_system', 'cpu_nice', 'power_constraints', 'fan_rpm', 'year', 'month', 'day', 'mean_cpu_idle', 'ig'] which did not match any model input. They will be ignored by the model.\n",
      "  [n for n in tensors.keys() if n not in ref_input_names])\n"
     ]
    },
    {
     "name": "stdout",
     "output_type": "stream",
     "text": [
      "306150/306150 [==============================] - 1419s 5ms/step - loss: 0.0658\n"
     ]
    },
    {
     "data": {
      "text/plain": [
       "<keras.callbacks.History at 0x7f353a22a6a0>"
      ]
     },
     "execution_count": 96,
     "metadata": {},
     "output_type": "execute_result"
    }
   ],
   "source": [
    "linear_model.fit(train_dataset, epochs=1, batch_size=64)"
   ]
  },
  {
   "cell_type": "code",
   "execution_count": 113,
   "id": "3ad68db1-5b7c-4a78-85f0-e71f02c9134c",
   "metadata": {},
   "outputs": [
    {
     "name": "stdout",
     "output_type": "stream",
     "text": [
      "weights: [[-0.00143334]\n",
      " [ 0.54910326]\n",
      " [-0.00203671]\n",
      " [-0.00422742]\n",
      " [-0.00214741]\n",
      " [-0.00148244]\n",
      " [ 0.0047739 ]\n",
      " [-0.00961473]\n",
      " [ 0.3152248 ]\n",
      " [-0.26774046]\n",
      " [-0.54554415]]\n",
      "bias: [-0.648314]\n"
     ]
    }
   ],
   "source": [
    "for layer in linear_model.layers:\n",
    "    if layer.name == 'level':\n",
    "        print(\"weights: \" + str(layer.get_weights()[0]))\n",
    "        print(\"bias: \" + str(layer.get_weights()[1]))"
   ]
  },
  {
   "cell_type": "code",
   "execution_count": 131,
   "id": "99d84709-b705-4e25-844e-d04496b68213",
   "metadata": {},
   "outputs": [
    {
     "data": {
      "text/plain": [
       "{'temp': ['temp1.temp1_input',\n",
       "  'Core 0.temp2_input',\n",
       "  'Core 1.temp3_input',\n",
       "  'Core 2.temp4_input',\n",
       "  'Core 3.temp5_input',\n",
       "  'Package id 0.temp1_input',\n",
       "  'temp1.temp1_input',\n",
       "  'Composite.temp1_input',\n",
       "  'Sensor 1.temp2_input',\n",
       "  'CPU.temp1_input'],\n",
       " 'fan_rpm': ['Fan1.fan1_input']}"
      ]
     },
     "execution_count": 131,
     "metadata": {},
     "output_type": "execute_result"
    }
   ],
   "source": [
    "# extract_sensors_tensor_names output\n",
    "{'temp': ['temp1.temp1_input', 'Core 0.temp2_input', 'Core 1.temp3_input', 'Core 2.temp4_input', 'Core 3.temp5_input', 'Package id 0.temp1_input', 'temp1.temp1_input', 'Composite.temp1_input', 'Sensor 1.temp2_input', 'CPU.temp1_input'], 'fan_rpm': ['Fan1.fan1_input']}"
   ]
  },
  {
   "cell_type": "code",
   "execution_count": 114,
   "id": "954b9be7-f5fa-45a8-a87b-48a8926a201d",
   "metadata": {},
   "outputs": [
    {
     "data": {
      "text/plain": [
       "array([[[65.  , 63.  , 66.  , 65.  , 64.  , 66.  , 48.  , 50.85, 50.85,\n",
       "         65.  ]],\n",
       "\n",
       "       [[66.  , 79.  , 80.  , 76.  , 80.  , 80.  , 54.  , 55.85, 55.85,\n",
       "         66.  ]]], dtype=float32)"
      ]
     },
     "execution_count": 114,
     "metadata": {},
     "output_type": "execute_result"
    }
   ],
   "source": [
    "n[0]['temp']"
   ]
  },
  {
   "cell_type": "markdown",
   "id": "a0ae944d-3695-4f82-b049-6ac2116dbf58",
   "metadata": {},
   "source": [
    "It appears that these four are the only ones that matter\n",
    "'Core 0.temp2_input' 'CPU.temp1_input' 'Composite.temp1_input', 'Sensor 1.temp2_input' for the linear model"
   ]
  },
  {
   "cell_type": "markdown",
   "id": "49e31478-7f6a-47f3-bf74-68e10b1d5198",
   "metadata": {},
   "source": [
    "Let's save the model and then evaluate it on the test set"
   ]
  },
  {
   "cell_type": "code",
   "execution_count": 115,
   "id": "8988e3f2-c07b-4b43-89ed-05809ed2935a",
   "metadata": {},
   "outputs": [
    {
     "name": "stdout",
     "output_type": "stream",
     "text": [
      "INFO:tensorflow:Assets written to: clean_train/assets\n"
     ]
    }
   ],
   "source": [
    "linear_model.save(\"clean_train\")"
   ]
  },
  {
   "cell_type": "code",
   "execution_count": 132,
   "id": "cc96e629-c7b7-4782-a982-505cc5688794",
   "metadata": {},
   "outputs": [
    {
     "name": "stdout",
     "output_type": "stream",
     "text": [
      "Evaluate on test data\n",
      "102050/102050 [==============================] - 789s 8ms/step - loss: 0.0913\n",
      "test loss, test acc: 0.09127047657966614\n"
     ]
    }
   ],
   "source": [
    "print(\"Evaluate on test data\")\n",
    "results = linear_model.evaluate(test_dataset, batch_size=1024)\n",
    "print(\"test loss, test acc:\", results)"
   ]
  },
  {
   "cell_type": "markdown",
   "id": "44234947-ba81-4d94-99f9-426cc69c6273",
   "metadata": {},
   "source": [
    "The loss a bit higher than the training loss. So we probably overfit that data.\n",
    "\n",
    "But that's ok. Right now we're just trying to see if we can learn anything. i.e. there are some correlations to be had in the data.\n",
    "\n",
    "In this setup we are really just trying to learn the heuristic and since that is non-linear we'll alway be a bit off with this linear model."
   ]
  },
  {
   "cell_type": "code",
   "execution_count": 135,
   "id": "e3aa6b96-19c6-4bd2-9985-d6f8b88b6dda",
   "metadata": {},
   "outputs": [
    {
     "data": {
      "text/plain": [
       "array([[1.018949]], dtype=float32)"
      ]
     },
     "execution_count": 135,
     "metadata": {},
     "output_type": "execute_result"
    }
   ],
   "source": [
    "f = {'power': tf.reshape(tf.constant(5.0), (1,1)),\n",
    "     'temp': tf.reshape(tf.constant([39., 33., 34., 34., 34., 38., 36., 42.85, 42.85, 39.]), (1, 10))}\n",
    "linear_model.predict(f)"
   ]
  },
  {
   "cell_type": "code",
   "execution_count": 136,
   "id": "8ac5871b-5aaf-4177-9384-5598e95bc026",
   "metadata": {},
   "outputs": [],
   "source": [
    "model = tf.keras.models.load_model('/home/danielk/code/smart-fancontrol/features/clean_train')"
   ]
  },
  {
   "cell_type": "code",
   "execution_count": 137,
   "id": "2ca3a2d1-831a-4c3a-a7ea-e484ebc1bc04",
   "metadata": {},
   "outputs": [
    {
     "data": {
      "text/plain": [
       "array([[1.018949]], dtype=float32)"
      ]
     },
     "execution_count": 137,
     "metadata": {},
     "output_type": "execute_result"
    }
   ],
   "source": [
    "model.predict(f)"
   ]
  },
  {
   "cell_type": "code",
   "execution_count": 139,
   "id": "09c6aa34-eb80-4b74-ae66-b50a44883bf7",
   "metadata": {},
   "outputs": [
    {
     "data": {
      "text/plain": [
       "array([[8.990961]], dtype=float32)"
      ]
     },
     "execution_count": 139,
     "metadata": {},
     "output_type": "execute_result"
    }
   ],
   "source": [
    "f = {'power': tf.reshape(tf.constant(5.0), (1,1)),\n",
    "     'temp': tf.reshape(tf.constant([79., 33., 34., 34., 34., 38., 36., 92.85, 92.85, 69.]), (1, 10))}\n",
    "model.predict(f)"
   ]
  },
  {
   "cell_type": "code",
   "execution_count": 140,
   "id": "d7668d92-821b-4f2e-9ec1-bd3bf71d4a26",
   "metadata": {},
   "outputs": [
    {
     "data": {
      "text/plain": [
       "array([[-1.9199204]], dtype=float32)"
      ]
     },
     "execution_count": 140,
     "metadata": {},
     "output_type": "execute_result"
    }
   ],
   "source": [
    "f = {'power': tf.reshape(tf.constant(5.0), (1,1)),\n",
    "     'temp': tf.reshape(tf.constant([79., 33., 34., 34., 34., 38., 36., 92.85, 92.85, 89.]), (1, 10))}\n",
    "model.predict(f)"
   ]
  },
  {
   "cell_type": "markdown",
   "id": "fea12d81-030e-4641-83d3-9f644e95190e",
   "metadata": {},
   "source": [
    "Some of what has been learned is bunk :) Higher temps should not make the fan go slower!"
   ]
  },
  {
   "cell_type": "markdown",
   "id": "36463256-3a1a-4bc0-b5b5-b38aefac0f38",
   "metadata": {},
   "source": [
    "# Fewer features, better model?"
   ]
  },
  {
   "cell_type": "markdown",
   "id": "0a210dbf-64bc-4103-a465-8b3e0470e401",
   "metadata": {},
   "source": [
    "The composite temperature it learned this about is from the ssd drive. This is a loosely correlated temperature\n",
    "as it is not on the same heat pipe as the CPU and graphics.\n",
    "\n",
    "Let's try just using the Package 0 temperature and the power. The power feature probably isn't important given the weight\n",
    "it gave us in the last model, but it's I want to see if that is still the case with less temps."
   ]
  },
  {
   "cell_type": "code",
   "execution_count": 21,
   "id": "0248cc5e-a42a-4fb0-9896-3211e0c4f9fe",
   "metadata": {},
   "outputs": [],
   "source": [
    "ptable['package0'] = ptable['temp'].apply(lambda t: t[5])"
   ]
  },
  {
   "cell_type": "code",
   "execution_count": 22,
   "id": "18a92be8-2265-4161-8336-66099cb11384",
   "metadata": {},
   "outputs": [],
   "source": [
    "all = tf.data.Dataset.from_generator(generator, output_types=generator_types(), output_shapes=generator_shapes()) \\\n",
    "    .shuffle(10, reshuffle_each_iteration=False)"
   ]
  },
  {
   "cell_type": "code",
   "execution_count": 28,
   "id": "5fe9c5eb-b9a6-4452-9f28-b7e4661e5b89",
   "metadata": {},
   "outputs": [],
   "source": [
    "import utils\n",
    "train_dataset, test_dataset = utils.split_dataset(all, 8)"
   ]
  },
  {
   "cell_type": "code",
   "execution_count": 29,
   "id": "ee380eaa-d158-4a4b-b2e3-c3bd7a4dbe5f",
   "metadata": {},
   "outputs": [
    {
     "data": {
      "image/png": "[encoded data removed]",
      "text/plain": [
       "<IPython.core.display.Image object>"
      ]
     },
     "execution_count": 29,
     "metadata": {},
     "output_type": "execute_result"
    }
   ],
   "source": [
    "temp_input = Input(shape=(1,), name=\"package0\")\n",
    "cpu_idle_input = Input(shape=(8,), name=\"cpu_idle\")\n",
    "power_input = Input(shape=(1,), name=\"power\")\n",
    "fan_input = Input(shape=(1,), name=\"fan_rpm\")\n",
    "all_input = [power_input , temp_input] #, cpu_idle_input, fan_input]\n",
    "\n",
    "x = layers.concatenate(all_input)\n",
    "\n",
    "fanlevel_output = Dense(1, name=\"level\")(x)\n",
    "\n",
    "linear_model=keras.Model(inputs=all_input, outputs=[fanlevel_output])\n",
    "optimizer = keras.optimizers.Adam()#learning_rate=0.001)\n",
    "linear_model.compile(optimizer=optimizer, loss='msle', metrics=[\"mae\"])\n",
    "\n",
    "keras.utils.plot_model(linear_model, \"fewer_features.png\", show_shapes=True)"
   ]
  },
  {
   "cell_type": "code",
   "execution_count": 32,
   "id": "c12b50d9-b6c2-48ac-9e36-35e56b4cab2a",
   "metadata": {},
   "outputs": [
    {
     "name": "stdout",
     "output_type": "stream",
     "text": [
      "1000/1000 [==============================] - 3s 3ms/step - loss: 0.0140\n"
     ]
    },
    {
     "data": {
      "text/plain": [
       "<keras.callbacks.History at 0x7f900688d208>"
      ]
     },
     "execution_count": 32,
     "metadata": {},
     "output_type": "execute_result"
    }
   ],
   "source": [
    "linear_model.fit(train_dataset.take(1000), epochs=1, batch_size=128)"
   ]
  },
  {
   "cell_type": "code",
   "execution_count": 33,
   "id": "1bda0f8f-8290-475e-93c8-4e1371e0176a",
   "metadata": {},
   "outputs": [
    {
     "name": "stdout",
     "output_type": "stream",
     "text": [
      "weights: [[-0.01000601]\n",
      " [ 0.05290201]]\n",
      "bias: [-1.5018525]\n"
     ]
    }
   ],
   "source": [
    "for layer in linear_model.layers:\n",
    "    if layer.name == 'level':\n",
    "        print(\"weights: \" + str(layer.get_weights()[0]))\n",
    "        print(\"bias: \" + str(layer.get_weights()[1]))"
   ]
  },
  {
   "cell_type": "code",
   "execution_count": 35,
   "id": "96c8719b-e0b0-4207-998f-2aa6ed9cd73c",
   "metadata": {},
   "outputs": [
    {
     "name": "stderr",
     "output_type": "stream",
     "text": [
      "/home/danielk/.pyenv/versions/3.6.11/envs/smart-fancontrol/lib/python3.6/site-packages/keras/engine/functional.py:585: UserWarning: Input dict contained keys ['temp'] which did not match any model input. They will be ignored by the model.\n",
      "  [n for n in tensors.keys() if n not in ref_input_names])\n"
     ]
    },
    {
     "data": {
      "text/plain": [
       "array([[0.4583938]], dtype=float32)"
      ]
     },
     "execution_count": 35,
     "metadata": {},
     "output_type": "execute_result"
    }
   ],
   "source": [
    "f = {'power': tf.reshape(tf.constant(5.0), (1,1)),\n",
    "     'package0': tf.reshape(tf.constant([38.]), (1, 1)),\n",
    "     'temp': tf.reshape(tf.constant([39., 33., 34., 34., 34., 38., 36., 42.85, 42.85, 39.]), (1, 10))}\n",
    "linear_model.predict(f)"
   ]
  },
  {
   "cell_type": "code",
   "execution_count": 36,
   "id": "b4fd678d-039b-4878-947f-b67babf532e9",
   "metadata": {},
   "outputs": [
    {
     "data": {
      "text/plain": [
       "array([[2.151258]], dtype=float32)"
      ]
     },
     "execution_count": 36,
     "metadata": {},
     "output_type": "execute_result"
    }
   ],
   "source": [
    "f = {'power': tf.reshape(tf.constant(5.0), (1,1)),\n",
    "     'package0': tf.reshape(tf.constant([70.]), (1, 1))}\n",
    "linear_model.predict(f)"
   ]
  },
  {
   "cell_type": "code",
   "execution_count": 37,
   "id": "3222545a-786a-4263-9122-2e6a7cd60fb2",
   "metadata": {},
   "outputs": [
    {
     "data": {
      "text/plain": [
       "array([[3.2092977]], dtype=float32)"
      ]
     },
     "execution_count": 37,
     "metadata": {},
     "output_type": "execute_result"
    }
   ],
   "source": [
    "f = {'power': tf.reshape(tf.constant(5.0), (1,1)),\n",
    "     'package0': tf.reshape(tf.constant([90.]), (1, 1))}\n",
    "linear_model.predict(f)"
   ]
  },
  {
   "cell_type": "code",
   "execution_count": null,
   "id": "5ed03e51-09fc-493c-b282-717e39533bc8",
   "metadata": {},
   "outputs": [
    {
     "name": "stdout",
     "output_type": "stream",
     "text": [
      "Evaluate on test data\n"
     ]
    },
    {
     "name": "stderr",
     "output_type": "stream",
     "text": [
      "/home/danielk/.pyenv/versions/3.6.11/envs/smart-fancontrol/lib/python3.6/site-packages/keras/engine/functional.py:585: UserWarning: Input dict contained keys ['timestamp', 'cpuinfo', 'profile', 'cpu_idle', 'cpu_user', 'cpu_system', 'cpu_nice', 'power_constraints', 'temp', 'fan_rpm', 'year', 'month', 'day', 'mean_cpu_idle', 'ig'] which did not match any model input. They will be ignored by the model.\n",
      "  [n for n in tensors.keys() if n not in ref_input_names])\n"
     ]
    },
    {
     "name": "stdout",
     "output_type": "stream",
     "text": [
      "  32633/Unknown - 1130s 35ms/step - loss: 0.0260"
     ]
    }
   ],
   "source": [
    "print(\"Evaluate on test data\")\n",
    "results = linear_model.evaluate(test_dataset, batch_size=1024)\n",
    "print(\"test loss, test acc:\", results)"
   ]
  }
 ],
 "metadata": {
  "kernelspec": {
   "display_name": "Python 3",
   "language": "python",
   "name": "python3"
  },
  "language_info": {
   "codemirror_mode": {
    "name": "ipython",
    "version": 3
   },
   "file_extension": ".py",
   "mimetype": "text/x-python",
   "name": "python",
   "nbconvert_exporter": "python",
   "pygments_lexer": "ipython3",
   "version": "3.6.11"
  }
 },
 "nbformat": 4,
 "nbformat_minor": 5
}
