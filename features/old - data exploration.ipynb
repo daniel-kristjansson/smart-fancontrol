{
 "cells": [
  {
   "cell_type": "code",
   "execution_count": null,
   "id": "950debee-b03f-4463-8e8f-cbba0f29f747",
   "metadata": {},
   "outputs": [],
   "source": [
    "This notebook contains some initial exporation of the features and fan control.\n",
    "\n",
    "It was created when I was still logging the feature data in the log file.\n",
    "\n",
    "It was also created before I realized that I could set the power budget of the CPU.\n",
    "\n",
    "The 'Explore the data' notebook looks at the current parquet feature logs and so\n",
    "is a better starting point for understanding the data.\n",
    "\n",
    "I do some data processing here though which may prove useful elsewhere."
   ]
  },
  {
   "cell_type": "markdown",
   "id": "3a361bbe-3e0e-4a74-8979-da35e7746504",
   "metadata": {},
   "source": [
    "For great example of dealing with time based data in pandas see this medium post:\n",
    "https://medium.com/@alexander.mueller/rolling-aggregations-on-time-series-data-with-pandas-80dee5893f9"
   ]
  },
  {
   "cell_type": "code",
   "execution_count": 1,
   "id": "e7086d1a-6642-4573-9a17-805ef67fd9ba",
   "metadata": {},
   "outputs": [],
   "source": [
    "#!pip install pandarellel"
   ]
  },
  {
   "cell_type": "code",
   "execution_count": 2,
   "id": "79d47547-21a0-4c83-88e6-d8057fb5adbd",
   "metadata": {},
   "outputs": [],
   "source": [
    "#!pip install scipy"
   ]
  },
  {
   "cell_type": "code",
   "execution_count": 3,
   "id": "a8c57b79-53e5-41b0-a9bb-c714fc093f58",
   "metadata": {},
   "outputs": [],
   "source": [
    "#!pip install seaborn"
   ]
  },
  {
   "cell_type": "code",
   "execution_count": 4,
   "id": "a6b07038-326e-48f4-8fed-e6fe4e1cd37a",
   "metadata": {},
   "outputs": [],
   "source": [
    "import pandas as pd\n",
    "import numpy as np\n",
    "import seaborn as sns\n",
    "from pandarallel import pandarallel"
   ]
  },
  {
   "cell_type": "markdown",
   "id": "8c97b57f-86e9-4040-9ef2-54ac67119e69",
   "metadata": {},
   "source": [
    "I'm impatient so I want to use my CPU's when I can :)"
   ]
  },
  {
   "cell_type": "code",
   "execution_count": 5,
   "id": "60bc0c45-6165-4ec7-969b-06c134321dd3",
   "metadata": {},
   "outputs": [
    {
     "name": "stdout",
     "output_type": "stream",
     "text": [
      "INFO: Pandarallel will run on 4 workers.\n",
      "INFO: Pandarallel will use Memory file system to transfer data between the main process and workers.\n"
     ]
    }
   ],
   "source": [
    "pandarallel.initialize(nb_workers=4)"
   ]
  },
  {
   "cell_type": "code",
   "execution_count": 6,
   "id": "d8208432-09b4-4ddb-9703-d95043377b14",
   "metadata": {},
   "outputs": [],
   "source": [
    "data = pd.read_csv('fancontrol.log.gz', header=None,\n",
    "                   parse_dates=[[0,1]], infer_datetime_format=True,\n",
    "                   delim_whitespace=True)"
   ]
  },
  {
   "cell_type": "code",
   "execution_count": 7,
   "id": "15abefb0-eef6-4143-91f5-83007e9f5fc9",
   "metadata": {},
   "outputs": [
    {
     "data": {
      "text/html": [
       "<div>\n",
       "<style scoped>\n",
       "    .dataframe tbody tr th:only-of-type {\n",
       "        vertical-align: middle;\n",
       "    }\n",
       "\n",
       "    .dataframe tbody tr th {\n",
       "        vertical-align: top;\n",
       "    }\n",
       "\n",
       "    .dataframe thead th {\n",
       "        text-align: right;\n",
       "    }\n",
       "</style>\n",
       "<table border=\"1\" class=\"dataframe\">\n",
       "  <thead>\n",
       "    <tr style=\"text-align: right;\">\n",
       "      <th></th>\n",
       "      <th>0_1</th>\n",
       "      <th>2</th>\n",
       "      <th>3</th>\n",
       "      <th>4</th>\n",
       "      <th>5</th>\n",
       "      <th>6</th>\n",
       "      <th>7</th>\n",
       "      <th>8</th>\n",
       "      <th>9</th>\n",
       "      <th>10</th>\n",
       "      <th>...</th>\n",
       "      <th>48</th>\n",
       "      <th>49</th>\n",
       "      <th>50</th>\n",
       "      <th>51</th>\n",
       "      <th>52</th>\n",
       "      <th>53</th>\n",
       "      <th>54</th>\n",
       "      <th>55</th>\n",
       "      <th>56</th>\n",
       "      <th>57</th>\n",
       "    </tr>\n",
       "  </thead>\n",
       "  <tbody>\n",
       "    <tr>\n",
       "      <th>0</th>\n",
       "      <td>2021-07-02 18:12:32.119635</td>\n",
       "      <td>42.0</td>\n",
       "      <td>41.0</td>\n",
       "      <td>37.0</td>\n",
       "      <td>40.0</td>\n",
       "      <td>38.0</td>\n",
       "      <td>42.0</td>\n",
       "      <td>40.0</td>\n",
       "      <td>42.85</td>\n",
       "      <td>42.85</td>\n",
       "      <td>...</td>\n",
       "      <td>0.000000</td>\n",
       "      <td>0.909091</td>\n",
       "      <td>0.0</td>\n",
       "      <td>0.000000</td>\n",
       "      <td>0.090909</td>\n",
       "      <td>0.987805</td>\n",
       "      <td>0.0</td>\n",
       "      <td>0.000000</td>\n",
       "      <td>0.012195</td>\n",
       "      <td>2.0</td>\n",
       "    </tr>\n",
       "    <tr>\n",
       "      <th>1</th>\n",
       "      <td>2021-07-02 18:12:32.279333</td>\n",
       "      <td>42.0</td>\n",
       "      <td>41.0</td>\n",
       "      <td>37.0</td>\n",
       "      <td>40.0</td>\n",
       "      <td>38.0</td>\n",
       "      <td>42.0</td>\n",
       "      <td>40.0</td>\n",
       "      <td>42.85</td>\n",
       "      <td>42.85</td>\n",
       "      <td>...</td>\n",
       "      <td>0.000000</td>\n",
       "      <td>0.913043</td>\n",
       "      <td>0.0</td>\n",
       "      <td>0.043478</td>\n",
       "      <td>0.043478</td>\n",
       "      <td>0.966184</td>\n",
       "      <td>0.0</td>\n",
       "      <td>0.009662</td>\n",
       "      <td>0.024155</td>\n",
       "      <td>2.0</td>\n",
       "    </tr>\n",
       "    <tr>\n",
       "      <th>2</th>\n",
       "      <td>2021-07-02 18:12:32.438482</td>\n",
       "      <td>42.0</td>\n",
       "      <td>41.0</td>\n",
       "      <td>37.0</td>\n",
       "      <td>40.0</td>\n",
       "      <td>38.0</td>\n",
       "      <td>42.0</td>\n",
       "      <td>40.0</td>\n",
       "      <td>42.85</td>\n",
       "      <td>42.85</td>\n",
       "      <td>...</td>\n",
       "      <td>0.000000</td>\n",
       "      <td>0.914286</td>\n",
       "      <td>0.0</td>\n",
       "      <td>0.028571</td>\n",
       "      <td>0.057143</td>\n",
       "      <td>0.966565</td>\n",
       "      <td>0.0</td>\n",
       "      <td>0.009119</td>\n",
       "      <td>0.024316</td>\n",
       "      <td>2.0</td>\n",
       "    </tr>\n",
       "    <tr>\n",
       "      <th>3</th>\n",
       "      <td>2021-07-02 18:12:32.597555</td>\n",
       "      <td>42.0</td>\n",
       "      <td>41.0</td>\n",
       "      <td>37.0</td>\n",
       "      <td>40.0</td>\n",
       "      <td>38.0</td>\n",
       "      <td>42.0</td>\n",
       "      <td>40.0</td>\n",
       "      <td>42.85</td>\n",
       "      <td>42.85</td>\n",
       "      <td>...</td>\n",
       "      <td>0.000000</td>\n",
       "      <td>0.941176</td>\n",
       "      <td>0.0</td>\n",
       "      <td>0.019608</td>\n",
       "      <td>0.039216</td>\n",
       "      <td>0.971239</td>\n",
       "      <td>0.0</td>\n",
       "      <td>0.008850</td>\n",
       "      <td>0.019912</td>\n",
       "      <td>2.0</td>\n",
       "    </tr>\n",
       "    <tr>\n",
       "      <th>4</th>\n",
       "      <td>2021-07-02 18:12:32.757193</td>\n",
       "      <td>42.0</td>\n",
       "      <td>41.0</td>\n",
       "      <td>37.0</td>\n",
       "      <td>40.0</td>\n",
       "      <td>38.0</td>\n",
       "      <td>42.0</td>\n",
       "      <td>40.0</td>\n",
       "      <td>42.85</td>\n",
       "      <td>42.85</td>\n",
       "      <td>...</td>\n",
       "      <td>0.000000</td>\n",
       "      <td>0.954545</td>\n",
       "      <td>0.0</td>\n",
       "      <td>0.015152</td>\n",
       "      <td>0.030303</td>\n",
       "      <td>0.973913</td>\n",
       "      <td>0.0</td>\n",
       "      <td>0.008696</td>\n",
       "      <td>0.017391</td>\n",
       "      <td>2.0</td>\n",
       "    </tr>\n",
       "    <tr>\n",
       "      <th>...</th>\n",
       "      <td>...</td>\n",
       "      <td>...</td>\n",
       "      <td>...</td>\n",
       "      <td>...</td>\n",
       "      <td>...</td>\n",
       "      <td>...</td>\n",
       "      <td>...</td>\n",
       "      <td>...</td>\n",
       "      <td>...</td>\n",
       "      <td>...</td>\n",
       "      <td>...</td>\n",
       "      <td>...</td>\n",
       "      <td>...</td>\n",
       "      <td>...</td>\n",
       "      <td>...</td>\n",
       "      <td>...</td>\n",
       "      <td>...</td>\n",
       "      <td>...</td>\n",
       "      <td>...</td>\n",
       "      <td>...</td>\n",
       "      <td>...</td>\n",
       "    </tr>\n",
       "    <tr>\n",
       "      <th>680857</th>\n",
       "      <td>2021-07-04 13:14:14.406338</td>\n",
       "      <td>40.0</td>\n",
       "      <td>36.0</td>\n",
       "      <td>34.0</td>\n",
       "      <td>35.0</td>\n",
       "      <td>33.0</td>\n",
       "      <td>39.0</td>\n",
       "      <td>36.0</td>\n",
       "      <td>43.85</td>\n",
       "      <td>43.85</td>\n",
       "      <td>...</td>\n",
       "      <td>0.000000</td>\n",
       "      <td>1.000000</td>\n",
       "      <td>0.0</td>\n",
       "      <td>0.000000</td>\n",
       "      <td>0.000000</td>\n",
       "      <td>0.975610</td>\n",
       "      <td>0.0</td>\n",
       "      <td>0.012195</td>\n",
       "      <td>0.012195</td>\n",
       "      <td>0.0</td>\n",
       "    </tr>\n",
       "    <tr>\n",
       "      <th>680858</th>\n",
       "      <td>2021-07-04 13:14:14.567028</td>\n",
       "      <td>40.0</td>\n",
       "      <td>36.0</td>\n",
       "      <td>34.0</td>\n",
       "      <td>35.0</td>\n",
       "      <td>33.0</td>\n",
       "      <td>39.0</td>\n",
       "      <td>36.0</td>\n",
       "      <td>43.85</td>\n",
       "      <td>43.85</td>\n",
       "      <td>...</td>\n",
       "      <td>0.038462</td>\n",
       "      <td>1.000000</td>\n",
       "      <td>0.0</td>\n",
       "      <td>0.000000</td>\n",
       "      <td>0.000000</td>\n",
       "      <td>0.970874</td>\n",
       "      <td>0.0</td>\n",
       "      <td>0.014563</td>\n",
       "      <td>0.014563</td>\n",
       "      <td>0.0</td>\n",
       "    </tr>\n",
       "    <tr>\n",
       "      <th>680859</th>\n",
       "      <td>2021-07-04 13:14:14.726387</td>\n",
       "      <td>40.0</td>\n",
       "      <td>36.0</td>\n",
       "      <td>34.0</td>\n",
       "      <td>35.0</td>\n",
       "      <td>33.0</td>\n",
       "      <td>39.0</td>\n",
       "      <td>36.0</td>\n",
       "      <td>43.85</td>\n",
       "      <td>43.85</td>\n",
       "      <td>...</td>\n",
       "      <td>0.023256</td>\n",
       "      <td>0.953488</td>\n",
       "      <td>0.0</td>\n",
       "      <td>0.046512</td>\n",
       "      <td>0.000000</td>\n",
       "      <td>0.975904</td>\n",
       "      <td>0.0</td>\n",
       "      <td>0.012048</td>\n",
       "      <td>0.012048</td>\n",
       "      <td>0.0</td>\n",
       "    </tr>\n",
       "    <tr>\n",
       "      <th>680860</th>\n",
       "      <td>2021-07-04 13:14:14.886328</td>\n",
       "      <td>40.0</td>\n",
       "      <td>36.0</td>\n",
       "      <td>34.0</td>\n",
       "      <td>35.0</td>\n",
       "      <td>33.0</td>\n",
       "      <td>39.0</td>\n",
       "      <td>36.0</td>\n",
       "      <td>43.85</td>\n",
       "      <td>43.85</td>\n",
       "      <td>...</td>\n",
       "      <td>0.016949</td>\n",
       "      <td>0.965517</td>\n",
       "      <td>0.0</td>\n",
       "      <td>0.034483</td>\n",
       "      <td>0.000000</td>\n",
       "      <td>0.973684</td>\n",
       "      <td>0.0</td>\n",
       "      <td>0.013158</td>\n",
       "      <td>0.013158</td>\n",
       "      <td>0.0</td>\n",
       "    </tr>\n",
       "    <tr>\n",
       "      <th>680861</th>\n",
       "      <td>2021-07-04 13:14:15.055814</td>\n",
       "      <td>40.0</td>\n",
       "      <td>34.0</td>\n",
       "      <td>33.0</td>\n",
       "      <td>35.0</td>\n",
       "      <td>36.0</td>\n",
       "      <td>39.0</td>\n",
       "      <td>36.0</td>\n",
       "      <td>43.85</td>\n",
       "      <td>43.85</td>\n",
       "      <td>...</td>\n",
       "      <td>0.013333</td>\n",
       "      <td>0.972603</td>\n",
       "      <td>0.0</td>\n",
       "      <td>0.027397</td>\n",
       "      <td>0.000000</td>\n",
       "      <td>0.976190</td>\n",
       "      <td>0.0</td>\n",
       "      <td>0.011905</td>\n",
       "      <td>0.011905</td>\n",
       "      <td>0.0</td>\n",
       "    </tr>\n",
       "  </tbody>\n",
       "</table>\n",
       "<p>680862 rows × 57 columns</p>\n",
       "</div>"
      ],
      "text/plain": [
       "                              0_1     2     3     4     5     6     7     8  \\\n",
       "0      2021-07-02 18:12:32.119635  42.0  41.0  37.0  40.0  38.0  42.0  40.0   \n",
       "1      2021-07-02 18:12:32.279333  42.0  41.0  37.0  40.0  38.0  42.0  40.0   \n",
       "2      2021-07-02 18:12:32.438482  42.0  41.0  37.0  40.0  38.0  42.0  40.0   \n",
       "3      2021-07-02 18:12:32.597555  42.0  41.0  37.0  40.0  38.0  42.0  40.0   \n",
       "4      2021-07-02 18:12:32.757193  42.0  41.0  37.0  40.0  38.0  42.0  40.0   \n",
       "...                           ...   ...   ...   ...   ...   ...   ...   ...   \n",
       "680857 2021-07-04 13:14:14.406338  40.0  36.0  34.0  35.0  33.0  39.0  36.0   \n",
       "680858 2021-07-04 13:14:14.567028  40.0  36.0  34.0  35.0  33.0  39.0  36.0   \n",
       "680859 2021-07-04 13:14:14.726387  40.0  36.0  34.0  35.0  33.0  39.0  36.0   \n",
       "680860 2021-07-04 13:14:14.886328  40.0  36.0  34.0  35.0  33.0  39.0  36.0   \n",
       "680861 2021-07-04 13:14:15.055814  40.0  34.0  33.0  35.0  36.0  39.0  36.0   \n",
       "\n",
       "            9     10  ...        48        49   50        51        52  \\\n",
       "0       42.85  42.85  ...  0.000000  0.909091  0.0  0.000000  0.090909   \n",
       "1       42.85  42.85  ...  0.000000  0.913043  0.0  0.043478  0.043478   \n",
       "2       42.85  42.85  ...  0.000000  0.914286  0.0  0.028571  0.057143   \n",
       "3       42.85  42.85  ...  0.000000  0.941176  0.0  0.019608  0.039216   \n",
       "4       42.85  42.85  ...  0.000000  0.954545  0.0  0.015152  0.030303   \n",
       "...       ...    ...  ...       ...       ...  ...       ...       ...   \n",
       "680857  43.85  43.85  ...  0.000000  1.000000  0.0  0.000000  0.000000   \n",
       "680858  43.85  43.85  ...  0.038462  1.000000  0.0  0.000000  0.000000   \n",
       "680859  43.85  43.85  ...  0.023256  0.953488  0.0  0.046512  0.000000   \n",
       "680860  43.85  43.85  ...  0.016949  0.965517  0.0  0.034483  0.000000   \n",
       "680861  43.85  43.85  ...  0.013333  0.972603  0.0  0.027397  0.000000   \n",
       "\n",
       "              53   54        55        56   57  \n",
       "0       0.987805  0.0  0.000000  0.012195  2.0  \n",
       "1       0.966184  0.0  0.009662  0.024155  2.0  \n",
       "2       0.966565  0.0  0.009119  0.024316  2.0  \n",
       "3       0.971239  0.0  0.008850  0.019912  2.0  \n",
       "4       0.973913  0.0  0.008696  0.017391  2.0  \n",
       "...          ...  ...       ...       ...  ...  \n",
       "680857  0.975610  0.0  0.012195  0.012195  0.0  \n",
       "680858  0.970874  0.0  0.014563  0.014563  0.0  \n",
       "680859  0.975904  0.0  0.012048  0.012048  0.0  \n",
       "680860  0.973684  0.0  0.013158  0.013158  0.0  \n",
       "680861  0.976190  0.0  0.011905  0.011905  0.0  \n",
       "\n",
       "[680862 rows x 57 columns]"
      ]
     },
     "execution_count": 7,
     "metadata": {},
     "output_type": "execute_result"
    }
   ],
   "source": [
    "data"
   ]
  },
  {
   "cell_type": "code",
   "execution_count": 8,
   "id": "917581b3-07eb-4f8e-a9af-f0992447af3d",
   "metadata": {},
   "outputs": [],
   "source": [
    "#data = pd.read_csv('fancontrol.log', sep=\" \", header=None, parse_dates=[[0,1]], infer_datetime_format=True)"
   ]
  },
  {
   "cell_type": "code",
   "execution_count": 9,
   "id": "d4f5eeed-2835-4521-add7-08749019b43d",
   "metadata": {},
   "outputs": [
    {
     "name": "stdout",
     "output_type": "stream",
     "text": [
      "680862\n"
     ]
    }
   ],
   "source": [
    "print(len(data))"
   ]
  },
  {
   "cell_type": "code",
   "execution_count": 10,
   "id": "8d35c3ee-086b-4951-8c45-7014acd315e9",
   "metadata": {},
   "outputs": [],
   "source": [
    "data.columns = [\"dt\"] \\\n",
    "    + [\"temp\" + str(i) for i in range(0,10)] \\\n",
    "    + [\"fan_speed\"] \\\n",
    "    + [\"cpu_mhz\" + str(i) for i in range(0,8)] \\\n",
    "    + [\"cpu_stat\" + str(i) for i in range(0,36)] \\\n",
    "    + [\"fan_setting\"]"
   ]
  },
  {
   "cell_type": "code",
   "execution_count": 11,
   "id": "19d243f5-79f6-403e-9485-591432a6f858",
   "metadata": {},
   "outputs": [],
   "source": [
    "data.set_index(keys='dt', drop=False, inplace=True)"
   ]
  },
  {
   "cell_type": "code",
   "execution_count": 12,
   "id": "bc6f0707-1aa3-42ec-a658-221ea9fa14b5",
   "metadata": {},
   "outputs": [
    {
     "data": {
      "text/html": [
       "<div>\n",
       "<style scoped>\n",
       "    .dataframe tbody tr th:only-of-type {\n",
       "        vertical-align: middle;\n",
       "    }\n",
       "\n",
       "    .dataframe tbody tr th {\n",
       "        vertical-align: top;\n",
       "    }\n",
       "\n",
       "    .dataframe thead th {\n",
       "        text-align: right;\n",
       "    }\n",
       "</style>\n",
       "<table border=\"1\" class=\"dataframe\">\n",
       "  <thead>\n",
       "    <tr style=\"text-align: right;\">\n",
       "      <th></th>\n",
       "      <th>dt</th>\n",
       "      <th>temp0</th>\n",
       "      <th>temp1</th>\n",
       "      <th>temp2</th>\n",
       "      <th>temp3</th>\n",
       "      <th>temp4</th>\n",
       "      <th>temp5</th>\n",
       "      <th>temp6</th>\n",
       "      <th>temp7</th>\n",
       "      <th>temp8</th>\n",
       "      <th>...</th>\n",
       "      <th>cpu_stat27</th>\n",
       "      <th>cpu_stat28</th>\n",
       "      <th>cpu_stat29</th>\n",
       "      <th>cpu_stat30</th>\n",
       "      <th>cpu_stat31</th>\n",
       "      <th>cpu_stat32</th>\n",
       "      <th>cpu_stat33</th>\n",
       "      <th>cpu_stat34</th>\n",
       "      <th>cpu_stat35</th>\n",
       "      <th>fan_setting</th>\n",
       "    </tr>\n",
       "    <tr>\n",
       "      <th>dt</th>\n",
       "      <th></th>\n",
       "      <th></th>\n",
       "      <th></th>\n",
       "      <th></th>\n",
       "      <th></th>\n",
       "      <th></th>\n",
       "      <th></th>\n",
       "      <th></th>\n",
       "      <th></th>\n",
       "      <th></th>\n",
       "      <th></th>\n",
       "      <th></th>\n",
       "      <th></th>\n",
       "      <th></th>\n",
       "      <th></th>\n",
       "      <th></th>\n",
       "      <th></th>\n",
       "      <th></th>\n",
       "      <th></th>\n",
       "      <th></th>\n",
       "      <th></th>\n",
       "    </tr>\n",
       "  </thead>\n",
       "  <tbody>\n",
       "    <tr>\n",
       "      <th>2021-07-02 18:12:32.119635</th>\n",
       "      <td>2021-07-02 18:12:32.119635</td>\n",
       "      <td>42.0</td>\n",
       "      <td>41.0</td>\n",
       "      <td>37.0</td>\n",
       "      <td>40.0</td>\n",
       "      <td>38.0</td>\n",
       "      <td>42.0</td>\n",
       "      <td>40.0</td>\n",
       "      <td>42.85</td>\n",
       "      <td>42.85</td>\n",
       "      <td>...</td>\n",
       "      <td>0.000000</td>\n",
       "      <td>0.909091</td>\n",
       "      <td>0.0</td>\n",
       "      <td>0.000000</td>\n",
       "      <td>0.090909</td>\n",
       "      <td>0.987805</td>\n",
       "      <td>0.0</td>\n",
       "      <td>0.000000</td>\n",
       "      <td>0.012195</td>\n",
       "      <td>2.0</td>\n",
       "    </tr>\n",
       "    <tr>\n",
       "      <th>2021-07-02 18:12:32.279333</th>\n",
       "      <td>2021-07-02 18:12:32.279333</td>\n",
       "      <td>42.0</td>\n",
       "      <td>41.0</td>\n",
       "      <td>37.0</td>\n",
       "      <td>40.0</td>\n",
       "      <td>38.0</td>\n",
       "      <td>42.0</td>\n",
       "      <td>40.0</td>\n",
       "      <td>42.85</td>\n",
       "      <td>42.85</td>\n",
       "      <td>...</td>\n",
       "      <td>0.000000</td>\n",
       "      <td>0.913043</td>\n",
       "      <td>0.0</td>\n",
       "      <td>0.043478</td>\n",
       "      <td>0.043478</td>\n",
       "      <td>0.966184</td>\n",
       "      <td>0.0</td>\n",
       "      <td>0.009662</td>\n",
       "      <td>0.024155</td>\n",
       "      <td>2.0</td>\n",
       "    </tr>\n",
       "    <tr>\n",
       "      <th>2021-07-02 18:12:32.438482</th>\n",
       "      <td>2021-07-02 18:12:32.438482</td>\n",
       "      <td>42.0</td>\n",
       "      <td>41.0</td>\n",
       "      <td>37.0</td>\n",
       "      <td>40.0</td>\n",
       "      <td>38.0</td>\n",
       "      <td>42.0</td>\n",
       "      <td>40.0</td>\n",
       "      <td>42.85</td>\n",
       "      <td>42.85</td>\n",
       "      <td>...</td>\n",
       "      <td>0.000000</td>\n",
       "      <td>0.914286</td>\n",
       "      <td>0.0</td>\n",
       "      <td>0.028571</td>\n",
       "      <td>0.057143</td>\n",
       "      <td>0.966565</td>\n",
       "      <td>0.0</td>\n",
       "      <td>0.009119</td>\n",
       "      <td>0.024316</td>\n",
       "      <td>2.0</td>\n",
       "    </tr>\n",
       "    <tr>\n",
       "      <th>2021-07-02 18:12:32.597555</th>\n",
       "      <td>2021-07-02 18:12:32.597555</td>\n",
       "      <td>42.0</td>\n",
       "      <td>41.0</td>\n",
       "      <td>37.0</td>\n",
       "      <td>40.0</td>\n",
       "      <td>38.0</td>\n",
       "      <td>42.0</td>\n",
       "      <td>40.0</td>\n",
       "      <td>42.85</td>\n",
       "      <td>42.85</td>\n",
       "      <td>...</td>\n",
       "      <td>0.000000</td>\n",
       "      <td>0.941176</td>\n",
       "      <td>0.0</td>\n",
       "      <td>0.019608</td>\n",
       "      <td>0.039216</td>\n",
       "      <td>0.971239</td>\n",
       "      <td>0.0</td>\n",
       "      <td>0.008850</td>\n",
       "      <td>0.019912</td>\n",
       "      <td>2.0</td>\n",
       "    </tr>\n",
       "    <tr>\n",
       "      <th>2021-07-02 18:12:32.757193</th>\n",
       "      <td>2021-07-02 18:12:32.757193</td>\n",
       "      <td>42.0</td>\n",
       "      <td>41.0</td>\n",
       "      <td>37.0</td>\n",
       "      <td>40.0</td>\n",
       "      <td>38.0</td>\n",
       "      <td>42.0</td>\n",
       "      <td>40.0</td>\n",
       "      <td>42.85</td>\n",
       "      <td>42.85</td>\n",
       "      <td>...</td>\n",
       "      <td>0.000000</td>\n",
       "      <td>0.954545</td>\n",
       "      <td>0.0</td>\n",
       "      <td>0.015152</td>\n",
       "      <td>0.030303</td>\n",
       "      <td>0.973913</td>\n",
       "      <td>0.0</td>\n",
       "      <td>0.008696</td>\n",
       "      <td>0.017391</td>\n",
       "      <td>2.0</td>\n",
       "    </tr>\n",
       "    <tr>\n",
       "      <th>...</th>\n",
       "      <td>...</td>\n",
       "      <td>...</td>\n",
       "      <td>...</td>\n",
       "      <td>...</td>\n",
       "      <td>...</td>\n",
       "      <td>...</td>\n",
       "      <td>...</td>\n",
       "      <td>...</td>\n",
       "      <td>...</td>\n",
       "      <td>...</td>\n",
       "      <td>...</td>\n",
       "      <td>...</td>\n",
       "      <td>...</td>\n",
       "      <td>...</td>\n",
       "      <td>...</td>\n",
       "      <td>...</td>\n",
       "      <td>...</td>\n",
       "      <td>...</td>\n",
       "      <td>...</td>\n",
       "      <td>...</td>\n",
       "      <td>...</td>\n",
       "    </tr>\n",
       "    <tr>\n",
       "      <th>2021-07-04 13:14:14.406338</th>\n",
       "      <td>2021-07-04 13:14:14.406338</td>\n",
       "      <td>40.0</td>\n",
       "      <td>36.0</td>\n",
       "      <td>34.0</td>\n",
       "      <td>35.0</td>\n",
       "      <td>33.0</td>\n",
       "      <td>39.0</td>\n",
       "      <td>36.0</td>\n",
       "      <td>43.85</td>\n",
       "      <td>43.85</td>\n",
       "      <td>...</td>\n",
       "      <td>0.000000</td>\n",
       "      <td>1.000000</td>\n",
       "      <td>0.0</td>\n",
       "      <td>0.000000</td>\n",
       "      <td>0.000000</td>\n",
       "      <td>0.975610</td>\n",
       "      <td>0.0</td>\n",
       "      <td>0.012195</td>\n",
       "      <td>0.012195</td>\n",
       "      <td>0.0</td>\n",
       "    </tr>\n",
       "    <tr>\n",
       "      <th>2021-07-04 13:14:14.567028</th>\n",
       "      <td>2021-07-04 13:14:14.567028</td>\n",
       "      <td>40.0</td>\n",
       "      <td>36.0</td>\n",
       "      <td>34.0</td>\n",
       "      <td>35.0</td>\n",
       "      <td>33.0</td>\n",
       "      <td>39.0</td>\n",
       "      <td>36.0</td>\n",
       "      <td>43.85</td>\n",
       "      <td>43.85</td>\n",
       "      <td>...</td>\n",
       "      <td>0.038462</td>\n",
       "      <td>1.000000</td>\n",
       "      <td>0.0</td>\n",
       "      <td>0.000000</td>\n",
       "      <td>0.000000</td>\n",
       "      <td>0.970874</td>\n",
       "      <td>0.0</td>\n",
       "      <td>0.014563</td>\n",
       "      <td>0.014563</td>\n",
       "      <td>0.0</td>\n",
       "    </tr>\n",
       "    <tr>\n",
       "      <th>2021-07-04 13:14:14.726387</th>\n",
       "      <td>2021-07-04 13:14:14.726387</td>\n",
       "      <td>40.0</td>\n",
       "      <td>36.0</td>\n",
       "      <td>34.0</td>\n",
       "      <td>35.0</td>\n",
       "      <td>33.0</td>\n",
       "      <td>39.0</td>\n",
       "      <td>36.0</td>\n",
       "      <td>43.85</td>\n",
       "      <td>43.85</td>\n",
       "      <td>...</td>\n",
       "      <td>0.023256</td>\n",
       "      <td>0.953488</td>\n",
       "      <td>0.0</td>\n",
       "      <td>0.046512</td>\n",
       "      <td>0.000000</td>\n",
       "      <td>0.975904</td>\n",
       "      <td>0.0</td>\n",
       "      <td>0.012048</td>\n",
       "      <td>0.012048</td>\n",
       "      <td>0.0</td>\n",
       "    </tr>\n",
       "    <tr>\n",
       "      <th>2021-07-04 13:14:14.886328</th>\n",
       "      <td>2021-07-04 13:14:14.886328</td>\n",
       "      <td>40.0</td>\n",
       "      <td>36.0</td>\n",
       "      <td>34.0</td>\n",
       "      <td>35.0</td>\n",
       "      <td>33.0</td>\n",
       "      <td>39.0</td>\n",
       "      <td>36.0</td>\n",
       "      <td>43.85</td>\n",
       "      <td>43.85</td>\n",
       "      <td>...</td>\n",
       "      <td>0.016949</td>\n",
       "      <td>0.965517</td>\n",
       "      <td>0.0</td>\n",
       "      <td>0.034483</td>\n",
       "      <td>0.000000</td>\n",
       "      <td>0.973684</td>\n",
       "      <td>0.0</td>\n",
       "      <td>0.013158</td>\n",
       "      <td>0.013158</td>\n",
       "      <td>0.0</td>\n",
       "    </tr>\n",
       "    <tr>\n",
       "      <th>2021-07-04 13:14:15.055814</th>\n",
       "      <td>2021-07-04 13:14:15.055814</td>\n",
       "      <td>40.0</td>\n",
       "      <td>34.0</td>\n",
       "      <td>33.0</td>\n",
       "      <td>35.0</td>\n",
       "      <td>36.0</td>\n",
       "      <td>39.0</td>\n",
       "      <td>36.0</td>\n",
       "      <td>43.85</td>\n",
       "      <td>43.85</td>\n",
       "      <td>...</td>\n",
       "      <td>0.013333</td>\n",
       "      <td>0.972603</td>\n",
       "      <td>0.0</td>\n",
       "      <td>0.027397</td>\n",
       "      <td>0.000000</td>\n",
       "      <td>0.976190</td>\n",
       "      <td>0.0</td>\n",
       "      <td>0.011905</td>\n",
       "      <td>0.011905</td>\n",
       "      <td>0.0</td>\n",
       "    </tr>\n",
       "  </tbody>\n",
       "</table>\n",
       "<p>680862 rows × 57 columns</p>\n",
       "</div>"
      ],
      "text/plain": [
       "                                                   dt  temp0  temp1  temp2  \\\n",
       "dt                                                                           \n",
       "2021-07-02 18:12:32.119635 2021-07-02 18:12:32.119635   42.0   41.0   37.0   \n",
       "2021-07-02 18:12:32.279333 2021-07-02 18:12:32.279333   42.0   41.0   37.0   \n",
       "2021-07-02 18:12:32.438482 2021-07-02 18:12:32.438482   42.0   41.0   37.0   \n",
       "2021-07-02 18:12:32.597555 2021-07-02 18:12:32.597555   42.0   41.0   37.0   \n",
       "2021-07-02 18:12:32.757193 2021-07-02 18:12:32.757193   42.0   41.0   37.0   \n",
       "...                                               ...    ...    ...    ...   \n",
       "2021-07-04 13:14:14.406338 2021-07-04 13:14:14.406338   40.0   36.0   34.0   \n",
       "2021-07-04 13:14:14.567028 2021-07-04 13:14:14.567028   40.0   36.0   34.0   \n",
       "2021-07-04 13:14:14.726387 2021-07-04 13:14:14.726387   40.0   36.0   34.0   \n",
       "2021-07-04 13:14:14.886328 2021-07-04 13:14:14.886328   40.0   36.0   34.0   \n",
       "2021-07-04 13:14:15.055814 2021-07-04 13:14:15.055814   40.0   34.0   33.0   \n",
       "\n",
       "                            temp3  temp4  temp5  temp6  temp7  temp8  ...  \\\n",
       "dt                                                                    ...   \n",
       "2021-07-02 18:12:32.119635   40.0   38.0   42.0   40.0  42.85  42.85  ...   \n",
       "2021-07-02 18:12:32.279333   40.0   38.0   42.0   40.0  42.85  42.85  ...   \n",
       "2021-07-02 18:12:32.438482   40.0   38.0   42.0   40.0  42.85  42.85  ...   \n",
       "2021-07-02 18:12:32.597555   40.0   38.0   42.0   40.0  42.85  42.85  ...   \n",
       "2021-07-02 18:12:32.757193   40.0   38.0   42.0   40.0  42.85  42.85  ...   \n",
       "...                           ...    ...    ...    ...    ...    ...  ...   \n",
       "2021-07-04 13:14:14.406338   35.0   33.0   39.0   36.0  43.85  43.85  ...   \n",
       "2021-07-04 13:14:14.567028   35.0   33.0   39.0   36.0  43.85  43.85  ...   \n",
       "2021-07-04 13:14:14.726387   35.0   33.0   39.0   36.0  43.85  43.85  ...   \n",
       "2021-07-04 13:14:14.886328   35.0   33.0   39.0   36.0  43.85  43.85  ...   \n",
       "2021-07-04 13:14:15.055814   35.0   36.0   39.0   36.0  43.85  43.85  ...   \n",
       "\n",
       "                            cpu_stat27  cpu_stat28  cpu_stat29  cpu_stat30  \\\n",
       "dt                                                                           \n",
       "2021-07-02 18:12:32.119635    0.000000    0.909091         0.0    0.000000   \n",
       "2021-07-02 18:12:32.279333    0.000000    0.913043         0.0    0.043478   \n",
       "2021-07-02 18:12:32.438482    0.000000    0.914286         0.0    0.028571   \n",
       "2021-07-02 18:12:32.597555    0.000000    0.941176         0.0    0.019608   \n",
       "2021-07-02 18:12:32.757193    0.000000    0.954545         0.0    0.015152   \n",
       "...                                ...         ...         ...         ...   \n",
       "2021-07-04 13:14:14.406338    0.000000    1.000000         0.0    0.000000   \n",
       "2021-07-04 13:14:14.567028    0.038462    1.000000         0.0    0.000000   \n",
       "2021-07-04 13:14:14.726387    0.023256    0.953488         0.0    0.046512   \n",
       "2021-07-04 13:14:14.886328    0.016949    0.965517         0.0    0.034483   \n",
       "2021-07-04 13:14:15.055814    0.013333    0.972603         0.0    0.027397   \n",
       "\n",
       "                            cpu_stat31  cpu_stat32  cpu_stat33  cpu_stat34  \\\n",
       "dt                                                                           \n",
       "2021-07-02 18:12:32.119635    0.090909    0.987805         0.0    0.000000   \n",
       "2021-07-02 18:12:32.279333    0.043478    0.966184         0.0    0.009662   \n",
       "2021-07-02 18:12:32.438482    0.057143    0.966565         0.0    0.009119   \n",
       "2021-07-02 18:12:32.597555    0.039216    0.971239         0.0    0.008850   \n",
       "2021-07-02 18:12:32.757193    0.030303    0.973913         0.0    0.008696   \n",
       "...                                ...         ...         ...         ...   \n",
       "2021-07-04 13:14:14.406338    0.000000    0.975610         0.0    0.012195   \n",
       "2021-07-04 13:14:14.567028    0.000000    0.970874         0.0    0.014563   \n",
       "2021-07-04 13:14:14.726387    0.000000    0.975904         0.0    0.012048   \n",
       "2021-07-04 13:14:14.886328    0.000000    0.973684         0.0    0.013158   \n",
       "2021-07-04 13:14:15.055814    0.000000    0.976190         0.0    0.011905   \n",
       "\n",
       "                            cpu_stat35  fan_setting  \n",
       "dt                                                   \n",
       "2021-07-02 18:12:32.119635    0.012195          2.0  \n",
       "2021-07-02 18:12:32.279333    0.024155          2.0  \n",
       "2021-07-02 18:12:32.438482    0.024316          2.0  \n",
       "2021-07-02 18:12:32.597555    0.019912          2.0  \n",
       "2021-07-02 18:12:32.757193    0.017391          2.0  \n",
       "...                                ...          ...  \n",
       "2021-07-04 13:14:14.406338    0.012195          0.0  \n",
       "2021-07-04 13:14:14.567028    0.014563          0.0  \n",
       "2021-07-04 13:14:14.726387    0.012048          0.0  \n",
       "2021-07-04 13:14:14.886328    0.013158          0.0  \n",
       "2021-07-04 13:14:15.055814    0.011905          0.0  \n",
       "\n",
       "[680862 rows x 57 columns]"
      ]
     },
     "execution_count": 12,
     "metadata": {},
     "output_type": "execute_result"
    }
   ],
   "source": [
    "data"
   ]
  },
  {
   "cell_type": "markdown",
   "id": "4dcac73e-cb73-46d1-a6bd-896d2ebbd471",
   "metadata": {},
   "source": [
    "Day of week and time of day may be useful features. I only use this machine during certain hours for instance."
   ]
  },
  {
   "cell_type": "code",
   "execution_count": 13,
   "id": "646f62fd-0bba-40bf-b849-d5fa9db67828",
   "metadata": {},
   "outputs": [
    {
     "data": {
      "text/plain": [
       "dt\n",
       "2021-07-02 18:12:32.119635    4\n",
       "2021-07-02 18:12:32.279333    4\n",
       "2021-07-02 18:12:32.438482    4\n",
       "2021-07-02 18:12:32.597555    4\n",
       "2021-07-02 18:12:32.757193    4\n",
       "                             ..\n",
       "2021-07-04 13:14:14.406338    6\n",
       "2021-07-04 13:14:14.567028    6\n",
       "2021-07-04 13:14:14.726387    6\n",
       "2021-07-04 13:14:14.886328    6\n",
       "2021-07-04 13:14:15.055814    6\n",
       "Name: weekday, Length: 680862, dtype: int64"
      ]
     },
     "execution_count": 13,
     "metadata": {},
     "output_type": "execute_result"
    }
   ],
   "source": [
    "data['weekday']=data.parallel_apply(lambda row: row[0].weekday(), axis=1)\n",
    "data['weekday']"
   ]
  },
  {
   "cell_type": "code",
   "execution_count": 14,
   "id": "d3694dca-c7cb-409d-ad55-e6bfa71c4816",
   "metadata": {
    "scrolled": true
   },
   "outputs": [
    {
     "data": {
      "text/plain": [
       "dt\n",
       "2021-07-02 18:12:32.119635    1092\n",
       "2021-07-02 18:12:32.279333    1092\n",
       "2021-07-02 18:12:32.438482    1092\n",
       "2021-07-02 18:12:32.597555    1092\n",
       "2021-07-02 18:12:32.757193    1092\n",
       "                              ... \n",
       "2021-07-04 13:14:14.406338     794\n",
       "2021-07-04 13:14:14.567028     794\n",
       "2021-07-04 13:14:14.726387     794\n",
       "2021-07-04 13:14:14.886328     794\n",
       "2021-07-04 13:14:15.055814     794\n",
       "Name: minuteofday, Length: 680862, dtype: int64"
      ]
     },
     "execution_count": 14,
     "metadata": {},
     "output_type": "execute_result"
    }
   ],
   "source": [
    "data['minuteofday']=data.parallel_apply(lambda row: row[0].minute+60*row[0].hour, axis=1)\n",
    "data['minuteofday']"
   ]
  },
  {
   "cell_type": "markdown",
   "id": "df997c9a-4fe0-4f92-aec3-cad72941b0bc",
   "metadata": {},
   "source": [
    "Here are some representitive temperature distributions. 39.5C appears to be the mean for the CPU and GPU, while the SSD mean is about 41C. The variance appears greater in the CPU/GPU temperatures as well, but this may just be because we're not putting much load on the disk."
   ]
  },
  {
   "cell_type": "code",
   "execution_count": 15,
   "id": "4bd0f628-f853-49b3-ba2a-3e3b7a61e203",
   "metadata": {},
   "outputs": [
    {
     "data": {
      "text/plain": [
       "[<seaborn.axisgrid.FacetGrid at 0x7f05a1705a60>,\n",
       " <seaborn.axisgrid.FacetGrid at 0x7f05a6c60fd0>,\n",
       " <seaborn.axisgrid.FacetGrid at 0x7f05a1a8ed00>]"
      ]
     },
     "execution_count": 15,
     "metadata": {},
     "output_type": "execute_result"
    },
    {
     "data": {
      "image/png": "[encoded data removed]",
      "text/plain": [
       "<Figure size 360x360 with 1 Axes>"
      ]
     },
     "metadata": {
      "needs_background": "light"
     },
     "output_type": "display_data"
    },
    {
     "data": {
      "image/png": "[encoded data removed]",
      "text/plain": [
       "<Figure size 360x360 with 1 Axes>"
      ]
     },
     "metadata": {
      "needs_background": "light"
     },
     "output_type": "display_data"
    },
    {
     "data": {
      "image/png": "[encoded data removed]",
      "text/plain": [
       "<Figure size 360x360 with 1 Axes>"
      ]
     },
     "metadata": {
      "needs_background": "light"
     },
     "output_type": "display_data"
    }
   ],
   "source": [
    "temp_keys=['temp0','temp5','temp7']\n",
    "[sns.displot(data[t], binwidth=0.5, log=True) for t in temp_keys]"
   ]
  },
  {
   "cell_type": "markdown",
   "id": "193bdec3-ecc0-4b56-8ebe-1321b939c222",
   "metadata": {},
   "source": [
    "A 10 second mean feels like it will be a useful feature. I will also use the 10 minute mean for my reward function."
   ]
  },
  {
   "cell_type": "code",
   "execution_count": 16,
   "id": "e7a91f82-d0c2-4ed2-9a21-1ea61d99acb4",
   "metadata": {},
   "outputs": [],
   "source": [
    "#pandarellel repeatably fails with these variable sized agg windows :(\n",
    "for i in range(0,10):\n",
    "    data['temp'+str(i)+'_10s_mean'] = data.rolling('10s')['temp'+str(i)].mean()\n",
    "    #data['temp'+str(i)+'_10s_mean'] = data.rolling('10s')['temp'+str(i)].parallel_apply(np.mean,raw=True)"
   ]
  },
  {
   "cell_type": "code",
   "execution_count": 17,
   "id": "291efb9b-c59b-4815-867c-1c54b348eae5",
   "metadata": {},
   "outputs": [],
   "source": [
    "for i in range(0,10):\n",
    "    data['temp'+str(i)+'_10m_mean'] = data.rolling('600s')['temp'+str(i)].mean()\n",
    "    #data['temp'+str(i)+'_10m_mean'] = data.rolling('600s')['temp'+str(i)].parallel_apply(np.mean,raw=True)"
   ]
  },
  {
   "cell_type": "code",
   "execution_count": null,
   "id": "d3127ebf-d29e-40ae-aa76-b6d6b57ec7e1",
   "metadata": {},
   "outputs": [],
   "source": []
  },
  {
   "cell_type": "code",
   "execution_count": 18,
   "id": "b0278de2-7fd5-4811-85cd-d4faea011e6e",
   "metadata": {},
   "outputs": [],
   "source": [
    "mhz_keys = [\"cpu_mhz\" + str(i) for i in range(0,8)]\n",
    "temp_keys = [\"temp\" + str(i) + \"_10m_mean\" for i in range(0,10)]\n",
    "def reward_function(row):\n",
    "    global mhz_keys\n",
    "    global temp_keys\n",
    "    # if we've gotten permathrottled that's bad\n",
    "    for k in mhz_keys:\n",
    "        if row[k] <= 401.0:\n",
    "            return -100\n",
    "    # if any temp has been above 49.5C for 10 minutes that's bad\n",
    "    for k in temp_keys:\n",
    "        if row[k] > 49.5:\n",
    "            return -50\n",
    "    # if fan speed, reward for low speed and penalize for high speed\n",
    "    speed = row[\"fan_speed\"]\n",
    "    if speed < 3000:\n",
    "        if speed < 2700:\n",
    "            return 50\n",
    "        else:\n",
    "            return 10\n",
    "    else:\n",
    "        if speed > 3500:\n",
    "            return -10\n",
    "        else:\n",
    "            return -1\n",
    "    return -200 # This should never happen and indicates something is wrong"
   ]
  },
  {
   "cell_type": "code",
   "execution_count": 19,
   "id": "747fdd12-695d-4a3f-bde6-0978eff7c3c9",
   "metadata": {},
   "outputs": [],
   "source": [
    "data['reward'] = data.parallel_apply(reward_function, axis=1)"
   ]
  },
  {
   "cell_type": "markdown",
   "id": "df10dbf7-40e0-433d-8819-7e2fc58af2d3",
   "metadata": {},
   "source": [
    "Lets see if these labels are somewhat reasonable"
   ]
  },
  {
   "cell_type": "code",
   "execution_count": 20,
   "id": "d4be20fc-c1a7-4b13-863a-31404fcac03a",
   "metadata": {},
   "outputs": [
    {
     "data": {
      "image/png": "[encoded data removed]",
      "text/plain": [
       "<Figure size 360x360 with 1 Axes>"
      ]
     },
     "metadata": {
      "needs_background": "light"
     },
     "output_type": "display_data"
    }
   ],
   "source": [
    "g = sns.displot(data['reward'], binwidth=5, log=True)"
   ]
  },
  {
   "cell_type": "markdown",
   "id": "f237e312-77c7-4cec-b303-dc75576b95bd",
   "metadata": {},
   "source": [
    "These are our idle, nice, user, and sys stats (int that alphabetical order).\n",
    "As expected we spend most of our time in idle"
   ]
  },
  {
   "cell_type": "code",
   "execution_count": 21,
   "id": "1abde547-a5bc-4612-9307-7ea6cb9983a0",
   "metadata": {},
   "outputs": [
    {
     "data": {
      "text/plain": [
       "<seaborn.axisgrid.FacetGrid at 0x7f06000d74c0>"
      ]
     },
     "execution_count": 21,
     "metadata": {},
     "output_type": "execute_result"
    },
    {
     "data": {
      "image/png": "[encoded data removed]",
      "text/plain": [
       "<Figure size 360x360 with 1 Axes>"
      ]
     },
     "metadata": {
      "needs_background": "light"
     },
     "output_type": "display_data"
    }
   ],
   "source": [
    "sns.displot(data.cpu_stat0, binwidth=0.05, log=True)"
   ]
  },
  {
   "cell_type": "code",
   "execution_count": 22,
   "id": "8907d9dd-ba65-41c7-9574-a0087f45912a",
   "metadata": {},
   "outputs": [
    {
     "data": {
      "text/plain": [
       "<seaborn.axisgrid.FacetGrid at 0x7f06000d77c0>"
      ]
     },
     "execution_count": 22,
     "metadata": {},
     "output_type": "execute_result"
    },
    {
     "data": {
      "image/png": "[encoded data removed]",
      "text/plain": [
       "<Figure size 360x360 with 1 Axes>"
      ]
     },
     "metadata": {
      "needs_background": "light"
     },
     "output_type": "display_data"
    }
   ],
   "source": [
    "sns.displot(data.cpu_stat1, binwidth=0.05, log=True)"
   ]
  },
  {
   "cell_type": "code",
   "execution_count": 23,
   "id": "1278b375-20b2-455d-9757-fd42f77eccfa",
   "metadata": {},
   "outputs": [
    {
     "data": {
      "text/plain": [
       "<seaborn.axisgrid.FacetGrid at 0x7f05a23e3f40>"
      ]
     },
     "execution_count": 23,
     "metadata": {},
     "output_type": "execute_result"
    },
    {
     "data": {
      "image/png": "[encoded data removed]",
      "text/plain": [
       "<Figure size 360x360 with 1 Axes>"
      ]
     },
     "metadata": {
      "needs_background": "light"
     },
     "output_type": "display_data"
    }
   ],
   "source": [
    "sns.displot(data.cpu_stat2, binwidth=0.05, log=True)"
   ]
  },
  {
   "cell_type": "code",
   "execution_count": 24,
   "id": "4d8228ba-0eb2-40d8-bb5a-34149c9a6557",
   "metadata": {},
   "outputs": [
    {
     "data": {
      "text/plain": [
       "<seaborn.axisgrid.FacetGrid at 0x7f05a4e3d6a0>"
      ]
     },
     "execution_count": 24,
     "metadata": {},
     "output_type": "execute_result"
    },
    {
     "data": {
      "image/png": "[encoded data removed]",
      "text/plain": [
       "<Figure size 360x360 with 1 Axes>"
      ]
     },
     "metadata": {
      "needs_background": "light"
     },
     "output_type": "display_data"
    }
   ],
   "source": [
    "sns.displot(data.cpu_stat3, binwidth=0.05, log=True)"
   ]
  },
  {
   "cell_type": "markdown",
   "id": "76a6c954-9dfb-4205-a52f-b8ad49e6e418",
   "metadata": {},
   "source": [
    "Looking at our CPU frequency we spend most of our time at 2.8Ghz, while dipping down to a range of lower frequencies when under load. We're in fact jumping into some fixed frequencies but the value we pull from the system is already doing some averaging."
   ]
  },
  {
   "cell_type": "code",
   "execution_count": 25,
   "id": "f8eef64b-cc71-4236-b5b9-40437e99570c",
   "metadata": {},
   "outputs": [
    {
     "data": {
      "text/plain": [
       "<seaborn.axisgrid.FacetGrid at 0x7f05e6021490>"
      ]
     },
     "execution_count": 25,
     "metadata": {},
     "output_type": "execute_result"
    },
    {
     "data": {
      "image/png": "[encoded data removed]",
      "text/plain": [
       "<Figure size 360x360 with 1 Axes>"
      ]
     },
     "metadata": {
      "needs_background": "light"
     },
     "output_type": "display_data"
    }
   ],
   "source": [
    "sns.displot(data.cpu_mhz0, binwidth=100, log=True)"
   ]
  },
  {
   "cell_type": "markdown",
   "id": "3d17e6f3-aa36-4bf9-9fad-0d1456d314ce",
   "metadata": {},
   "source": [
    "## Ok, so lets do something with this data.."
   ]
  },
  {
   "cell_type": "markdown",
   "id": "c1b3a436-8003-49e3-aa1f-4e93acf46114",
   "metadata": {},
   "source": [
    "What is the total reward using the heuristic?"
   ]
  },
  {
   "cell_type": "code",
   "execution_count": 27,
   "id": "fef0805c-9e4e-4a24-a22c-597ea1a79cd1",
   "metadata": {},
   "outputs": [
    {
     "data": {
      "text/plain": [
       "31245495"
      ]
     },
     "execution_count": 27,
     "metadata": {},
     "output_type": "execute_result"
    }
   ],
   "source": [
    "reward = data.parallel_apply(reward_function, axis=1)\n",
    "\n",
    "reward.sum()"
   ]
  },
  {
   "cell_type": "markdown",
   "id": "54dce9c7-751d-4d3d-96b4-29e55ab6ec9a",
   "metadata": {},
   "source": [
    "Let's create a simple linear model that optimizes for next minute reward. Looking at the weights should give us a good idea of feature importance. Then we can build a LSTM to add a bit of memory. The main challenge will be that our input sample is highly unbalanced since the computer spent most of it's time in idle.\n",
    "\n",
    "Using the fast.ai library or just pyTorch would probably be fastest. But I'm going to use Keras on Tensorflow since that is closer to the standard tooling at Spotify."
   ]
  },
  {
   "cell_type": "code",
   "execution_count": 54,
   "id": "eca333e9-faa0-48f1-a317-be05220b788c",
   "metadata": {
    "scrolled": true
   },
   "outputs": [],
   "source": [
    "# lets start by labeling the data with a bit of future reward,\n",
    "# I 60s is about 470 samples.. the shift makes this 60s right\n",
    "# window roughly equivalent to a 60s left window.\n",
    "# I'm not going to worry about the 470 'bad samples' for now.\n",
    "data['linear_label'] = data.rolling('60s')['reward'].mean().shift(periods=-470, fill_value=0)"
   ]
  },
  {
   "cell_type": "code",
   "execution_count": 43,
   "id": "c29e81e6-7cb9-42e3-a327-f12e39114ac4",
   "metadata": {
    "scrolled": true
   },
   "outputs": [
    {
     "data": {
      "text/plain": [
       "dt\n",
       "2021-07-02 18:12:32.119635    10.217391\n",
       "2021-07-02 18:12:32.279333    10.216802\n",
       "2021-07-02 18:12:32.438482    10.216802\n",
       "2021-07-02 18:12:32.597555    10.216802\n",
       "2021-07-02 18:12:32.757193    10.216802\n",
       "                                ...    \n",
       "2021-07-04 13:14:14.406338     0.000000\n",
       "2021-07-04 13:14:14.567028     0.000000\n",
       "2021-07-04 13:14:14.726387     0.000000\n",
       "2021-07-04 13:14:14.886328     0.000000\n",
       "2021-07-04 13:14:15.055814     0.000000\n",
       "Name: linear_label, Length: 680862, dtype: float64"
      ]
     },
     "execution_count": 43,
     "metadata": {},
     "output_type": "execute_result"
    }
   ],
   "source": [
    "data['linear_label']"
   ]
  }
 ],
 "metadata": {
  "kernelspec": {
   "display_name": "Python 3",
   "language": "python",
   "name": "python3"
  },
  "language_info": {
   "codemirror_mode": {
    "name": "ipython",
    "version": 3
   },
   "file_extension": ".py",
   "mimetype": "text/x-python",
   "name": "python",
   "nbconvert_exporter": "python",
   "pygments_lexer": "ipython3",
   "version": "3.6.11"
  }
 },
 "nbformat": 4,
 "nbformat_minor": 5
}
