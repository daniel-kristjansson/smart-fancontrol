{
 "cells": [
  {
   "cell_type": "markdown",
   "id": "97e070f0-b98f-4cb1-a7c0-358bc79dfcbd",
   "metadata": {},
   "source": [
    "# Load the data into pandas and do some analysis"
   ]
  },
  {
   "cell_type": "code",
   "execution_count": 1,
   "id": "2b2b41ce-5361-4cf8-aba0-87d203dd901b",
   "metadata": {},
   "outputs": [
    {
     "name": "stdout",
     "output_type": "stream",
     "text": [
      "Python 3.6.11\n"
     ]
    }
   ],
   "source": [
    "#I'm using an old python, because the tensorflow wheels aren't available for 3.9+\n",
    "!python --version"
   ]
  },
  {
   "cell_type": "code",
   "execution_count": 2,
   "id": "db281de1-fef7-4b4d-b0a6-3eef4100498d",
   "metadata": {},
   "outputs": [],
   "source": [
    "# Ran this before starting the notebook\n",
    "!pip install -r ../requirements.txt  --use-deprecated=legacy-resolver > /dev/null"
   ]
  },
  {
   "cell_type": "markdown",
   "id": "680d69fa-ed01-4674-84a8-16a32629af7d",
   "metadata": {},
   "source": [
    "# Load data set into pyarrow and pandas."
   ]
  },
  {
   "cell_type": "markdown",
   "id": "d56e2a83-2edb-4841-91c0-a98ca8a0cec9",
   "metadata": {},
   "source": [
    "This will let us do some analysis on the data and perhaps some feature engineering. First, we just want to make sure we're logging the data properly."
   ]
  },
  {
   "cell_type": "code",
   "execution_count": 3,
   "id": "d985c3b8-bee1-42a2-a23a-3a1184b87c94",
   "metadata": {},
   "outputs": [],
   "source": [
    "import pandas as pd\n",
    "import pyarrow as pa\n",
    "import pyarrow.parquet as pq\n",
    "import tensorflow as tf\n",
    "import pyarrow.compute as pc"
   ]
  },
  {
   "cell_type": "code",
   "execution_count": 4,
   "id": "49ea538f-84d1-4403-b418-848343a9a39a",
   "metadata": {},
   "outputs": [
    {
     "data": {
      "text/plain": [
       "[PhysicalDevice(name='/physical_device:CPU:0', device_type='CPU'),\n",
       " PhysicalDevice(name='/physical_device:GPU:0', device_type='GPU')]"
      ]
     },
     "execution_count": 4,
     "metadata": {},
     "output_type": "execute_result"
    }
   ],
   "source": [
    "# Uncomment the following to disable GPU\n",
    "#tf.config.set_visible_devices([], 'GPU')\n",
    "tf.config.get_visible_devices()"
   ]
  },
  {
   "cell_type": "code",
   "execution_count": 5,
   "id": "46b32ba8-841d-4b80-9664-46b0f7753c6c",
   "metadata": {},
   "outputs": [],
   "source": [
    "ds = pq.ParquetDataset(\"/var/log/fancontrol/featurelog\")"
   ]
  },
  {
   "cell_type": "code",
   "execution_count": 6,
   "id": "7aa0a0a9-598a-4c4d-993c-2abc38a54a6b",
   "metadata": {},
   "outputs": [],
   "source": [
    "table = ds.read()"
   ]
  },
  {
   "cell_type": "code",
   "execution_count": 7,
   "id": "3d348c45-a1ba-491e-b90f-6f9208cf8ccb",
   "metadata": {},
   "outputs": [],
   "source": [
    "#print(table)"
   ]
  },
  {
   "cell_type": "code",
   "execution_count": 8,
   "id": "5aa65e2d-b6f3-4a94-91fa-2181decf305d",
   "metadata": {},
   "outputs": [
    {
     "data": {
      "text/plain": [
       "865900"
      ]
     },
     "execution_count": 8,
     "metadata": {},
     "output_type": "execute_result"
    }
   ],
   "source": [
    "table.num_rows"
   ]
  },
  {
   "cell_type": "code",
   "execution_count": 9,
   "id": "add8459e-0a3a-42a6-9754-82c42057b8e2",
   "metadata": {},
   "outputs": [],
   "source": [
    "dummy = pc.sort_indices(table, sort_keys=[('timestamp', 'descending')])"
   ]
  },
  {
   "cell_type": "code",
   "execution_count": 10,
   "id": "3bfbb496-0229-4bb6-8848-5dad42cdd432",
   "metadata": {},
   "outputs": [],
   "source": [
    "ptable = table.to_pandas()"
   ]
  },
  {
   "cell_type": "code",
   "execution_count": 11,
   "id": "788aa574-d687-4bb6-928a-2b5a30c87da1",
   "metadata": {},
   "outputs": [
    {
     "name": "stdout",
     "output_type": "stream",
     "text": [
      "           timestamp label                                            cpuinfo  \\\n",
      "0       1.637617e+09     1  [2800.0, 2800.0, 2174.128, 2800.0, 2800.0, 280...   \n",
      "1       1.637617e+09     1  [2800.0, 2800.0, 1357.127, 2800.0, 2800.0, 280...   \n",
      "2       1.637617e+09     1  [2800.0, 2800.0, 2762.186, 2800.0, 2800.0, 280...   \n",
      "3       1.637617e+09     1  [2800.0, 2800.0, 1379.557, 2800.0, 2800.0, 280...   \n",
      "4       1.637617e+09     1  [2800.0, 2800.0, 2800.0, 1898.875, 2800.0, 280...   \n",
      "...              ...   ...                                                ...   \n",
      "865895  1.637727e+09     1  [2800.0, 2800.0, 2800.0, 2800.0, 2800.0, 2800....   \n",
      "865896  1.637727e+09     1  [2800.0, 2800.0, 2800.0, 1313.665, 1684.526, 2...   \n",
      "865897  1.637727e+09     1  [2800.0, 2081.427, 2800.0, 2800.0, 2800.0, 280...   \n",
      "865898  1.637727e+09     1  [2800.0, 2800.0, 2800.0, 2800.0, 2800.0, 1402....   \n",
      "865899  1.637727e+09     1  [2800.0, 2800.0, 2800.0, 2800.0, 2800.0, 1468....   \n",
      "\n",
      "       profile                                           cpu_idle  \\\n",
      "0        [1.0]  [1.0, 0.8666666666666667, 0.8636363636363636, ...   \n",
      "1        [1.0]           [1.0, 1.0, 1.0, 1.0, 1.0, 1.0, 1.0, 1.0]   \n",
      "2        [1.0]  [0.9666666666666667, 0.9655172413793104, 0.931...   \n",
      "3        [1.0]  [0.9803921568627451, 0.94, 0.88, 0.93478260869...   \n",
      "4        [1.0]  [0.9861111111111112, 0.9577464788732394, 0.902...   \n",
      "...        ...                                                ...   \n",
      "865895   [1.0]  [0.9655172413793104, 0.9647058823529412, 0.989...   \n",
      "865896   [1.0]           [1.0, 1.0, 1.0, 0.9, 1.0, 0.9, 1.0, 1.0]   \n",
      "865897   [1.0]  [0.9333333333333333, 0.9032258064516129, 1.0, ...   \n",
      "865898   [1.0]  [0.8979591836734694, 0.94, 0.9811320754716981,...   \n",
      "865899   [1.0]  [0.8955223880597015, 0.9571428571428572, 0.986...   \n",
      "\n",
      "                                                 cpu_user  \\\n",
      "0       [0.0, 0.05555555555555555, 0.05681818181818181...   \n",
      "1                [0.0, 0.0, 0.0, 0.0, 0.0, 0.0, 0.0, 0.0]   \n",
      "2       [0.03333333333333333, 0.034482758620689655, 0....   \n",
      "3       [0.0196078431372549, 0.04, 0.06, 0.0, 0.0, 0.0...   \n",
      "4       [0.013888888888888888, 0.028169014084507043, 0...   \n",
      "...                                                   ...   \n",
      "865895  [0.0, 0.0, 0.0, 0.03225806451612903, 0.0329670...   \n",
      "865896           [0.0, 0.0, 0.0, 0.0, 0.0, 0.1, 0.0, 0.0]   \n",
      "865897  [0.0, 0.03225806451612903, 0.0, 0.0, 0.0, 0.03...   \n",
      "865898  [0.0, 0.02, 0.018867924528301886, 0.0, 0.0, 0....   \n",
      "865899  [0.0, 0.014285714285714285, 0.0138888888888888...   \n",
      "\n",
      "                                               cpu_system  \\\n",
      "0       [0.0, 0.07777777777777778, 0.07954545454545454...   \n",
      "1                [0.0, 0.0, 0.0, 0.0, 0.0, 0.0, 0.0, 0.0]   \n",
      "2       [0.0, 0.0, 0.034482758620689655, 0.11538461538...   \n",
      "3       [0.0, 0.02, 0.06, 0.06521739130434782, 0.04347...   \n",
      "4       [0.0, 0.014084507042253521, 0.0416666666666666...   \n",
      "...                                                   ...   \n",
      "865895  [0.034482758620689655, 0.03529411764705882, 0....   \n",
      "865896           [0.0, 0.0, 0.0, 0.1, 0.0, 0.0, 0.0, 0.0]   \n",
      "865897  [0.06666666666666667, 0.06451612903225806, 0.0...   \n",
      "865898  [0.10204081632653061, 0.04, 0.0, 0.01923076923...   \n",
      "865899  [0.1044776119402985, 0.02857142857142857, 0.0,...   \n",
      "\n",
      "                                        cpu_nice power_constraints  \\\n",
      "0       [0.0, 0.0, 0.0, 0.0, 0.0, 0.0, 0.0, 0.0]      [28.0, 44.0]   \n",
      "1       [0.0, 0.0, 0.0, 0.0, 0.0, 0.0, 0.0, 0.0]      [28.0, 44.0]   \n",
      "2       [0.0, 0.0, 0.0, 0.0, 0.0, 0.0, 0.0, 0.0]      [28.0, 44.0]   \n",
      "3       [0.0, 0.0, 0.0, 0.0, 0.0, 0.0, 0.0, 0.0]      [28.0, 44.0]   \n",
      "4       [0.0, 0.0, 0.0, 0.0, 0.0, 0.0, 0.0, 0.0]      [28.0, 44.0]   \n",
      "...                                          ...               ...   \n",
      "865895  [0.0, 0.0, 0.0, 0.0, 0.0, 0.0, 0.0, 0.0]      [28.0, 44.0]   \n",
      "865896  [0.0, 0.0, 0.0, 0.0, 0.0, 0.0, 0.0, 0.0]      [28.0, 44.0]   \n",
      "865897  [0.0, 0.0, 0.0, 0.0, 0.0, 0.0, 0.0, 0.0]      [28.0, 44.0]   \n",
      "865898  [0.0, 0.0, 0.0, 0.0, 0.0, 0.0, 0.0, 0.0]      [28.0, 44.0]   \n",
      "865899  [0.0, 0.0, 0.0, 0.0, 0.0, 0.0, 0.0, 0.0]      [28.0, 44.0]   \n",
      "\n",
      "              power                                               temp  \\\n",
      "0       [6.7259116]  [47.0, 43.0, 42.0, 43.0, 46.0, 47.0, 40.0, 43....   \n",
      "1       [5.0237274]  [47.0, 42.0, 48.0, 43.0, 41.0, 48.0, 40.0, 43....   \n",
      "2        [7.361967]  [47.0, 42.0, 48.0, 43.0, 41.0, 48.0, 40.0, 43....   \n",
      "3       [7.3240743]  [47.0, 42.0, 48.0, 43.0, 41.0, 48.0, 40.0, 43....   \n",
      "4       [7.0215707]  [47.0, 42.0, 48.0, 43.0, 41.0, 48.0, 40.0, 43....   \n",
      "...             ...                                                ...   \n",
      "865895   [6.908639]  [49.0, 44.0, 50.0, 46.0, 45.0, 50.0, 43.0, 45....   \n",
      "865896   [5.218231]  [49.0, 45.0, 52.0, 46.0, 46.0, 52.0, 43.0, 45....   \n",
      "865897   [7.066392]  [49.0, 45.0, 52.0, 46.0, 46.0, 52.0, 43.0, 45....   \n",
      "865898  [7.0420666]  [49.0, 45.0, 52.0, 46.0, 46.0, 52.0, 43.0, 45....   \n",
      "865899   [6.945544]  [49.0, 45.0, 52.0, 46.0, 46.0, 52.0, 43.0, 45....   \n",
      "\n",
      "         fan_rpm  year month day  \n",
      "0       [2270.0]  2021    11  22  \n",
      "1       [2270.0]  2021    11  22  \n",
      "2       [2271.0]  2021    11  22  \n",
      "3       [2270.0]  2021    11  22  \n",
      "4       [2270.0]  2021    11  22  \n",
      "...          ...   ...   ...  ..  \n",
      "865895  [2259.0]  2021    11  24  \n",
      "865896  [2260.0]  2021    11  24  \n",
      "865897  [2260.0]  2021    11  24  \n",
      "865898  [2260.0]  2021    11  24  \n",
      "865899  [2259.0]  2021    11  24  \n",
      "\n",
      "[865900 rows x 15 columns]\n"
     ]
    }
   ],
   "source": [
    "print(ptable)"
   ]
  },
  {
   "cell_type": "code",
   "execution_count": 12,
   "id": "7ba31181-3a85-4502-9b64-ec8c20a11f6a",
   "metadata": {},
   "outputs": [
    {
     "data": {
      "text/plain": [
       "array([44.170254], dtype=float32)"
      ]
     },
     "execution_count": 12,
     "metadata": {},
     "output_type": "execute_result"
    }
   ],
   "source": [
    "max(ptable['power'])"
   ]
  },
  {
   "cell_type": "code",
   "execution_count": 13,
   "id": "593ad57b-9297-4a69-af4e-990864c0c6b7",
   "metadata": {},
   "outputs": [
    {
     "data": {
      "text/plain": [
       "<matplotlib.collections.PathCollection at 0x7f33f5cb8470>"
      ]
     },
     "execution_count": 13,
     "metadata": {},
     "output_type": "execute_result"
    },
    {
     "data": {
      "image/png": "[encoded data removed]",
      "text/plain": [
       "<Figure size 432x288 with 1 Axes>"
      ]
     },
     "metadata": {
      "needs_background": "light"
     },
     "output_type": "display_data"
    }
   ],
   "source": [
    "import matplotlib.pyplot as plt\n",
    "plt.scatter(ptable['fan_rpm'], ptable['label'])"
   ]
  },
  {
   "cell_type": "code",
   "execution_count": 14,
   "id": "cf395250-3f9b-4da0-ab5c-92c3ccdeaf59",
   "metadata": {},
   "outputs": [
    {
     "data": {
      "text/plain": [
       "<matplotlib.collections.PathCollection at 0x7f33f5ca8128>"
      ]
     },
     "execution_count": 14,
     "metadata": {},
     "output_type": "execute_result"
    },
    {
     "data": {
      "image/png": "[encoded data removed]",
      "text/plain": [
       "<Figure size 432x288 with 1 Axes>"
      ]
     },
     "metadata": {
      "needs_background": "light"
     },
     "output_type": "display_data"
    }
   ],
   "source": [
    "max_temp = ptable['temp'].apply(lambda a: max(a))\n",
    "plt.scatter(max_temp, ptable['label'])"
   ]
  },
  {
   "cell_type": "code",
   "execution_count": 15,
   "id": "6b948baf-94a7-404d-9a54-9dcb3ec95085",
   "metadata": {},
   "outputs": [],
   "source": [
    "from statistics import mean\n",
    "mean_temp = ptable['temp'].apply(lambda a: mean(a))"
   ]
  },
  {
   "cell_type": "code",
   "execution_count": 16,
   "id": "9a4c222c-6943-4fef-ba42-6ff619cc7891",
   "metadata": {},
   "outputs": [
    {
     "data": {
      "text/plain": [
       "<matplotlib.collections.PathCollection at 0x7f33f5c05240>"
      ]
     },
     "execution_count": 16,
     "metadata": {},
     "output_type": "execute_result"
    },
    {
     "data": {
      "image/png": "[encoded data removed]",
      "text/plain": [
       "<Figure size 432x288 with 1 Axes>"
      ]
     },
     "metadata": {
      "needs_background": "light"
     },
     "output_type": "display_data"
    }
   ],
   "source": [
    "plt.scatter(mean_temp, ptable['label'])"
   ]
  },
  {
   "cell_type": "markdown",
   "id": "9d9c9156-2af0-4f86-8245-cbb1c509f372",
   "metadata": {},
   "source": [
    "The above is exactly what we would expect since we set the fan speed, aka label, based on the current mean temperature."
   ]
  },
  {
   "cell_type": "code",
   "execution_count": 17,
   "id": "6cdc2419-2790-47c8-a399-f1b9ca680be8",
   "metadata": {},
   "outputs": [
    {
     "data": {
      "text/plain": [
       "<matplotlib.collections.PathCollection at 0x7f33f5bdf6d8>"
      ]
     },
     "execution_count": 17,
     "metadata": {},
     "output_type": "execute_result"
    },
    {
     "data": {
      "image/png": "[encoded data removed]",
      "text/plain": [
       "<Figure size 432x288 with 1 Axes>"
      ]
     },
     "metadata": {
      "needs_background": "light"
     },
     "output_type": "display_data"
    }
   ],
   "source": [
    "plt.scatter(mean_temp, max_temp)"
   ]
  },
  {
   "cell_type": "markdown",
   "id": "fd940e02-d6ed-4f7d-a0c5-68689f3330cf",
   "metadata": {},
   "source": [
    "As expected we see a high correlation between mean and max temperature."
   ]
  },
  {
   "cell_type": "code",
   "execution_count": 18,
   "id": "3b7fc46d-2630-4bfa-a094-9767d07d29a7",
   "metadata": {},
   "outputs": [],
   "source": [
    "def clamp(num, min_value, max_value):\n",
    "   return max(min(num, max_value), min_value)\n",
    "power = ptable['power'].apply(lambda a: clamp(a[0], 0.0, 99.0))"
   ]
  },
  {
   "cell_type": "code",
   "execution_count": 19,
   "id": "f02e00d3-58ce-4177-b4d7-bbea624d872d",
   "metadata": {},
   "outputs": [
    {
     "name": "stdout",
     "output_type": "stream",
     "text": [
      "6.958980908701417\n",
      "6.801417589187622\n",
      "4.329467813783393\n"
     ]
    }
   ],
   "source": [
    "import statistics\n",
    "print(statistics.mean(power))\n",
    "print(statistics.median(power))\n",
    "print(statistics.variance(power))"
   ]
  },
  {
   "cell_type": "code",
   "execution_count": 20,
   "id": "625b46cb-f48c-4a83-8793-9fd54de5668f",
   "metadata": {},
   "outputs": [
    {
     "data": {
      "text/plain": [
       "<matplotlib.collections.PathCollection at 0x7f33f3b09d30>"
      ]
     },
     "execution_count": 20,
     "metadata": {},
     "output_type": "execute_result"
    },
    {
     "data": {
      "image/png": "[encoded data removed]",
      "text/plain": [
       "<Figure size 432x288 with 1 Axes>"
      ]
     },
     "metadata": {
      "needs_background": "light"
     },
     "output_type": "display_data"
    }
   ],
   "source": [
    "plt.scatter(power, mean_temp)"
   ]
  },
  {
   "cell_type": "markdown",
   "id": "4955f0e6-119c-4954-91ba-f9ad92a4238a",
   "metadata": {},
   "source": [
    "This shows there is some correlation between current wattage and mean measured temperature. Which one might expect. :)"
   ]
  },
  {
   "cell_type": "markdown",
   "id": "d54fb7f7-0fdf-418f-b5d4-78a27601738f",
   "metadata": {},
   "source": [
    "Lets see the distribution of idleness. Presumably we have a lot of samples of when the CPU is cold and not doing much.\n",
    "We'll have to either weigh our samples or resample the data if we want to use this data for training an ML model."
   ]
  },
  {
   "cell_type": "code",
   "execution_count": 21,
   "id": "2d72b865-9023-4c9e-add3-38403a14f71a",
   "metadata": {},
   "outputs": [],
   "source": [
    "cpu_idle = ptable['cpu_idle'].apply(lambda a: mean(a))"
   ]
  },
  {
   "cell_type": "code",
   "execution_count": 22,
   "id": "2f11385f-b329-4f9b-abdf-3500d2c0143c",
   "metadata": {},
   "outputs": [],
   "source": [
    "import seaborn as sns"
   ]
  },
  {
   "cell_type": "code",
   "execution_count": 23,
   "id": "62c0b8ba-dbe3-404f-854d-ed3e58fb82e6",
   "metadata": {},
   "outputs": [
    {
     "data": {
      "text/plain": [
       "<seaborn.axisgrid.FacetGrid at 0x7f33f4c7b748>"
      ]
     },
     "execution_count": 23,
     "metadata": {},
     "output_type": "execute_result"
    },
    {
     "data": {
      "image/png": "[encoded data removed]",
      "text/plain": [
       "<Figure size 360x360 with 1 Axes>"
      ]
     },
     "metadata": {
      "needs_background": "light"
     },
     "output_type": "display_data"
    }
   ],
   "source": [
    "sns.displot(cpu_idle, binwidth=0.05, log=True)"
   ]
  },
  {
   "cell_type": "markdown",
   "id": "bd0d19a4-9ad0-4a8c-b9b0-3d6adf84ad5f",
   "metadata": {},
   "source": [
    "Our idlenes assumption appears to be backed up by reality.\n",
    "\n",
    "Let's see how strong the correlation is between idleness and temperature.\n",
    "And idleness and power."
   ]
  },
  {
   "cell_type": "code",
   "execution_count": 24,
   "id": "2176a586-bdf5-4398-825c-9021a3f0d221",
   "metadata": {},
   "outputs": [
    {
     "data": {
      "text/plain": [
       "<matplotlib.collections.PathCollection at 0x7f33ee8988d0>"
      ]
     },
     "execution_count": 24,
     "metadata": {},
     "output_type": "execute_result"
    },
    {
     "data": {
      "image/png": "[encoded data removed]",
      "text/plain": [
       "<Figure size 432x288 with 1 Axes>"
      ]
     },
     "metadata": {
      "needs_background": "light"
     },
     "output_type": "display_data"
    }
   ],
   "source": [
    "plt.scatter(cpu_idle, mean_temp)"
   ]
  },
  {
   "cell_type": "code",
   "execution_count": 25,
   "id": "6fd0ba56-e80f-49d3-bfc4-5ae26669f0e9",
   "metadata": {},
   "outputs": [
    {
     "data": {
      "text/plain": [
       "<matplotlib.collections.PathCollection at 0x7f33ee7f3160>"
      ]
     },
     "execution_count": 25,
     "metadata": {},
     "output_type": "execute_result"
    },
    {
     "data": {
      "image/png": "[encoded data removed]",
      "text/plain": [
       "<Figure size 432x288 with 1 Axes>"
      ]
     },
     "metadata": {
      "needs_background": "light"
     },
     "output_type": "display_data"
    }
   ],
   "source": [
    "plt.scatter(cpu_idle, power)"
   ]
  },
  {
   "cell_type": "markdown",
   "id": "6d6766eb-cd31-401a-9b0f-28b9e838322f",
   "metadata": {},
   "source": [
    "There is an inverse correlation as one would expect, but it doesn't appear to be all that strong."
   ]
  }
 ],
 "metadata": {
  "kernelspec": {
   "display_name": "Python 3",
   "language": "python",
   "name": "python3"
  },
  "language_info": {
   "codemirror_mode": {
    "name": "ipython",
    "version": 3
   },
   "file_extension": ".py",
   "mimetype": "text/x-python",
   "name": "python",
   "nbconvert_exporter": "python",
   "pygments_lexer": "ipython3",
   "version": "3.6.11"
  }
 },
 "nbformat": 4,
 "nbformat_minor": 5
}
