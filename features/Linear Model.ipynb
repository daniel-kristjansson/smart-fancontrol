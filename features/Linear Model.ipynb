{
 "cells": [
  {
   "cell_type": "code",
   "execution_count": 49,
   "id": "ae7ccc8d-62f9-41d9-bc40-89a5441c5e3d",
   "metadata": {
    "tags": []
   },
   "outputs": [],
   "source": [
    "import tensorflow as tf\n",
    "import pandas as pd\n",
    "import pyarrow as pa\n",
    "import pyarrow.parquet as pq\n",
    "from tensorflow.keras.layers import Dense, Flatten, Conv2D, Input\n",
    "from tensorflow.keras import Model\n",
    "from tensorflow.keras.experimental import LinearModel"
   ]
  },
  {
   "cell_type": "code",
   "execution_count": 46,
   "id": "3ce8b0fd-b5b1-401e-998f-e134ec56157d",
   "metadata": {},
   "outputs": [],
   "source": [
    "%config Completer.use_jedi = False"
   ]
  },
  {
   "cell_type": "code",
   "execution_count": 2,
   "id": "9b233fd2-f0f0-475e-8fd5-a8d740a553cc",
   "metadata": {},
   "outputs": [
    {
     "data": {
      "text/plain": [
       "[PhysicalDevice(name='/physical_device:CPU:0', device_type='CPU')]"
      ]
     },
     "execution_count": 2,
     "metadata": {},
     "output_type": "execute_result"
    }
   ],
   "source": [
    "# Uncomment the following to disable GPU\n",
    "tf.config.set_visible_devices([], 'GPU')\n",
    "tf.config.get_visible_devices()"
   ]
  },
  {
   "cell_type": "markdown",
   "id": "e38dfd52-f0bc-4c60-ba9e-fbad33f7b3a5",
   "metadata": {
    "tags": []
   },
   "source": [
    "# Import parquet data"
   ]
  },
  {
   "cell_type": "code",
   "execution_count": 3,
   "id": "25a8cbf7-1c85-42a8-9ac1-e96ecb5cdf44",
   "metadata": {},
   "outputs": [],
   "source": [
    "ds = pq.ParquetDataset(\"/var/log/fancontrol/featurelog\")\n",
    "ptable = ds.read().to_pandas()"
   ]
  },
  {
   "cell_type": "code",
   "execution_count": 315,
   "id": "e807f4aa-3d3e-4e33-95e7-2e4ec8d2b368",
   "metadata": {},
   "outputs": [],
   "source": [
    "def clamp(num, min_value, max_value):\n",
    "   return max(min(num, max_value), min_value)\n",
    "power = ptable['power'].apply(lambda a: clamp(a[0], 0.0, 99.0))"
   ]
  },
  {
   "cell_type": "code",
   "execution_count": 316,
   "id": "80ff28e7-d149-4496-a605-3f1d4a2da0b4",
   "metadata": {},
   "outputs": [],
   "source": [
    "def feature_names():\n",
    "    fn = list(ptable.columns.values)\n",
    "    fn.remove('label')\n",
    "    return fn\n",
    "\n",
    "def generator_types():\n",
    "    return ({k: tf.float32 for k in feature_names()}, tf.float32)\n",
    "\n",
    "def generator_shapes():\n",
    "    for index, row in ptable.iterrows():\n",
    "        shapes = {}\n",
    "        for k in feature_names():\n",
    "            if isinstance(row[k], float) or isinstance(row[k], int):\n",
    "                shapes[k] = tuple()\n",
    "            else:\n",
    "                shapes[k] = (len(row[k]),)\n",
    "        return tuple([shapes, (1,)])\n",
    "\n",
    "def generator():\n",
    "    for index, row in ptable.iterrows():\n",
    "        f = {k: tf.convert_to_tensor(row[k], tf.float32, name=k) for k in feature_names()}\n",
    "        l = tf.convert_to_tensor(list([float(row['label'])]), tf.float32, name='label')\n",
    "        yield f, l"
   ]
  },
  {
   "cell_type": "code",
   "execution_count": 278,
   "id": "e2606e8c-9095-4e65-9a44-dc4eb3f38dad",
   "metadata": {},
   "outputs": [
    {
     "data": {
      "text/plain": [
       "({'timestamp': tf.float32,\n",
       "  'cpuinfo': tf.float32,\n",
       "  'profile': tf.float32,\n",
       "  'cpu_idle': tf.float32,\n",
       "  'cpu_user': tf.float32,\n",
       "  'cpu_system': tf.float32,\n",
       "  'cpu_nice': tf.float32,\n",
       "  'power_constraints': tf.float32,\n",
       "  'power': tf.float32,\n",
       "  'temp': tf.float32,\n",
       "  'fan_rpm': tf.float32,\n",
       "  'year': tf.float32,\n",
       "  'month': tf.float32,\n",
       "  'day': tf.float32},\n",
       " tf.float32)"
      ]
     },
     "execution_count": 278,
     "metadata": {},
     "output_type": "execute_result"
    }
   ],
   "source": [
    "generator_types()"
   ]
  },
  {
   "cell_type": "code",
   "execution_count": 293,
   "id": "c8a3830c-bd51-4e04-b08f-a141647b1f8d",
   "metadata": {},
   "outputs": [
    {
     "data": {
      "text/plain": [
       "({'timestamp': (),\n",
       "  'cpuinfo': (8,),\n",
       "  'profile': (1,),\n",
       "  'cpu_idle': (8,),\n",
       "  'cpu_user': (8,),\n",
       "  'cpu_system': (8,),\n",
       "  'cpu_nice': (8,),\n",
       "  'power_constraints': (2,),\n",
       "  'power': (1,),\n",
       "  'temp': (10,),\n",
       "  'fan_rpm': (1,),\n",
       "  'year': (),\n",
       "  'month': (),\n",
       "  'day': ()},\n",
       " (1,))"
      ]
     },
     "execution_count": 293,
     "metadata": {},
     "output_type": "execute_result"
    }
   ],
   "source": [
    "generator_shapes()"
   ]
  },
  {
   "cell_type": "code",
   "execution_count": 317,
   "id": "3fe8e2da-bc88-4eb4-84ad-f5c4785d7b2b",
   "metadata": {},
   "outputs": [],
   "source": [
    "all = tf.data.Dataset.from_generator(generator, output_types=generator_types(), output_shapes=generator_shapes()) \\\n",
    "    .shuffle(10, reshuffle_each_iteration=False)"
   ]
  },
  {
   "cell_type": "code",
   "execution_count": 319,
   "id": "c7c19ee9-a251-435e-8e63-0c92262acd07",
   "metadata": {},
   "outputs": [],
   "source": [
    "n = next(all.batch(2).as_numpy_iterator())"
   ]
  },
  {
   "cell_type": "code",
   "execution_count": 320,
   "id": "06524aa4-d3ad-4406-a0f3-bc7c90f9734f",
   "metadata": {},
   "outputs": [
    {
     "name": "stdout",
     "output_type": "stream",
     "text": [
      "({'timestamp': array([1.6376166e+09, 1.6376166e+09], dtype=float32), 'cpuinfo': array([[2800.   , 2800.   , 2800.   , 1898.875, 2800.   , 2800.   ,\n",
      "        2800.   , 2800.   ],\n",
      "       [2800.   , 2800.   , 2762.186, 2800.   , 2800.   , 2800.   ,\n",
      "        2800.   , 2800.   ]], dtype=float32), 'profile': array([[1.],\n",
      "       [1.]], dtype=float32), 'cpu_idle': array([[0.9861111 , 0.9577465 , 0.9027778 , 0.9104478 , 0.9701493 ,\n",
      "        1.        , 0.942029  , 0.9859155 ],\n",
      "       [0.96666664, 0.9655172 , 0.9310345 , 0.88461536, 1.        ,\n",
      "        1.        , 0.96666664, 0.96666664]], dtype=float32), 'cpu_user': array([[0.01388889, 0.02816901, 0.05555556, 0.01492537, 0.        ,\n",
      "        0.        , 0.01449275, 0.01408451],\n",
      "       [0.03333334, 0.03448276, 0.03448276, 0.        , 0.        ,\n",
      "        0.        , 0.03333334, 0.03333334]], dtype=float32), 'cpu_system': array([[0.        , 0.01408451, 0.04166667, 0.07462686, 0.02985075,\n",
      "        0.        , 0.04347826, 0.        ],\n",
      "       [0.        , 0.        , 0.03448276, 0.11538462, 0.        ,\n",
      "        0.        , 0.        , 0.        ]], dtype=float32), 'cpu_nice': array([[0., 0., 0., 0., 0., 0., 0., 0.],\n",
      "       [0., 0., 0., 0., 0., 0., 0., 0.]], dtype=float32), 'power_constraints': array([[28., 44.],\n",
      "       [28., 44.]], dtype=float32), 'power': array([[7.0215707],\n",
      "       [7.361967 ]], dtype=float32), 'temp': array([[47.  , 42.  , 48.  , 43.  , 41.  , 48.  , 40.  , 43.85, 43.85,\n",
      "        47.  ],\n",
      "       [47.  , 42.  , 48.  , 43.  , 41.  , 48.  , 40.  , 43.85, 43.85,\n",
      "        47.  ]], dtype=float32), 'fan_rpm': array([[2270.],\n",
      "       [2271.]], dtype=float32), 'year': array([2021., 2021.], dtype=float32), 'month': array([11., 11.], dtype=float32), 'day': array([22., 22.], dtype=float32)}, array([[1.],\n",
      "       [1.]], dtype=float32))\n"
     ]
    }
   ],
   "source": [
    "print(n)"
   ]
  },
  {
   "cell_type": "code",
   "execution_count": 321,
   "id": "d199cb24-4adf-41db-87be-6ec1fed7e72d",
   "metadata": {},
   "outputs": [
    {
     "data": {
      "text/plain": [
       "array([ 2, 10], dtype=int32)"
      ]
     },
     "execution_count": 321,
     "metadata": {},
     "output_type": "execute_result"
    }
   ],
   "source": [
    "tf.shape(n[0]['temp']).numpy()"
   ]
  },
  {
   "cell_type": "code",
   "execution_count": 322,
   "id": "9f76b715-6c1f-435d-802a-a6503be03ac5",
   "metadata": {},
   "outputs": [
    {
     "data": {
      "text/plain": [
       "array([2, 1], dtype=int32)"
      ]
     },
     "execution_count": 322,
     "metadata": {},
     "output_type": "execute_result"
    }
   ],
   "source": [
    "tf.shape(n[1]).numpy()"
   ]
  },
  {
   "cell_type": "code",
   "execution_count": 323,
   "id": "a0c246a8-9f8a-472b-8396-e6a2707b9f7e",
   "metadata": {},
   "outputs": [],
   "source": [
    "#for k in n[0]:\n",
    "#    print(str(k) + \" -> \" + str(tf.shape(n[0][k])))"
   ]
  },
  {
   "cell_type": "code",
   "execution_count": 324,
   "id": "8845e8f7-7134-4102-8a50-bc75fc42e4fd",
   "metadata": {},
   "outputs": [],
   "source": [
    "def is_test(x, y):\n",
    "    return x % 4 == 0\n",
    "def is_train(x, y):\n",
    "    return not is_test(x, y)\n",
    "recover = lambda x,y: y\n",
    "test_dataset = all.enumerate() \\\n",
    "                    .filter(is_test) \\\n",
    "                    .map(recover)\n",
    "\n",
    "train_dataset = all.enumerate() \\\n",
    "                    .filter(is_train) \\\n",
    "                    .map(recover)"
   ]
  },
  {
   "cell_type": "markdown",
   "id": "773d1ca7-2918-4b2b-b841-9bb0defa052f",
   "metadata": {},
   "source": [
    "# Lets build a simple model"
   ]
  },
  {
   "cell_type": "code",
   "execution_count": 325,
   "id": "0e6e7e8a-4ddf-4b18-a4fb-529e08cf2d0d",
   "metadata": {},
   "outputs": [],
   "source": [
    "from tensorflow.keras import layers\n",
    "from tensorflow import keras"
   ]
  },
  {
   "cell_type": "code",
   "execution_count": 334,
   "id": "f1982d4a-4e83-4f02-bbea-baa6efd21211",
   "metadata": {},
   "outputs": [],
   "source": [
    "#temp_input = Input(shape=(10,), name=\"temp\")\n",
    "power_input = Input(shape=(1,), name=\"power\")\n",
    "all_input = [power_input]#, temp_input]"
   ]
  },
  {
   "cell_type": "code",
   "execution_count": 335,
   "id": "d6c99ef2-3fdb-4a00-8f97-b8797d501721",
   "metadata": {},
   "outputs": [],
   "source": [
    "x = layers.concatenate(all_input)"
   ]
  },
  {
   "cell_type": "code",
   "execution_count": 336,
   "id": "d491bb7c-3e98-4a3c-b090-45756e7292b0",
   "metadata": {},
   "outputs": [],
   "source": [
    "fanlevel_output = Dense(1, name=\"level\")(x)"
   ]
  },
  {
   "cell_type": "code",
   "execution_count": 337,
   "id": "e30997a7-48f7-4036-af17-dd9f9d85b0a3",
   "metadata": {},
   "outputs": [],
   "source": [
    "linear_model=keras.Model(inputs=all_input, outputs=[fanlevel_output])\n",
    "linear_model.compile(optimizer='adam', loss='mse')"
   ]
  },
  {
   "cell_type": "code",
   "execution_count": 338,
   "id": "93854fca-d568-4cd3-a7c2-1b7dc41a8035",
   "metadata": {},
   "outputs": [
    {
     "data": {
      "image/png": "[encoded data removed]",
      "text/plain": [
       "<IPython.core.display.Image object>"
      ]
     },
     "execution_count": 338,
     "metadata": {},
     "output_type": "execute_result"
    }
   ],
   "source": [
    "keras.utils.plot_model(linear_model, \"multi_input_and_output_model.png\", show_shapes=True)"
   ]
  },
  {
   "cell_type": "code",
   "execution_count": null,
   "id": "c0fbcc55-d689-442f-a8d5-a05fd76a33a5",
   "metadata": {},
   "outputs": [
    {
     "name": "stderr",
     "output_type": "stream",
     "text": [
      "/home/danielk/.pyenv/versions/3.6.11/envs/smart-fancontrol/lib/python3.6/site-packages/keras/engine/functional.py:585: UserWarning: Input dict contained keys ['timestamp', 'cpuinfo', 'profile', 'cpu_idle', 'cpu_user', 'cpu_system', 'cpu_nice', 'power_constraints', 'temp', 'fan_rpm', 'year', 'month', 'day'] which did not match any model input. They will be ignored by the model.\n",
      "  [n for n in tensors.keys() if n not in ref_input_names])\n"
     ]
    },
    {
     "name": "stdout",
     "output_type": "stream",
     "text": [
      " 671669/Unknown - 1178s 2ms/step - loss: 1046.4331"
     ]
    }
   ],
   "source": [
    "linear_model.fit(train_dataset, epochs=1, batch_size=32)"
   ]
  }
 ],
 "metadata": {
  "kernelspec": {
   "display_name": "Python 3",
   "language": "python",
   "name": "python3"
  },
  "language_info": {
   "codemirror_mode": {
    "name": "ipython",
    "version": 3
   },
   "file_extension": ".py",
   "mimetype": "text/x-python",
   "name": "python",
   "nbconvert_exporter": "python",
   "pygments_lexer": "ipython3",
   "version": "3.6.11"
  }
 },
 "nbformat": 4,
 "nbformat_minor": 5
}
