{
 "cells": [
  {
   "cell_type": "code",
   "execution_count": 1,
   "id": "ae7ccc8d-62f9-41d9-bc40-89a5441c5e3d",
   "metadata": {
    "tags": []
   },
   "outputs": [],
   "source": [
    "import tensorflow as tf\n",
    "import pandas as pd\n",
    "import pyarrow as pa\n",
    "import pyarrow.parquet as pq\n",
    "from tensorflow.keras.layers import Dense, Flatten, Conv2D, Input\n",
    "from tensorflow.keras import Model\n",
    "from tensorflow.keras.experimental import LinearModel"
   ]
  },
  {
   "cell_type": "code",
   "execution_count": 2,
   "id": "3ce8b0fd-b5b1-401e-998f-e134ec56157d",
   "metadata": {},
   "outputs": [],
   "source": [
    "%config Completer.use_jedi = False"
   ]
  },
  {
   "cell_type": "code",
   "execution_count": 3,
   "id": "9b233fd2-f0f0-475e-8fd5-a8d740a553cc",
   "metadata": {},
   "outputs": [
    {
     "name": "stdout",
     "output_type": "stream",
     "text": [
      "[PhysicalDevice(name='/physical_device:CPU:0', device_type='CPU')]\n",
      "1 Physical GPUs, 0 Logical GPUs\n"
     ]
    }
   ],
   "source": [
    "# Uncomment the following to disable GPU\n",
    "tf.config.set_visible_devices([], 'GPU')\n",
    "print(tf.config.get_visible_devices())\n",
    "gpus = tf.config.list_physical_devices('GPU')\n",
    "if gpus:\n",
    "  try:\n",
    "    # Currently, memory growth needs to be the same across GPUs\n",
    "    for gpu in gpus:\n",
    "      tf.config.experimental.set_memory_growth(gpu, True)\n",
    "    logical_gpus = tf.config.list_logical_devices('GPU')\n",
    "    print(len(gpus), \"Physical GPUs,\", len(logical_gpus), \"Logical GPUs\")\n",
    "  except RuntimeError as e:\n",
    "    # Memory growth must be set before GPUs have been initialized\n",
    "    print(e)"
   ]
  },
  {
   "cell_type": "markdown",
   "id": "e38dfd52-f0bc-4c60-ba9e-fbad33f7b3a5",
   "metadata": {
    "tags": []
   },
   "source": [
    "# Import parquet data"
   ]
  },
  {
   "cell_type": "code",
   "execution_count": 4,
   "id": "25a8cbf7-1c85-42a8-9ac1-e96ecb5cdf44",
   "metadata": {},
   "outputs": [],
   "source": [
    "ds = pq.ParquetDataset(\"/var/log/fancontrol/featurelog\")\n",
    "ptable = ds.read().to_pandas()"
   ]
  },
  {
   "cell_type": "code",
   "execution_count": 5,
   "id": "e807f4aa-3d3e-4e33-95e7-2e4ec8d2b368",
   "metadata": {},
   "outputs": [],
   "source": [
    "# Get rid of outliers in power feture\n",
    "def clamp(num, min_value, max_value):\n",
    "   return max(min(num, max_value), min_value)\n",
    "power = ptable['power'].apply(lambda a: clamp(a[0], 0.0, 99.0))"
   ]
  },
  {
   "cell_type": "code",
   "execution_count": 6,
   "id": "1d0215f5-5d23-4e0f-8655-54fd5a3aa2c4",
   "metadata": {
    "tags": []
   },
   "outputs": [
    {
     "name": "stdout",
     "output_type": "stream",
     "text": [
      "['timestamp', 'cpuinfo', 'profile', 'cpu_idle', 'cpu_user', 'cpu_system', 'cpu_nice', 'power_constraints', 'power', 'temp', 'fan_rpm', 'year', 'month', 'day']\n",
      "({'timestamp': tf.float32, 'cpuinfo': tf.float32, 'profile': tf.float32, 'cpu_idle': tf.float32, 'cpu_user': tf.float32, 'cpu_system': tf.float32, 'cpu_nice': tf.float32, 'power_constraints': tf.float32, 'power': tf.float32, 'temp': tf.float32, 'fan_rpm': tf.float32, 'year': tf.float32, 'month': tf.float32, 'day': tf.float32}, tf.float32)\n",
      "({'timestamp': (1, 1), 'cpuinfo': (1, 8), 'profile': (1, 1), 'cpu_idle': (1, 8), 'cpu_user': (1, 8), 'cpu_system': (1, 8), 'cpu_nice': (1, 8), 'power_constraints': (1, 2), 'power': (1, 1), 'temp': (1, 10), 'fan_rpm': (1, 1), 'year': (1, 1), 'month': (1, 1), 'day': (1, 1)}, (1,))\n"
     ]
    }
   ],
   "source": [
    "def feature_names():\n",
    "    l = list(ptable.columns.values)\n",
    "    l.remove('label')\n",
    "    return l\n",
    "\n",
    "def generator_types():\n",
    "    return ({k: tf.float32 for k in feature_names()}, tf.float32)\n",
    "\n",
    "def dim(val):\n",
    "    return 1 if isinstance(val, float) or isinstance(val, int) else len(val)\n",
    "\n",
    "def generator_shapes():\n",
    "    _, row = next(ptable.iterrows())\n",
    "    shapes = {k: (1, dim(row[k])) for k in feature_names()}\n",
    "    return tuple([shapes, (1,)])\n",
    "\n",
    "print(feature_names())\n",
    "print(generator_types())\n",
    "print(generator_shapes())"
   ]
  },
  {
   "cell_type": "code",
   "execution_count": 7,
   "id": "f83d0d44-a7a4-4ca2-82ac-3b0356cbf486",
   "metadata": {},
   "outputs": [],
   "source": [
    "def convert(key, value):\n",
    "    if isinstance(value, float) or isinstance(value, int):\n",
    "        return tf.reshape(tf.convert_to_tensor(value, tf.float32, name=key), (1, 1))\n",
    "    return tf.reshape(tf.convert_to_tensor(value, tf.float32, name=key), (1, dim(value)))\n",
    "\n",
    "def generator():\n",
    "    for index, row in ptable.iterrows():\n",
    "        f = {k: convert(k, row[k]) for k in feature_names()}\n",
    "        l = tf.convert_to_tensor(list([float(row['label'])]), tf.float32, name='label')\n",
    "        yield f, l"
   ]
  },
  {
   "cell_type": "code",
   "execution_count": 8,
   "id": "3fe8e2da-bc88-4eb4-84ad-f5c4785d7b2b",
   "metadata": {},
   "outputs": [
    {
     "name": "stdout",
     "output_type": "stream",
     "text": [
      "({'timestamp': array([[[1.6376166e+09]],\n",
      "\n",
      "       [[1.6376166e+09]]], dtype=float32), 'cpuinfo': array([[[2800.   , 2800.   , 2800.   , 2800.   , 2800.   , 2800.   ,\n",
      "         2800.   , 2022.431]],\n",
      "\n",
      "       [[2800.   , 2800.   , 2800.   , 1898.875, 2800.   , 2800.   ,\n",
      "         2800.   , 2800.   ]]], dtype=float32), 'profile': array([[[1.]],\n",
      "\n",
      "       [[1.]]], dtype=float32), 'cpu_idle': array([[[0.92      , 0.9607843 , 1.        , 0.9423077 , 0.9375    ,\n",
      "         1.        , 0.98039216, 0.8627451 ]],\n",
      "\n",
      "       [[0.9861111 , 0.9577465 , 0.9027778 , 0.9104478 , 0.9701493 ,\n",
      "         1.        , 0.942029  , 0.9859155 ]]], dtype=float32), 'cpu_user': array([[[0.02      , 0.03921569, 0.        , 0.03846154, 0.02083333,\n",
      "         0.        , 0.01960784, 0.05882353]],\n",
      "\n",
      "       [[0.01388889, 0.02816901, 0.05555556, 0.01492537, 0.        ,\n",
      "         0.        , 0.01449275, 0.01408451]]], dtype=float32), 'cpu_system': array([[[0.06      , 0.        , 0.        , 0.01923077, 0.04166667,\n",
      "         0.        , 0.        , 0.07843138]],\n",
      "\n",
      "       [[0.        , 0.01408451, 0.04166667, 0.07462686, 0.02985075,\n",
      "         0.        , 0.04347826, 0.        ]]], dtype=float32), 'cpu_nice': array([[[0., 0., 0., 0., 0., 0., 0., 0.]],\n",
      "\n",
      "       [[0., 0., 0., 0., 0., 0., 0., 0.]]], dtype=float32), 'power_constraints': array([[[28., 44.]],\n",
      "\n",
      "       [[28., 44.]]], dtype=float32), 'power': array([[[8.061806 ]],\n",
      "\n",
      "       [[7.0215707]]], dtype=float32), 'temp': array([[[47.  , 42.  , 41.  , 47.  , 41.  , 48.  , 40.  , 43.85, 43.85,\n",
      "         47.  ]],\n",
      "\n",
      "       [[47.  , 42.  , 48.  , 43.  , 41.  , 48.  , 40.  , 43.85, 43.85,\n",
      "         47.  ]]], dtype=float32), 'fan_rpm': array([[[2271.]],\n",
      "\n",
      "       [[2270.]]], dtype=float32), 'year': array([[[2021.]],\n",
      "\n",
      "       [[2021.]]], dtype=float32), 'month': array([[[11.]],\n",
      "\n",
      "       [[11.]]], dtype=float32), 'day': array([[[22.]],\n",
      "\n",
      "       [[22.]]], dtype=float32)}, array([[1.],\n",
      "       [1.]], dtype=float32))\n"
     ]
    }
   ],
   "source": [
    "all = tf.data.Dataset.from_generator(generator, output_types=generator_types(), output_shapes=generator_shapes()) \\\n",
    "    .shuffle(10, reshuffle_each_iteration=False)\n",
    "n = next(all.batch(2).as_numpy_iterator())\n",
    "print(n)"
   ]
  },
  {
   "cell_type": "code",
   "execution_count": 9,
   "id": "d199cb24-4adf-41db-87be-6ec1fed7e72d",
   "metadata": {},
   "outputs": [
    {
     "data": {
      "text/plain": [
       "array([ 2,  1, 10], dtype=int32)"
      ]
     },
     "execution_count": 9,
     "metadata": {},
     "output_type": "execute_result"
    }
   ],
   "source": [
    "tf.shape(n[0]['temp']).numpy()"
   ]
  },
  {
   "cell_type": "code",
   "execution_count": 10,
   "id": "9f76b715-6c1f-435d-802a-a6503be03ac5",
   "metadata": {},
   "outputs": [
    {
     "data": {
      "text/plain": [
       "array([2, 1], dtype=int32)"
      ]
     },
     "execution_count": 10,
     "metadata": {},
     "output_type": "execute_result"
    }
   ],
   "source": [
    "tf.shape(n[1]).numpy()"
   ]
  },
  {
   "cell_type": "code",
   "execution_count": 11,
   "id": "8845e8f7-7134-4102-8a50-bc75fc42e4fd",
   "metadata": {},
   "outputs": [],
   "source": [
    "def is_test(x, y):\n",
    "    return x % 4 == 0\n",
    "def is_train(x, y):\n",
    "    return not is_test(x, y)\n",
    "recover = lambda x,y: y\n",
    "test_dataset = all.enumerate() \\\n",
    "                    .filter(is_test) \\\n",
    "                    .map(recover)\n",
    "\n",
    "train_dataset = all.enumerate() \\\n",
    "                    .filter(is_train) \\\n",
    "                    .map(recover)"
   ]
  },
  {
   "cell_type": "markdown",
   "id": "773d1ca7-2918-4b2b-b841-9bb0defa052f",
   "metadata": {},
   "source": [
    "# Lets build a simple model"
   ]
  },
  {
   "cell_type": "code",
   "execution_count": 12,
   "id": "0e6e7e8a-4ddf-4b18-a4fb-529e08cf2d0d",
   "metadata": {},
   "outputs": [],
   "source": [
    "from tensorflow.keras import layers\n",
    "from tensorflow import keras"
   ]
  },
  {
   "cell_type": "code",
   "execution_count": 13,
   "id": "f1982d4a-4e83-4f02-bbea-baa6efd21211",
   "metadata": {},
   "outputs": [],
   "source": [
    "temp_input = Input(shape=(10,), name=\"temp\")\n",
    "cpu_idle_input = Input(shape=(8,), name=\"cpu_idle\")\n",
    "power_input = Input(shape=(1,), name=\"power\")\n",
    "fan_input = Input(shape=(1,), name=\"fan_rpm\")\n",
    "all_input = [power_input, temp_input, cpu_idle_input, fan_input]"
   ]
  },
  {
   "cell_type": "code",
   "execution_count": 14,
   "id": "d6c99ef2-3fdb-4a00-8f97-b8797d501721",
   "metadata": {},
   "outputs": [],
   "source": [
    "x = layers.concatenate(all_input)"
   ]
  },
  {
   "cell_type": "code",
   "execution_count": 15,
   "id": "d491bb7c-3e98-4a3c-b090-45756e7292b0",
   "metadata": {},
   "outputs": [],
   "source": [
    "fanlevel_output = Dense(1, name=\"level\")(x)"
   ]
  },
  {
   "cell_type": "code",
   "execution_count": 16,
   "id": "e30997a7-48f7-4036-af17-dd9f9d85b0a3",
   "metadata": {},
   "outputs": [],
   "source": [
    "linear_model=keras.Model(inputs=all_input, outputs=[fanlevel_output])\n",
    "linear_model.compile(optimizer='adam', loss='msle')"
   ]
  },
  {
   "cell_type": "code",
   "execution_count": 17,
   "id": "93854fca-d568-4cd3-a7c2-1b7dc41a8035",
   "metadata": {},
   "outputs": [
    {
     "data": {
      "image/png": "[encoded data removed]",
      "text/plain": [
       "<IPython.core.display.Image object>"
      ]
     },
     "execution_count": 17,
     "metadata": {},
     "output_type": "execute_result"
    }
   ],
   "source": [
    "keras.utils.plot_model(linear_model, \"multi_input_and_output_model.png\", show_shapes=True)"
   ]
  },
  {
   "cell_type": "code",
   "execution_count": 18,
   "id": "c0fbcc55-d689-442f-a8d5-a05fd76a33a5",
   "metadata": {},
   "outputs": [
    {
     "name": "stderr",
     "output_type": "stream",
     "text": [
      "/home/danielk/.pyenv/versions/3.6.11/envs/smart-fancontrol/lib/python3.6/site-packages/keras/engine/functional.py:585: UserWarning: Input dict contained keys ['timestamp', 'cpuinfo', 'profile', 'cpu_user', 'cpu_system', 'cpu_nice', 'power_constraints', 'year', 'month', 'day'] which did not match any model input. They will be ignored by the model.\n",
      "  [n for n in tensors.keys() if n not in ref_input_names])\n"
     ]
    },
    {
     "name": "stdout",
     "output_type": "stream",
     "text": [
      "2047125/2047125 [==============================] - 7059s 3ms/step - loss: nan\n"
     ]
    },
    {
     "data": {
      "text/plain": [
       "<keras.callbacks.History at 0x7f9ec913f6a0>"
      ]
     },
     "execution_count": 18,
     "metadata": {},
     "output_type": "execute_result"
    }
   ],
   "source": [
    "linear_model.fit(train_dataset, epochs=1, batch_size=1024)"
   ]
  },
  {
   "cell_type": "code",
   "execution_count": 19,
   "id": "8988e3f2-c07b-4b43-89ed-05809ed2935a",
   "metadata": {},
   "outputs": [
    {
     "name": "stdout",
     "output_type": "stream",
     "text": [
      "INFO:tensorflow:Assets written to: first_train/assets\n"
     ]
    }
   ],
   "source": [
    "linear_model.save(\"first_train\")"
   ]
  },
  {
   "cell_type": "markdown",
   "id": "4d1aecf9-6f91-4f1f-b304-300413597138",
   "metadata": {},
   "source": [
    "This model diverged after two hours of training. In the next notebook, [Clean-data](Clean-data.ipynb) we resample the data for both faster trainng and better results. We could also reweigh the data but we'd still train too slowly."
   ]
  }
 ],
 "metadata": {
  "kernelspec": {
   "display_name": "Python 3",
   "language": "python",
   "name": "python3"
  },
  "language_info": {
   "codemirror_mode": {
    "name": "ipython",
    "version": 3
   },
   "file_extension": ".py",
   "mimetype": "text/x-python",
   "name": "python",
   "nbconvert_exporter": "python",
   "pygments_lexer": "ipython3",
   "version": "3.6.11"
  }
 },
 "nbformat": 4,
 "nbformat_minor": 5
}
