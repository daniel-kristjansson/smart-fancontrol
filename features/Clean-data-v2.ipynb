{
 "cells": [
  {
   "cell_type": "code",
   "execution_count": 14,
   "id": "4c331c9f-3070-473e-aad7-f6998a0c8b3f",
   "metadata": {},
   "outputs": [],
   "source": [
    "!pip install imblearn > /dev/null\n",
    "!pip install sklearn > /dev/null"
   ]
  },
  {
   "cell_type": "code",
   "execution_count": 57,
   "id": "1b3f95d9-e70e-4ebb-a36d-784b96c9ebeb",
   "metadata": {},
   "outputs": [],
   "source": [
    "import tensorflow as tf\n",
    "import pandas as pd\n",
    "import pyarrow as pa\n",
    "import pyarrow.parquet as pq\n",
    "from tensorflow.keras.layers import Dense, Flatten, Conv2D, Input\n",
    "from tensorflow.keras import Model\n",
    "from tensorflow.keras.experimental import LinearModel\n",
    "from collections import Counter\n",
    "import seaborn as sns\n",
    "import statistics"
   ]
  },
  {
   "cell_type": "code",
   "execution_count": 2,
   "id": "3ce8b0fd-b5b1-401e-998f-e134ec56157d",
   "metadata": {},
   "outputs": [],
   "source": [
    "%config Completer.use_jedi = False"
   ]
  },
  {
   "cell_type": "code",
   "execution_count": 4,
   "id": "9b233fd2-f0f0-475e-8fd5-a8d740a553cc",
   "metadata": {},
   "outputs": [
    {
     "name": "stdout",
     "output_type": "stream",
     "text": [
      "[PhysicalDevice(name='/physical_device:CPU:0', device_type='CPU')]\n",
      "1 Physical GPUs, 0 Logical GPUs\n"
     ]
    }
   ],
   "source": [
    "# Uncomment the following line to disable GPU\n",
    "tf.config.set_visible_devices([], 'GPU')\n",
    "tf.config.threading.set_inter_op_parallelism_threads(4)\n",
    "tf.config.threading.set_intra_op_parallelism_threads(4)\n",
    "print(tf.config.get_visible_devices())\n",
    "gpus = tf.config.list_physical_devices('GPU')\n",
    "if gpus:\n",
    "  try:\n",
    "    # Currently, memory growth needs to be the same across GPUs\n",
    "    for gpu in gpus:\n",
    "      tf.config.experimental.set_memory_growth(gpu, True)\n",
    "    logical_gpus = tf.config.list_logical_devices('GPU')\n",
    "    print(len(gpus), \"Physical GPUs,\", len(logical_gpus), \"Logical GPUs\")\n",
    "  except RuntimeError as e:\n",
    "    # Memory growth must be set before GPUs have been initialized\n",
    "    print(e)\n",
    "    \n"
   ]
  },
  {
   "cell_type": "markdown",
   "id": "e38dfd52-f0bc-4c60-ba9e-fbad33f7b3a5",
   "metadata": {
    "tags": []
   },
   "source": [
    "# Import parquet data"
   ]
  },
  {
   "cell_type": "code",
   "execution_count": 6,
   "id": "25a8cbf7-1c85-42a8-9ac1-e96ecb5cdf44",
   "metadata": {},
   "outputs": [],
   "source": [
    "ds = pq.ParquetDataset(\"/var/log/fancontrol/featurelog\")\n",
    "ptable = ds.read().to_pandas()"
   ]
  },
  {
   "cell_type": "code",
   "execution_count": 13,
   "id": "f4641484-b75d-4d1c-9d57-d6484ecfb2ed",
   "metadata": {},
   "outputs": [],
   "source": [
    "#drop the few examples where power is negative\n",
    "ptable = ptable[ptable['power'] >= 0.0]"
   ]
  },
  {
   "cell_type": "markdown",
   "id": "f7ddc259-afc4-4eab-b0a8-580d1e6c32a6",
   "metadata": {},
   "source": [
    "### What is our distribution of idle values.. presumably very biased"
   ]
  },
  {
   "cell_type": "code",
   "execution_count": 17,
   "id": "94c27418-d2de-4b4f-b047-62ab7f81a842",
   "metadata": {},
   "outputs": [],
   "source": [
    "cpu_idle = ptable['mean_cpu_idle'] = ptable['cpu_idle'].apply(statistics.mean)\n",
    "sns.displot(ptable['mean_cpu_idle'], binwidth=0.01, log=True)"
   ]
  },
  {
   "cell_type": "code",
   "execution_count": 22,
   "id": "2a5173ac-d696-4030-ae9f-2349a3713bfd",
   "metadata": {},
   "outputs": [],
   "source": [
    "def group_idle(val):\n",
    "    gval = 100.0 * val\n",
    "    try:\n",
    "        return int(gval)\n",
    "    except:\n",
    "        return 0\n",
    "\n",
    "sampler_classes = ptable['mean_cpu_idle'].apply(group_idle)"
   ]
  },
  {
   "cell_type": "code",
   "execution_count": 46,
   "id": "c77e1da4-0c86-4675-824a-0f06e8afaf1f",
   "metadata": {},
   "outputs": [],
   "source": [
    "from imblearn.under_sampling import RandomUnderSampler"
   ]
  },
  {
   "cell_type": "code",
   "execution_count": 44,
   "id": "24b070e4-fae6-4567-be8e-f18d28069f1e",
   "metadata": {},
   "outputs": [],
   "source": [
    "cnt = Counter(sampler_classes)"
   ]
  },
  {
   "cell_type": "code",
   "execution_count": 49,
   "id": "de4c5435-3846-474a-9b09-6335dae27cde",
   "metadata": {
    "tags": []
   },
   "outputs": [],
   "source": [
    "rus = RandomUnderSampler(sampling_strategy={i: min(20000, cnt[i]) for i in range(0,101)})\n",
    "x,y = rus.fit_resample(ptable, sampler_classes)"
   ]
  },
  {
   "cell_type": "code",
   "execution_count": 65,
   "id": "475cea98-88c5-4412-8c0a-d9d190e56685",
   "metadata": {},
   "outputs": [
    {
     "data": {
      "text/plain": [
       "<seaborn.axisgrid.FacetGrid at 0x7f8fa307e208>"
      ]
     },
     "execution_count": 65,
     "metadata": {},
     "output_type": "execute_result"
    },
    {
     "data": {
      "image/png": "[encoded data removed]",
      "text/plain": [
       "<Figure size 360x360 with 1 Axes>"
      ]
     },
     "metadata": {
      "needs_background": "light"
     },
     "output_type": "display_data"
    }
   ],
   "source": [
    "sns.displot(x['mean_cpu_idle'], binwidth=0.01, log=True)"
   ]
  },
  {
   "cell_type": "code",
   "execution_count": 79,
   "id": "dc9f3c92-bb85-4c6e-8c8e-4fe43435107b",
   "metadata": {},
   "outputs": [],
   "source": [
    "from imblearn.over_sampling import RandomOverSampler\n",
    "def group_idle20(val):\n",
    "    gval = 20.0 * val - 0.0001\n",
    "    try:\n",
    "        return int(gval)\n",
    "    except:\n",
    "        return 0\n",
    "sampler_classes = x['mean_cpu_idle'].apply(group_idle20)\n",
    "cnt = Counter(sampler_classes)\n",
    "ros = RandomOverSampler(sampling_strategy={i: max(100000, cnt[i]) for i in range(0,20)})"
   ]
  },
  {
   "cell_type": "code",
   "execution_count": 80,
   "id": "4cdb8253-90bf-4236-8cec-47f2f6bd57b8",
   "metadata": {},
   "outputs": [
    {
     "data": {
      "text/plain": [
       "(397781,\n",
       " 397781,\n",
       " Counter({0: 131,\n",
       "          1: 23,\n",
       "          2: 20,\n",
       "          3: 32,\n",
       "          4: 46,\n",
       "          5: 59,\n",
       "          6: 117,\n",
       "          7: 122,\n",
       "          8: 267,\n",
       "          9: 509,\n",
       "          10: 1302,\n",
       "          11: 6044,\n",
       "          12: 4635,\n",
       "          13: 5151,\n",
       "          14: 8058,\n",
       "          15: 27685,\n",
       "          16: 74236,\n",
       "          17: 71694,\n",
       "          18: 97608,\n",
       "          19: 100042}))"
      ]
     },
     "execution_count": 80,
     "metadata": {},
     "output_type": "execute_result"
    }
   ],
   "source": [
    "len(x), len(sampler_classes), Counter(sampler_classes)"
   ]
  },
  {
   "cell_type": "code",
   "execution_count": 81,
   "id": "0b61f62e-cfa3-4239-9c5f-2cf2e0903c5a",
   "metadata": {},
   "outputs": [],
   "source": [
    "xp,y = ros.fit_resample(x, sampler_classes)"
   ]
  },
  {
   "cell_type": "code",
   "execution_count": 82,
   "id": "90caa58c-ffc0-4fe9-b2bb-4ff464a8a12d",
   "metadata": {},
   "outputs": [
    {
     "data": {
      "text/plain": [
       "<seaborn.axisgrid.FacetGrid at 0x7f8fa2fefbe0>"
      ]
     },
     "execution_count": 82,
     "metadata": {},
     "output_type": "execute_result"
    },
    {
     "data": {
      "image/png": "[encoded data removed]",
      "text/plain": [
       "<Figure size 360x360 with 1 Axes>"
      ]
     },
     "metadata": {
      "needs_background": "light"
     },
     "output_type": "display_data"
    }
   ],
   "source": [
    "sns.displot(xp['mean_cpu_idle'], binwidth=0.01, log=True)"
   ]
  },
  {
   "cell_type": "code",
   "execution_count": 183,
   "id": "685058e3-5986-47d7-ba89-cc1571b1419e",
   "metadata": {},
   "outputs": [
    {
     "data": {
      "text/plain": [
       "<seaborn.axisgrid.FacetGrid at 0x7f9025a514a8>"
      ]
     },
     "execution_count": 183,
     "metadata": {},
     "output_type": "execute_result"
    },
    {
     "data": {
      "image/png": "[encoded data removed]",
      "text/plain": [
       "<Figure size 360x360 with 1 Axes>"
      ]
     },
     "metadata": {
      "needs_background": "light"
     },
     "output_type": "display_data"
    }
   ],
   "source": [
    "sns.displot(xp['label'])"
   ]
  },
  {
   "cell_type": "code",
   "execution_count": 194,
   "id": "0a80789e-5f7a-475b-a8b1-9ecb6bcd98be",
   "metadata": {},
   "outputs": [
    {
     "name": "stdout",
     "output_type": "stream",
     "text": [
      "Counter({2: 1478457, 1: 426936, 5: 94649})\n"
     ]
    }
   ],
   "source": [
    "xp['label'] = xp['label'].apply(lambda v: int(v)).values\n",
    "sampler_classes = xp['label']\n",
    "cnt = Counter(sampler_classes)\n",
    "print(cnt)\n",
    "ros = RandomOverSampler(sampling_strategy={i: max(1470000, cnt[i]) for i in [1,2,5]})\n",
    "xpp,y = ros.fit_resample(xp, sampler_classes)"
   ]
  },
  {
   "cell_type": "code",
   "execution_count": 196,
   "id": "064dbe34-41c3-425b-941f-03ea12677aef",
   "metadata": {},
   "outputs": [
    {
     "data": {
      "text/plain": [
       "<seaborn.axisgrid.FacetGrid at 0x7f8ef04b3358>"
      ]
     },
     "execution_count": 196,
     "metadata": {},
     "output_type": "execute_result"
    },
    {
     "data": {
      "image/png": "[encoded data removed]",
      "text/plain": [
       "<Figure size 360x360 with 1 Axes>"
      ]
     },
     "metadata": {
      "needs_background": "light"
     },
     "output_type": "display_data"
    }
   ],
   "source": [
    "sns.displot(xpp['label'])"
   ]
  },
  {
   "cell_type": "code",
   "execution_count": 195,
   "id": "cc2c150c-b812-44aa-a1e8-963c3c918fdd",
   "metadata": {},
   "outputs": [],
   "source": [
    "ptable = xpp"
   ]
  },
  {
   "cell_type": "code",
   "execution_count": null,
   "id": "f7c727c3-03dd-40b2-be0a-9aae89c8148b",
   "metadata": {},
   "outputs": [],
   "source": []
  },
  {
   "cell_type": "code",
   "execution_count": 84,
   "id": "1d0215f5-5d23-4e0f-8655-54fd5a3aa2c4",
   "metadata": {
    "tags": []
   },
   "outputs": [
    {
     "name": "stdout",
     "output_type": "stream",
     "text": [
      "['timestamp', 'cpuinfo', 'profile', 'cpu_idle', 'cpu_user', 'cpu_system', 'cpu_nice', 'power_constraints', 'power', 'temp', 'fan_rpm', 'year', 'month', 'day', 'mean_cpu_idle', 'ig']\n",
      "({'timestamp': tf.float32, 'cpuinfo': tf.float32, 'profile': tf.float32, 'cpu_idle': tf.float32, 'cpu_user': tf.float32, 'cpu_system': tf.float32, 'cpu_nice': tf.float32, 'power_constraints': tf.float32, 'power': tf.float32, 'temp': tf.float32, 'fan_rpm': tf.float32, 'year': tf.float32, 'month': tf.float32, 'day': tf.float32, 'mean_cpu_idle': tf.float32, 'ig': tf.float32}, tf.float32)\n",
      "({'timestamp': (1, 1), 'cpuinfo': (1, 8), 'profile': (1, 1), 'cpu_idle': (1, 8), 'cpu_user': (1, 8), 'cpu_system': (1, 8), 'cpu_nice': (1, 8), 'power_constraints': (1, 2), 'power': (1, 1), 'temp': (1, 10), 'fan_rpm': (1, 1), 'year': (1, 1), 'month': (1, 1), 'day': (1, 1), 'mean_cpu_idle': (1, 1), 'ig': (1, 1)}, (1,))\n"
     ]
    }
   ],
   "source": [
    "def feature_names():\n",
    "    l = list(ptable.columns.values)\n",
    "    l.remove('label')\n",
    "    return l\n",
    "\n",
    "def generator_types():\n",
    "    return ({k: tf.float32 for k in feature_names()}, tf.float32)\n",
    "\n",
    "def dim(val):\n",
    "    return 1 if isinstance(val, float) or isinstance(val, int) else len(val)\n",
    "\n",
    "def generator_shapes():\n",
    "    _, row = next(ptable.iterrows())\n",
    "    shapes = {k: (1, dim(row[k])) for k in feature_names()}\n",
    "    return tuple([shapes, (1,)])\n",
    "\n",
    "print(feature_names())\n",
    "print(generator_types())\n",
    "print(generator_shapes())"
   ]
  },
  {
   "cell_type": "code",
   "execution_count": 118,
   "id": "f83d0d44-a7a4-4ca2-82ac-3b0356cbf486",
   "metadata": {},
   "outputs": [],
   "source": [
    "def convert(key, value):\n",
    "    if isinstance(value, float) or isinstance(value, int):\n",
    "        return tf.reshape(tf.convert_to_tensor(value, tf.float32, name=key), (1, 1))\n",
    "    return tf.reshape(tf.convert_to_tensor(value, tf.float32, name=key), (1, dim(value)))\n",
    "\n",
    "def gen_generator(table):\n",
    "    ptable = table\n",
    "    def generator():\n",
    "        for index, row in ptable.iterrows():\n",
    "            f = {k: convert(k, row[k]) for k in feature_names()}\n",
    "            l = tf.convert_to_tensor(list([float(row['label'])]), tf.float32, name='label')\n",
    "            yield f, l\n",
    "    return generator"
   ]
  },
  {
   "cell_type": "code",
   "execution_count": 119,
   "id": "3fe8e2da-bc88-4eb4-84ad-f5c4785d7b2b",
   "metadata": {},
   "outputs": [
    {
     "name": "stdout",
     "output_type": "stream",
     "text": [
      "({'timestamp': array([[[1.6377565e+09]],\n",
      "\n",
      "       [[1.6377565e+09]]], dtype=float32), 'cpuinfo': array([[[2339.577, 2339.574, 2339.574, 2339.572, 2339.57 , 2339.567,\n",
      "         2344.936, 2339.566]],\n",
      "\n",
      "       [[2386.008, 2386.355, 2386.066, 2386.064, 2385.964, 2386.053,\n",
      "         2386.064, 2387.912]]], dtype=float32), 'profile': array([[[1.]],\n",
      "\n",
      "       [[1.]]], dtype=float32), 'cpu_idle': array([[[0.        , 0.        , 0.        , 0.        , 0.        ,\n",
      "         0.        , 0.03571429, 0.        ]],\n",
      "\n",
      "       [[0.        , 0.        , 0.        , 0.        , 0.        ,\n",
      "         0.        , 0.        , 0.02173913]]], dtype=float32), 'cpu_user': array([[[0.8888889 , 0.962963  , 1.        , 0.7407407 , 0.9259259 ,\n",
      "         0.89285713, 0.8214286 , 0.7407407 ]],\n",
      "\n",
      "       [[0.8695652 , 0.8695652 , 0.9347826 , 0.9130435 , 0.93333334,\n",
      "         0.8695652 , 0.84782606, 0.7826087 ]]], dtype=float32), 'cpu_system': array([[[0.11111111, 0.03703704, 0.        , 0.25925925, 0.07407407,\n",
      "         0.10714286, 0.14285715, 0.25925925]],\n",
      "\n",
      "       [[0.13043478, 0.13043478, 0.06521739, 0.08695652, 0.06666667,\n",
      "         0.13043478, 0.1521739 , 0.19565217]]], dtype=float32), 'cpu_nice': array([[[0., 0., 0., 0., 0., 0., 0., 0.]],\n",
      "\n",
      "       [[0., 0., 0., 0., 0., 0., 0., 0.]]], dtype=float32), 'power_constraints': array([[[20., 35.]],\n",
      "\n",
      "       [[20., 35.]]], dtype=float32), 'power': array([[[18.982584]],\n",
      "\n",
      "       [[20.765606]]], dtype=float32), 'temp': array([[[71.  , 67.  , 66.  , 68.  , 65.  , 68.  , 51.  , 52.85, 52.85,\n",
      "         71.  ]],\n",
      "\n",
      "       [[74.  , 67.  , 68.  , 68.  , 68.  , 68.  , 51.  , 52.85, 52.85,\n",
      "         74.  ]]], dtype=float32), 'fan_rpm': array([[[2752.]],\n",
      "\n",
      "       [[2754.]]], dtype=float32), 'year': array([[[2021.]],\n",
      "\n",
      "       [[2021.]]], dtype=float32), 'month': array([[[11.]],\n",
      "\n",
      "       [[11.]]], dtype=float32), 'day': array([[[24.]],\n",
      "\n",
      "       [[24.]]], dtype=float32), 'mean_cpu_idle': array([[[0.00446429]],\n",
      "\n",
      "       [[0.00271739]]], dtype=float32), 'ig': array([[[0.]],\n",
      "\n",
      "       [[0.]]], dtype=float32)}, array([[2.],\n",
      "       [2.]], dtype=float32))\n"
     ]
    }
   ],
   "source": [
    "all = tf.data.Dataset.from_generator(gen_generator(ptable), output_types=generator_types(), output_shapes=generator_shapes()) \\\n",
    "    .shuffle(10, reshuffle_each_iteration=False)\n",
    "n = next(all.batch(2).as_numpy_iterator())\n",
    "print(n)"
   ]
  },
  {
   "cell_type": "code",
   "execution_count": 87,
   "id": "d199cb24-4adf-41db-87be-6ec1fed7e72d",
   "metadata": {},
   "outputs": [
    {
     "data": {
      "text/plain": [
       "array([ 2,  1, 10], dtype=int32)"
      ]
     },
     "execution_count": 87,
     "metadata": {},
     "output_type": "execute_result"
    }
   ],
   "source": [
    "tf.shape(n[0]['temp']).numpy()"
   ]
  },
  {
   "cell_type": "code",
   "execution_count": 88,
   "id": "9f76b715-6c1f-435d-802a-a6503be03ac5",
   "metadata": {},
   "outputs": [
    {
     "data": {
      "text/plain": [
       "array([2, 1], dtype=int32)"
      ]
     },
     "execution_count": 88,
     "metadata": {},
     "output_type": "execute_result"
    }
   ],
   "source": [
    "tf.shape(n[1]).numpy()"
   ]
  },
  {
   "cell_type": "code",
   "execution_count": 89,
   "id": "8845e8f7-7134-4102-8a50-bc75fc42e4fd",
   "metadata": {},
   "outputs": [],
   "source": [
    "import utils\n",
    "train_dataset, test_dataset = utils.split_dataset(all, 8)"
   ]
  },
  {
   "cell_type": "markdown",
   "id": "773d1ca7-2918-4b2b-b841-9bb0defa052f",
   "metadata": {},
   "source": [
    "# Lets build a simple model"
   ]
  },
  {
   "cell_type": "code",
   "execution_count": 197,
   "id": "0e6e7e8a-4ddf-4b18-a4fb-529e08cf2d0d",
   "metadata": {},
   "outputs": [],
   "source": [
    "from tensorflow.keras import layers\n",
    "from tensorflow import keras"
   ]
  },
  {
   "cell_type": "code",
   "execution_count": 327,
   "id": "1528b702-e1a1-44c8-9745-d5e0900b76db",
   "metadata": {},
   "outputs": [],
   "source": [
    "class DenseBlock(layers.Layer):\n",
    "    def __init__(self, units, activation='selu', dropout_rate=0.0, l2=0.0001):\n",
    "        super().__init__()\n",
    "        self.dense = layers.Dense(units, activation, kernel_regularizer=keras.regularizers.l2(l2))\n",
    "        self.batchn = layers.BatchNormalization()\n",
    "        self.dropout = layers.Dropout(dropout_rate)\n",
    "    \n",
    "    def call(self, inputs):\n",
    "        x = self.dense(inputs)\n",
    "        x = self.batchn(x)\n",
    "        x = self.dropout(x)\n",
    "        return x"
   ]
  },
  {
   "cell_type": "code",
   "execution_count": 282,
   "id": "ceb5c0db-1477-4763-a0cc-90d4364c0611",
   "metadata": {},
   "outputs": [],
   "source": [
    "from sklearn.preprocessing import LabelEncoder\n",
    "le = LabelEncoder()\n",
    "fit_label_transform = le.fit_transform(ptable['label'])\n",
    "ptable['fit_label'] = fit_label_transform"
   ]
  },
  {
   "cell_type": "code",
   "execution_count": 290,
   "id": "c53c977f-79ca-4b1b-b49c-f5da2e9a2bc7",
   "metadata": {},
   "outputs": [
    {
     "data": {
      "text/plain": [
       "<tf.Tensor: shape=(1, 3), dtype=float32, numpy=array([[0., 1., 0.]], dtype=float32)>"
      ]
     },
     "execution_count": 290,
     "metadata": {},
     "output_type": "execute_result"
    }
   ],
   "source": [
    "tf.reshape(tf.convert_to_tensor(keras.utils.to_categorical(ptable['fit_label'])[0]), (1,3))"
   ]
  },
  {
   "cell_type": "code",
   "execution_count": 302,
   "id": "4985839c-e97e-4801-bb53-c76e957cfe4d",
   "metadata": {},
   "outputs": [],
   "source": [
    "def cat_gen_generator(table):\n",
    "    ptable = table\n",
    "    def generator():\n",
    "        for index, row in ptable.iterrows():\n",
    "            f = {k: convert(k, row[k]) for k in feature_names()}\n",
    "            l = tf.reshape(tf.convert_to_tensor(keras.utils.to_categorical(row['fit_label'], num_classes=3), name='label'), (1, 3))\n",
    "            yield f, l\n",
    "    return generator\n",
    "def generator_types():\n",
    "    return ({k: tf.float32 for k in feature_names()}, tf.float32)\n",
    "def generator_shapes():\n",
    "    _, row = next(ptable.iterrows())\n",
    "    shapes = {k: (1, dim(row[k])) for k in feature_names()}\n",
    "    return tuple([shapes, (1, 3)])"
   ]
  },
  {
   "cell_type": "code",
   "execution_count": 307,
   "id": "3c27a6d5-3ad8-4b9d-9d57-286801445d26",
   "metadata": {},
   "outputs": [],
   "source": [
    "all = tf.data.Dataset.from_generator(cat_gen_generator(ptable), output_types=generator_types(), output_shapes=generator_shapes()) \\\n",
    "    .shuffle(10, reshuffle_each_iteration=False)"
   ]
  },
  {
   "cell_type": "code",
   "execution_count": 339,
   "id": "08dc3b0c-6393-4da2-a0b6-18ca5b37b260",
   "metadata": {},
   "outputs": [],
   "source": [
    "train_dataset, test_dataset = utils.split_dataset(all, 8)"
   ]
  },
  {
   "cell_type": "code",
   "execution_count": 349,
   "id": "6be15b12-f0e7-45fb-86d1-08730d52c571",
   "metadata": {},
   "outputs": [],
   "source": [
    "temp_input = Input(shape=(10,), name=\"temp\")\n",
    "cpu_idle_input = Input(shape=(8,), name=\"cpu_idle\")\n",
    "power_input = Input(shape=(1,), name=\"power\")\n",
    "fan_input = Input(shape=(1,), name=\"fan_rpm\")\n",
    "all_input = [power_input, temp_input] # , cpu_idle_input], fan_input]\n",
    "\n",
    "lx = layers.concatenate(all_input)\n",
    "lx = layers.BatchNormalization()(lx)\n",
    "lx = DenseBlock(32)(lx)\n",
    "lx = keras.layers.Dense(3, activation='softmax')(lx)\n",
    "\n",
    "model=keras.Model(inputs=all_input, outputs=[lx])\n",
    "optimizer = keras.optimizers.Adam(learning_rate=1e-3, clipnorm=1)\n",
    "model.compile(optimizer=optimizer,\n",
    "              loss=keras.losses.CategoricalCrossentropy(),\n",
    "              metrics=[\"acc\"])"
   ]
  },
  {
   "cell_type": "code",
   "execution_count": 350,
   "id": "23da439c-6d9e-45ee-aedc-82e6c8b5c199",
   "metadata": {},
   "outputs": [
    {
     "name": "stdout",
     "output_type": "stream",
     "text": [
      "Epoch 1/10\n",
      "10000/10000 [==============================] - 53s 5ms/step - loss: 0.3597 - acc: 0.9182 - val_loss: 0.3865 - val_acc: 0.9140\n",
      "Epoch 2/10\n",
      "10000/10000 [==============================] - 51s 5ms/step - loss: 0.5794 - acc: 0.8510 - val_loss: 0.3895 - val_acc: 0.9140\n",
      "Epoch 3/10\n",
      "10000/10000 [==============================] - 50s 5ms/step - loss: 0.6677 - acc: 0.8303 - val_loss: 0.3660 - val_acc: 0.9140\n",
      "Epoch 4/10\n",
      "10000/10000 [==============================] - 51s 5ms/step - loss: 0.5449 - acc: 0.8758 - val_loss: 0.3940 - val_acc: 0.9140\n",
      "Epoch 5/10\n",
      " 6644/10000 [==================>...........] - ETA: 11s - loss: 0.6713 - acc: 0.8275"
     ]
    },
    {
     "ename": "KeyboardInterrupt",
     "evalue": "",
     "output_type": "error",
     "traceback": [
      "\u001b[0;31m---------------------------------------------------------------------------\u001b[0m",
      "\u001b[0;31mKeyboardInterrupt\u001b[0m                         Traceback (most recent call last)",
      "\u001b[0;32m<ipython-input-350-66926577c18e>\u001b[0m in \u001b[0;36m<module>\u001b[0;34m\u001b[0m\n\u001b[1;32m      2\u001b[0m           \u001b[0mvalidation_data\u001b[0m\u001b[0;34m=\u001b[0m\u001b[0mtest_dataset\u001b[0m\u001b[0;34m.\u001b[0m\u001b[0mtake\u001b[0m\u001b[0;34m(\u001b[0m\u001b[0;36m1000\u001b[0m\u001b[0;34m)\u001b[0m\u001b[0;34m,\u001b[0m\u001b[0;34m\u001b[0m\u001b[0;34m\u001b[0m\u001b[0m\n\u001b[1;32m      3\u001b[0m           \u001b[0mepochs\u001b[0m\u001b[0;34m=\u001b[0m\u001b[0;36m10\u001b[0m\u001b[0;34m,\u001b[0m \u001b[0mbatch_size\u001b[0m\u001b[0;34m=\u001b[0m\u001b[0;36m1000\u001b[0m\u001b[0;34m,\u001b[0m\u001b[0;34m\u001b[0m\u001b[0;34m\u001b[0m\u001b[0m\n\u001b[0;32m----> 4\u001b[0;31m           callbacks = [utils.lr,utils.es], steps_per_epoch=10000)\n\u001b[0m",
      "\u001b[0;32m~/.pyenv/versions/3.6.11/envs/smart-fancontrol/lib/python3.6/site-packages/keras/engine/training.py\u001b[0m in \u001b[0;36mfit\u001b[0;34m(self, x, y, batch_size, epochs, verbose, callbacks, validation_split, validation_data, shuffle, class_weight, sample_weight, initial_epoch, steps_per_epoch, validation_steps, validation_batch_size, validation_freq, max_queue_size, workers, use_multiprocessing)\u001b[0m\n\u001b[1;32m   1182\u001b[0m                 _r=1):\n\u001b[1;32m   1183\u001b[0m               \u001b[0mcallbacks\u001b[0m\u001b[0;34m.\u001b[0m\u001b[0mon_train_batch_begin\u001b[0m\u001b[0;34m(\u001b[0m\u001b[0mstep\u001b[0m\u001b[0;34m)\u001b[0m\u001b[0;34m\u001b[0m\u001b[0;34m\u001b[0m\u001b[0m\n\u001b[0;32m-> 1184\u001b[0;31m               \u001b[0mtmp_logs\u001b[0m \u001b[0;34m=\u001b[0m \u001b[0mself\u001b[0m\u001b[0;34m.\u001b[0m\u001b[0mtrain_function\u001b[0m\u001b[0;34m(\u001b[0m\u001b[0miterator\u001b[0m\u001b[0;34m)\u001b[0m\u001b[0;34m\u001b[0m\u001b[0;34m\u001b[0m\u001b[0m\n\u001b[0m\u001b[1;32m   1185\u001b[0m               \u001b[0;32mif\u001b[0m \u001b[0mdata_handler\u001b[0m\u001b[0;34m.\u001b[0m\u001b[0mshould_sync\u001b[0m\u001b[0;34m:\u001b[0m\u001b[0;34m\u001b[0m\u001b[0;34m\u001b[0m\u001b[0m\n\u001b[1;32m   1186\u001b[0m                 \u001b[0mcontext\u001b[0m\u001b[0;34m.\u001b[0m\u001b[0masync_wait\u001b[0m\u001b[0;34m(\u001b[0m\u001b[0;34m)\u001b[0m\u001b[0;34m\u001b[0m\u001b[0;34m\u001b[0m\u001b[0m\n",
      "\u001b[0;32m~/.pyenv/versions/3.6.11/envs/smart-fancontrol/lib/python3.6/site-packages/tensorflow/python/eager/def_function.py\u001b[0m in \u001b[0;36m__call__\u001b[0;34m(self, *args, **kwds)\u001b[0m\n\u001b[1;32m    883\u001b[0m \u001b[0;34m\u001b[0m\u001b[0m\n\u001b[1;32m    884\u001b[0m       \u001b[0;32mwith\u001b[0m \u001b[0mOptionalXlaContext\u001b[0m\u001b[0;34m(\u001b[0m\u001b[0mself\u001b[0m\u001b[0;34m.\u001b[0m\u001b[0m_jit_compile\u001b[0m\u001b[0;34m)\u001b[0m\u001b[0;34m:\u001b[0m\u001b[0;34m\u001b[0m\u001b[0;34m\u001b[0m\u001b[0m\n\u001b[0;32m--> 885\u001b[0;31m         \u001b[0mresult\u001b[0m \u001b[0;34m=\u001b[0m \u001b[0mself\u001b[0m\u001b[0;34m.\u001b[0m\u001b[0m_call\u001b[0m\u001b[0;34m(\u001b[0m\u001b[0;34m*\u001b[0m\u001b[0margs\u001b[0m\u001b[0;34m,\u001b[0m \u001b[0;34m**\u001b[0m\u001b[0mkwds\u001b[0m\u001b[0;34m)\u001b[0m\u001b[0;34m\u001b[0m\u001b[0;34m\u001b[0m\u001b[0m\n\u001b[0m\u001b[1;32m    886\u001b[0m \u001b[0;34m\u001b[0m\u001b[0m\n\u001b[1;32m    887\u001b[0m       \u001b[0mnew_tracing_count\u001b[0m \u001b[0;34m=\u001b[0m \u001b[0mself\u001b[0m\u001b[0;34m.\u001b[0m\u001b[0mexperimental_get_tracing_count\u001b[0m\u001b[0;34m(\u001b[0m\u001b[0;34m)\u001b[0m\u001b[0;34m\u001b[0m\u001b[0;34m\u001b[0m\u001b[0m\n",
      "\u001b[0;32m~/.pyenv/versions/3.6.11/envs/smart-fancontrol/lib/python3.6/site-packages/tensorflow/python/eager/def_function.py\u001b[0m in \u001b[0;36m_call\u001b[0;34m(self, *args, **kwds)\u001b[0m\n\u001b[1;32m    915\u001b[0m       \u001b[0;31m# In this case we have created variables on the first call, so we run the\u001b[0m\u001b[0;34m\u001b[0m\u001b[0;34m\u001b[0m\u001b[0;34m\u001b[0m\u001b[0m\n\u001b[1;32m    916\u001b[0m       \u001b[0;31m# defunned version which is guaranteed to never create variables.\u001b[0m\u001b[0;34m\u001b[0m\u001b[0;34m\u001b[0m\u001b[0;34m\u001b[0m\u001b[0m\n\u001b[0;32m--> 917\u001b[0;31m       \u001b[0;32mreturn\u001b[0m \u001b[0mself\u001b[0m\u001b[0;34m.\u001b[0m\u001b[0m_stateless_fn\u001b[0m\u001b[0;34m(\u001b[0m\u001b[0;34m*\u001b[0m\u001b[0margs\u001b[0m\u001b[0;34m,\u001b[0m \u001b[0;34m**\u001b[0m\u001b[0mkwds\u001b[0m\u001b[0;34m)\u001b[0m  \u001b[0;31m# pylint: disable=not-callable\u001b[0m\u001b[0;34m\u001b[0m\u001b[0;34m\u001b[0m\u001b[0m\n\u001b[0m\u001b[1;32m    918\u001b[0m     \u001b[0;32melif\u001b[0m \u001b[0mself\u001b[0m\u001b[0;34m.\u001b[0m\u001b[0m_stateful_fn\u001b[0m \u001b[0;32mis\u001b[0m \u001b[0;32mnot\u001b[0m \u001b[0;32mNone\u001b[0m\u001b[0;34m:\u001b[0m\u001b[0;34m\u001b[0m\u001b[0;34m\u001b[0m\u001b[0m\n\u001b[1;32m    919\u001b[0m       \u001b[0;31m# Release the lock early so that multiple threads can perform the call\u001b[0m\u001b[0;34m\u001b[0m\u001b[0;34m\u001b[0m\u001b[0;34m\u001b[0m\u001b[0m\n",
      "\u001b[0;32m~/.pyenv/versions/3.6.11/envs/smart-fancontrol/lib/python3.6/site-packages/tensorflow/python/eager/function.py\u001b[0m in \u001b[0;36m__call__\u001b[0;34m(self, *args, **kwargs)\u001b[0m\n\u001b[1;32m   3038\u001b[0m        filtered_flat_args) = self._maybe_define_function(args, kwargs)\n\u001b[1;32m   3039\u001b[0m     return graph_function._call_flat(\n\u001b[0;32m-> 3040\u001b[0;31m         filtered_flat_args, captured_inputs=graph_function.captured_inputs)  # pylint: disable=protected-access\n\u001b[0m\u001b[1;32m   3041\u001b[0m \u001b[0;34m\u001b[0m\u001b[0m\n\u001b[1;32m   3042\u001b[0m   \u001b[0;34m@\u001b[0m\u001b[0mproperty\u001b[0m\u001b[0;34m\u001b[0m\u001b[0;34m\u001b[0m\u001b[0m\n",
      "\u001b[0;32m~/.pyenv/versions/3.6.11/envs/smart-fancontrol/lib/python3.6/site-packages/tensorflow/python/eager/function.py\u001b[0m in \u001b[0;36m_call_flat\u001b[0;34m(self, args, captured_inputs, cancellation_manager)\u001b[0m\n\u001b[1;32m   1962\u001b[0m       \u001b[0;31m# No tape is watching; skip to running the function.\u001b[0m\u001b[0;34m\u001b[0m\u001b[0;34m\u001b[0m\u001b[0;34m\u001b[0m\u001b[0m\n\u001b[1;32m   1963\u001b[0m       return self._build_call_outputs(self._inference_function.call(\n\u001b[0;32m-> 1964\u001b[0;31m           ctx, args, cancellation_manager=cancellation_manager))\n\u001b[0m\u001b[1;32m   1965\u001b[0m     forward_backward = self._select_forward_and_backward_functions(\n\u001b[1;32m   1966\u001b[0m         \u001b[0margs\u001b[0m\u001b[0;34m,\u001b[0m\u001b[0;34m\u001b[0m\u001b[0;34m\u001b[0m\u001b[0m\n",
      "\u001b[0;32m~/.pyenv/versions/3.6.11/envs/smart-fancontrol/lib/python3.6/site-packages/tensorflow/python/eager/function.py\u001b[0m in \u001b[0;36mcall\u001b[0;34m(self, ctx, args, cancellation_manager)\u001b[0m\n\u001b[1;32m    594\u001b[0m               \u001b[0minputs\u001b[0m\u001b[0;34m=\u001b[0m\u001b[0margs\u001b[0m\u001b[0;34m,\u001b[0m\u001b[0;34m\u001b[0m\u001b[0;34m\u001b[0m\u001b[0m\n\u001b[1;32m    595\u001b[0m               \u001b[0mattrs\u001b[0m\u001b[0;34m=\u001b[0m\u001b[0mattrs\u001b[0m\u001b[0;34m,\u001b[0m\u001b[0;34m\u001b[0m\u001b[0;34m\u001b[0m\u001b[0m\n\u001b[0;32m--> 596\u001b[0;31m               ctx=ctx)\n\u001b[0m\u001b[1;32m    597\u001b[0m         \u001b[0;32melse\u001b[0m\u001b[0;34m:\u001b[0m\u001b[0;34m\u001b[0m\u001b[0;34m\u001b[0m\u001b[0m\n\u001b[1;32m    598\u001b[0m           outputs = execute.execute_with_cancellation(\n",
      "\u001b[0;32m~/.pyenv/versions/3.6.11/envs/smart-fancontrol/lib/python3.6/site-packages/tensorflow/python/eager/execute.py\u001b[0m in \u001b[0;36mquick_execute\u001b[0;34m(op_name, num_outputs, inputs, attrs, ctx, name)\u001b[0m\n\u001b[1;32m     58\u001b[0m     \u001b[0mctx\u001b[0m\u001b[0;34m.\u001b[0m\u001b[0mensure_initialized\u001b[0m\u001b[0;34m(\u001b[0m\u001b[0;34m)\u001b[0m\u001b[0;34m\u001b[0m\u001b[0;34m\u001b[0m\u001b[0m\n\u001b[1;32m     59\u001b[0m     tensors = pywrap_tfe.TFE_Py_Execute(ctx._handle, device_name, op_name,\n\u001b[0;32m---> 60\u001b[0;31m                                         inputs, attrs, num_outputs)\n\u001b[0m\u001b[1;32m     61\u001b[0m   \u001b[0;32mexcept\u001b[0m \u001b[0mcore\u001b[0m\u001b[0;34m.\u001b[0m\u001b[0m_NotOkStatusException\u001b[0m \u001b[0;32mas\u001b[0m \u001b[0me\u001b[0m\u001b[0;34m:\u001b[0m\u001b[0;34m\u001b[0m\u001b[0;34m\u001b[0m\u001b[0m\n\u001b[1;32m     62\u001b[0m     \u001b[0;32mif\u001b[0m \u001b[0mname\u001b[0m \u001b[0;32mis\u001b[0m \u001b[0;32mnot\u001b[0m \u001b[0;32mNone\u001b[0m\u001b[0;34m:\u001b[0m\u001b[0;34m\u001b[0m\u001b[0;34m\u001b[0m\u001b[0m\n",
      "\u001b[0;31mKeyboardInterrupt\u001b[0m: "
     ]
    }
   ],
   "source": [
    "model.fit(train_dataset,\n",
    "          validation_data=test_dataset.take(1000),\n",
    "          epochs=10, batch_size=1000,\n",
    "          callbacks = [utils.lr,utils.es], steps_per_epoch=10000)"
   ]
  },
  {
   "cell_type": "code",
   "execution_count": 357,
   "id": "3ad68db1-5b7c-4a78-85f0-e71f02c9134c",
   "metadata": {},
   "outputs": [
    {
     "name": "stdout",
     "output_type": "stream",
     "text": [
      "power\n",
      "temp\n",
      "concatenate_50\n",
      "batch_normalization_172\n",
      "  weights: [1. 1. 1. 1. 1. 1. 1. 1. 1. 1. 1.]\n",
      "  bias: [0. 0. 0. 0. 0. 0. 0. 0. 0. 0. 0.]\n",
      "dense_block_128\n",
      "  weights: [[ 4.56349888e-32  8.30489698e-33  1.84040053e-32  1.88553482e-32\n",
      "   3.87252684e-32 -5.03828986e-32  3.92921682e-32 -3.32141219e-32\n",
      "  -4.90692602e-32  1.08793060e-32  1.16255333e-32 -3.00686606e-32\n",
      "   1.43011642e-32 -7.19868700e-33  2.16897736e-32 -1.54654796e-32\n",
      "  -4.58054120e-32 -8.04992197e-33  1.35567706e-32  1.57645180e-34\n",
      "   1.40462630e-33 -5.52283510e-32  5.84293867e-32 -5.55687448e-32\n",
      "   9.20604711e-33 -1.95195128e-32 -3.15222534e-32  2.88904068e-32\n",
      "   5.86942021e-32  4.14473196e-32 -1.21437618e-32 -5.17172258e-32]\n",
      " [ 2.63721687e-32 -5.57209772e-32 -5.40079410e-32 -5.01718856e-32\n",
      "  -8.69709479e-33 -3.34246118e-32 -2.04229595e-32 -2.67443479e-32\n",
      "   1.84734135e-33  5.05725000e-32 -3.24720235e-32  2.21463224e-32\n",
      "  -1.43356679e-32  2.56382929e-32  2.74124401e-32 -2.87342365e-32\n",
      "   4.04581587e-32 -4.81717967e-32  2.31824935e-33 -3.31860158e-32\n",
      "  -2.59007250e-32 -4.64617992e-32  1.07323222e-32 -1.30358444e-32\n",
      "   5.54950530e-32  7.85850373e-33 -5.52262763e-32  2.83592097e-32\n",
      "   4.36631646e-33 -7.89746476e-33 -2.98367980e-33  3.86399275e-32]\n",
      " [ 4.92640749e-32 -4.26263345e-32 -3.82547298e-33 -2.84772852e-32\n",
      "   2.57522343e-34 -4.19207528e-32 -3.39594352e-32  1.68626457e-32\n",
      "   5.04305003e-32 -4.38603538e-32  3.50202278e-32 -7.60523833e-33\n",
      "  -5.42379118e-33  3.07766344e-32  1.88925819e-32  5.33746493e-32\n",
      "   4.50759854e-32 -2.17687668e-32  2.53607411e-32 -4.01915066e-32\n",
      "   4.69439782e-32 -1.65411304e-32  8.11100653e-33 -2.28669592e-32\n",
      "  -2.44450692e-32  3.46475079e-32 -2.49672208e-32 -5.62594902e-33\n",
      "  -5.61522837e-32 -9.34447847e-33 -2.25450119e-32 -4.57092712e-32]\n",
      " [ 4.54894273e-32  1.07779843e-32  3.79812775e-32 -8.90465550e-33\n",
      "   3.63718024e-32  2.83903045e-32  3.42131569e-32  1.41467160e-32\n",
      "  -5.22443410e-32  6.95962157e-33 -4.21454133e-32  3.83271402e-32\n",
      "   2.96345035e-32 -4.26309189e-32 -2.25585007e-32 -4.76358154e-32\n",
      "  -1.99056773e-32  2.89113982e-32  3.11749477e-32  2.19561112e-32\n",
      "   4.26653492e-32 -5.60695348e-32  4.47397793e-32 -2.54330968e-33\n",
      "  -4.40588918e-32  5.15499706e-32 -2.20865808e-32  5.55884461e-32\n",
      "   8.19031126e-33 -2.99461947e-32 -4.79062937e-32  5.19976929e-32]\n",
      " [ 2.52730992e-32  2.12593179e-32  5.11579667e-32 -3.43491910e-32\n",
      "   5.47503774e-32  4.63202138e-32 -3.68777381e-32  3.99665523e-32\n",
      "  -3.71439023e-32  5.64622145e-32  5.29133736e-32 -2.12852346e-32\n",
      "  -3.97799308e-32 -4.60291614e-32 -1.27908935e-32  1.72397017e-32\n",
      "  -1.40297822e-32  4.24392869e-32  2.78404376e-32  4.88966065e-32\n",
      "   1.43997000e-32  3.63977367e-32 -3.60419087e-32  3.39341180e-32\n",
      "  -1.44011606e-32  2.43897034e-32 -3.20888182e-32  3.77460420e-33\n",
      "   2.47154182e-32  5.61526069e-32 -2.54352939e-32 -9.42615255e-33]\n",
      " [-4.08666106e-32 -5.86857363e-33  3.20572209e-32 -6.53734285e-34\n",
      "  -9.24590812e-33  4.22320796e-32 -3.01747578e-32  5.09122708e-32\n",
      "   2.69480611e-33  2.32261741e-32 -2.33159393e-32 -1.69723047e-32\n",
      "  -8.64657792e-33  5.98887482e-33 -3.56875618e-32  5.09600311e-32\n",
      "   5.55341845e-33  4.09103772e-32  5.29156459e-33 -4.03826861e-32\n",
      "  -5.57347069e-32  1.57847071e-32  2.85611589e-33 -2.62310536e-32\n",
      "   2.56824063e-32  4.25962639e-33  4.98135009e-32 -1.39219718e-32\n",
      "   2.22320383e-33  6.81780846e-33  3.36056320e-32 -3.03294029e-32]\n",
      " [ 5.39449874e-32 -2.65931558e-32  2.97424080e-32  5.29447534e-32\n",
      "  -2.02845906e-32 -1.11430047e-32 -5.22638953e-32  5.57502257e-34\n",
      "  -1.77821027e-32 -5.55499075e-32 -1.36384205e-32  2.45681317e-32\n",
      "   5.41976305e-32 -4.41187421e-32 -2.59362073e-32  3.54201515e-32\n",
      "  -1.08083186e-32  2.23733045e-32  2.77883397e-32  2.58998081e-32\n",
      "   5.54756574e-32  3.68277913e-32 -6.38552996e-33  2.71460584e-32\n",
      "   9.63872601e-33  5.64588644e-32 -5.00870150e-32  3.52493199e-32\n",
      "  -6.90192022e-33 -1.97426657e-32  3.85813409e-32 -2.32281916e-32]\n",
      " [-4.16222860e-33  1.36336685e-32  4.81601975e-32  2.39765230e-32\n",
      "  -5.00694119e-32 -2.90340434e-32 -2.69721940e-32  8.32522642e-33\n",
      "  -3.80264076e-32 -1.85495874e-32 -5.64659408e-32 -4.28615539e-32\n",
      "  -2.32436449e-32 -3.12062952e-32  1.88147657e-32  4.56537732e-32\n",
      "  -2.57772687e-32  1.12402798e-32  1.06222886e-32  2.37423557e-33\n",
      "   5.31178508e-32  3.95287673e-33  5.35641390e-32 -4.40102440e-32\n",
      "  -2.92290020e-32  1.77008834e-32  5.11836924e-32  5.86524661e-34\n",
      "   1.55546129e-32 -3.60155277e-32 -3.07081736e-34 -1.86854011e-32]\n",
      " [-4.73475577e-32  1.87394400e-32  2.55332214e-33 -2.33909373e-32\n",
      "   3.58378914e-33 -3.37104185e-32 -3.76481571e-32 -2.32134626e-32\n",
      "  -4.16924013e-32  2.89759152e-32 -4.41553176e-32  3.09602584e-32\n",
      "  -2.47288747e-32 -1.33787890e-32 -2.18985987e-32  3.61293332e-32\n",
      "   2.44677386e-33  5.53203922e-32  2.65507851e-32 -3.14565286e-32\n",
      "   2.41440456e-32  2.17906060e-32  3.33069859e-33 -4.45457698e-32\n",
      "   4.35949066e-32  2.30562300e-32  2.22605599e-32 -5.21725418e-32\n",
      "   3.31454877e-32 -2.83082990e-32  5.35776278e-32 -1.51224674e-32]\n",
      " [-1.63809913e-33  4.03079805e-32 -1.73727603e-32 -3.02080213e-32\n",
      "  -3.38088926e-33 -1.22446001e-32 -4.44897282e-32  2.85478854e-32\n",
      "  -1.27406602e-32  4.27279854e-32 -5.88820990e-32 -2.03027020e-32\n",
      "  -3.18866655e-33  1.64929263e-32  5.38251693e-32 -4.08082856e-32\n",
      "   8.42589796e-33 -5.30909790e-32  5.42254251e-32  4.02846675e-32\n",
      "  -1.62842996e-32  4.04544471e-32  4.99332956e-32  9.27192291e-34\n",
      "   1.93810469e-32 -1.89333789e-32 -9.09997050e-33  1.80090495e-32\n",
      "   1.71229634e-32  5.99562106e-33 -1.65819715e-33  2.18979860e-32]\n",
      " [ 5.04033640e-32  2.81446614e-32 -4.72659372e-32  1.23400899e-32\n",
      "   4.78142818e-32 -3.65837572e-33  4.50396009e-32 -6.70061461e-33\n",
      "  -2.37463230e-32  3.50614700e-32 -5.23883390e-32  4.96046920e-32\n",
      "   3.28044547e-33  5.13856482e-32  2.59551504e-33 -4.63126201e-32\n",
      "   1.74073845e-32  5.67160331e-32 -2.20790870e-32  1.70718279e-32\n",
      "   4.69674910e-32  4.26672300e-32 -2.27088787e-32  1.57819961e-32\n",
      "  -2.47510974e-32 -3.93936868e-32  3.42022630e-32 -1.91001610e-32\n",
      "   5.16941508e-32 -1.22346187e-32 -3.55121582e-33  2.89058822e-32]]\n",
      "  bias: [0. 0. 0. 0. 0. 0. 0. 0. 0. 0. 0. 0. 0. 0. 0. 0. 0. 0. 0. 0. 0. 0. 0. 0.\n",
      " 0. 0. 0. 0. 0. 0. 0. 0.]\n",
      "dense_183\n",
      "  weights: [[ 0.42769137 -0.6251773   0.54482144]\n",
      " [-0.13223425  0.6024391  -0.4454666 ]\n",
      " [ 0.02654481 -0.58441573  0.33032864]\n",
      " [ 0.409556   -0.5461624   0.29673758]\n",
      " [-0.3022558   0.75590444 -0.56471145]\n",
      " [ 0.63573825 -0.4344926   0.67734295]\n",
      " [-0.50565606  0.42411396 -0.6240215 ]\n",
      " [ 0.40189165 -0.51617473  0.35880733]\n",
      " [-0.7184023   0.27853212 -0.5932601 ]\n",
      " [ 0.241931   -0.79037446  0.61984456]\n",
      " [-0.15219796  0.8039491   0.01283347]\n",
      " [-0.20427585  0.61099225 -0.09233177]\n",
      " [ 0.22508742 -0.75087523  0.19591293]\n",
      " [ 0.41986185 -0.32201436  0.42739505]\n",
      " [-0.5192356   0.75247556 -0.11380575]\n",
      " [-0.6749156   0.29521218 -0.47900078]\n",
      " [ 0.17267217 -0.41463023  0.43810248]\n",
      " [ 0.3336201  -0.5474196   0.45056912]\n",
      " [ 0.6461566  -0.60827774 -0.08023975]\n",
      " [ 0.49508718 -0.20021993  0.60963917]\n",
      " [-0.33687434  0.7982586  -0.12648997]\n",
      " [-0.5906902   0.29720837 -0.52296096]\n",
      " [ 0.29265845 -0.6258664   0.5730821 ]\n",
      " [ 0.33374062 -0.8207562   0.32940152]\n",
      " [ 0.3080005  -0.5117984   0.37368742]\n",
      " [ 0.38383207 -0.6089185   0.37724403]\n",
      " [ 0.48578644 -0.80232435  0.46147445]\n",
      " [ 0.48738444 -0.61954165  0.31568635]\n",
      " [-0.31660256  0.8207354  -0.09447955]\n",
      " [-0.32933855  0.5895624  -0.6317205 ]\n",
      " [ 0.44000962 -0.30496082  0.5285411 ]\n",
      " [-0.57861435  0.7175675  -0.3702211 ]]\n",
      "  bias: [  7.7201734 -10.096887    5.984294 ]\n"
     ]
    }
   ],
   "source": [
    "for layer in model.layers:\n",
    "    print(layer.name)\n",
    "    if layer.get_weights():\n",
    "        print(\"  weights: \" + str(layer.get_weights()[0]))\n",
    "        print(\"  bias: \" + str(layer.get_weights()[1]))"
   ]
  },
  {
   "cell_type": "code",
   "execution_count": 131,
   "id": "99d84709-b705-4e25-844e-d04496b68213",
   "metadata": {},
   "outputs": [
    {
     "data": {
      "text/plain": [
       "{'temp': ['temp1.temp1_input',\n",
       "  'Core 0.temp2_input',\n",
       "  'Core 1.temp3_input',\n",
       "  'Core 2.temp4_input',\n",
       "  'Core 3.temp5_input',\n",
       "  'Package id 0.temp1_input',\n",
       "  'temp1.temp1_input',\n",
       "  'Composite.temp1_input',\n",
       "  'Sensor 1.temp2_input',\n",
       "  'CPU.temp1_input'],\n",
       " 'fan_rpm': ['Fan1.fan1_input']}"
      ]
     },
     "execution_count": 131,
     "metadata": {},
     "output_type": "execute_result"
    }
   ],
   "source": [
    "# extract_sensors_tensor_names output\n",
    "{'temp': ['temp1.temp1_input', 'Core 0.temp2_input', 'Core 1.temp3_input', 'Core 2.temp4_input', 'Core 3.temp5_input', 'Package id 0.temp1_input', 'temp1.temp1_input', 'Composite.temp1_input', 'Sensor 1.temp2_input', 'CPU.temp1_input'], 'fan_rpm': ['Fan1.fan1_input']}"
   ]
  },
  {
   "cell_type": "code",
   "execution_count": 114,
   "id": "954b9be7-f5fa-45a8-a87b-48a8926a201d",
   "metadata": {},
   "outputs": [
    {
     "data": {
      "text/plain": [
       "array([[[65.  , 63.  , 66.  , 65.  , 64.  , 66.  , 48.  , 50.85, 50.85,\n",
       "         65.  ]],\n",
       "\n",
       "       [[66.  , 79.  , 80.  , 76.  , 80.  , 80.  , 54.  , 55.85, 55.85,\n",
       "         66.  ]]], dtype=float32)"
      ]
     },
     "execution_count": 114,
     "metadata": {},
     "output_type": "execute_result"
    }
   ],
   "source": [
    "n[0]['temp']"
   ]
  },
  {
   "cell_type": "markdown",
   "id": "a0ae944d-3695-4f82-b049-6ac2116dbf58",
   "metadata": {},
   "source": [
    "It appears that these four are the only ones that matter\n",
    "'Core 0.temp2_input' 'CPU.temp1_input' 'Composite.temp1_input', 'Sensor 1.temp2_input' for the linear model"
   ]
  },
  {
   "cell_type": "markdown",
   "id": "49e31478-7f6a-47f3-bf74-68e10b1d5198",
   "metadata": {},
   "source": [
    "Let's save the model and then evaluate it on the test set"
   ]
  },
  {
   "cell_type": "code",
   "execution_count": 115,
   "id": "8988e3f2-c07b-4b43-89ed-05809ed2935a",
   "metadata": {},
   "outputs": [
    {
     "name": "stdout",
     "output_type": "stream",
     "text": [
      "INFO:tensorflow:Assets written to: clean_train/assets\n"
     ]
    }
   ],
   "source": [
    "linear_model.save(\"clean_train\")"
   ]
  },
  {
   "cell_type": "code",
   "execution_count": 132,
   "id": "cc96e629-c7b7-4782-a982-505cc5688794",
   "metadata": {},
   "outputs": [
    {
     "name": "stdout",
     "output_type": "stream",
     "text": [
      "Evaluate on test data\n",
      "102050/102050 [==============================] - 789s 8ms/step - loss: 0.0913\n",
      "test loss, test acc: 0.09127047657966614\n"
     ]
    }
   ],
   "source": [
    "print(\"Evaluate on test data\")\n",
    "results = linear_model.evaluate(test_dataset, batch_size=1024)\n",
    "print(\"test loss, test acc:\", results)"
   ]
  },
  {
   "cell_type": "markdown",
   "id": "44234947-ba81-4d94-99f9-426cc69c6273",
   "metadata": {},
   "source": [
    "The loss a bit higher than the training loss. So we probably overfit that data.\n",
    "\n",
    "But that's ok. Right now we're just trying to see if we can learn anything. i.e. there are some correlations to be had in the data.\n",
    "\n",
    "In this setup we are really just trying to learn the heuristic and since that is non-linear we'll alway be a bit off with this linear model."
   ]
  },
  {
   "cell_type": "code",
   "execution_count": 135,
   "id": "e3aa6b96-19c6-4bd2-9985-d6f8b88b6dda",
   "metadata": {},
   "outputs": [
    {
     "data": {
      "text/plain": [
       "array([[1.018949]], dtype=float32)"
      ]
     },
     "execution_count": 135,
     "metadata": {},
     "output_type": "execute_result"
    }
   ],
   "source": [
    "f = {'power': tf.reshape(tf.constant(5.0), (1,1)),\n",
    "     'temp': tf.reshape(tf.constant([39., 33., 34., 34., 34., 38., 36., 42.85, 42.85, 39.]), (1, 10))}\n",
    "linear_model.predict(f)"
   ]
  },
  {
   "cell_type": "code",
   "execution_count": 136,
   "id": "8ac5871b-5aaf-4177-9384-5598e95bc026",
   "metadata": {},
   "outputs": [],
   "source": [
    "model = tf.keras.models.load_model('/home/danielk/code/smart-fancontrol/features/clean_train')"
   ]
  },
  {
   "cell_type": "code",
   "execution_count": 137,
   "id": "2ca3a2d1-831a-4c3a-a7ea-e484ebc1bc04",
   "metadata": {},
   "outputs": [
    {
     "data": {
      "text/plain": [
       "array([[1.018949]], dtype=float32)"
      ]
     },
     "execution_count": 137,
     "metadata": {},
     "output_type": "execute_result"
    }
   ],
   "source": [
    "model.predict(f)"
   ]
  },
  {
   "cell_type": "code",
   "execution_count": 139,
   "id": "09c6aa34-eb80-4b74-ae66-b50a44883bf7",
   "metadata": {},
   "outputs": [
    {
     "data": {
      "text/plain": [
       "array([[8.990961]], dtype=float32)"
      ]
     },
     "execution_count": 139,
     "metadata": {},
     "output_type": "execute_result"
    }
   ],
   "source": [
    "f = {'power': tf.reshape(tf.constant(5.0), (1,1)),\n",
    "     'temp': tf.reshape(tf.constant([79., 33., 34., 34., 34., 38., 36., 92.85, 92.85, 69.]), (1, 10))}\n",
    "model.predict(f)"
   ]
  },
  {
   "cell_type": "code",
   "execution_count": 140,
   "id": "d7668d92-821b-4f2e-9ec1-bd3bf71d4a26",
   "metadata": {},
   "outputs": [
    {
     "data": {
      "text/plain": [
       "array([[-1.9199204]], dtype=float32)"
      ]
     },
     "execution_count": 140,
     "metadata": {},
     "output_type": "execute_result"
    }
   ],
   "source": [
    "f = {'power': tf.reshape(tf.constant(5.0), (1,1)),\n",
    "     'temp': tf.reshape(tf.constant([79., 33., 34., 34., 34., 38., 36., 92.85, 92.85, 89.]), (1, 10))}\n",
    "model.predict(f)"
   ]
  },
  {
   "cell_type": "markdown",
   "id": "fea12d81-030e-4641-83d3-9f644e95190e",
   "metadata": {},
   "source": [
    "Some of what has been learned is bunk :) Higher temps should not make the fan go slower!"
   ]
  }
 ],
 "metadata": {
  "kernelspec": {
   "display_name": "Python 3",
   "language": "python",
   "name": "python3"
  },
  "language_info": {
   "codemirror_mode": {
    "name": "ipython",
    "version": 3
   },
   "file_extension": ".py",
   "mimetype": "text/x-python",
   "name": "python",
   "nbconvert_exporter": "python",
   "pygments_lexer": "ipython3",
   "version": "3.6.11"
  }
 },
 "nbformat": 4,
 "nbformat_minor": 5
}
